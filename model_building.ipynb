{
 "cells": [
  {
   "cell_type": "code",
   "execution_count": 350,
   "id": "bd121e8d",
   "metadata": {},
   "outputs": [],
   "source": [
    "import pandas as pd\n",
    "from matplotlib import pyplot as plt\n",
    "import numpy as np\n",
    "import seaborn as sns\n",
    "import sklearn\n",
    "from sklearn.model_selection import train_test_split\n",
    "from sklearn.feature_selection import SelectKBest, f_classif, chi2\n",
    "from sklearn.linear_model import LogisticRegression\n",
    "from xgboost import XGBClassifier\n",
    "from sklearn.metrics import accuracy_score\n",
    "from sklearn.ensemble import RandomForestClassifier\n",
    "from sklearn.model_selection import GridSearchCV, StratifiedKFold\n",
    "from sklearn.metrics import precision_recall_curve"
   ]
  },
  {
   "cell_type": "code",
   "execution_count": 351,
   "id": "dcbf3a2b",
   "metadata": {},
   "outputs": [
    {
     "data": {
      "text/html": [
       "<div>\n",
       "<style scoped>\n",
       "    .dataframe tbody tr th:only-of-type {\n",
       "        vertical-align: middle;\n",
       "    }\n",
       "\n",
       "    .dataframe tbody tr th {\n",
       "        vertical-align: top;\n",
       "    }\n",
       "\n",
       "    .dataframe thead th {\n",
       "        text-align: right;\n",
       "    }\n",
       "</style>\n",
       "<table border=\"1\" class=\"dataframe\">\n",
       "  <thead>\n",
       "    <tr style=\"text-align: right;\">\n",
       "      <th></th>\n",
       "      <th>PLAYER</th>\n",
       "      <th>ROOKIE</th>\n",
       "      <th>FTA</th>\n",
       "      <th>AST</th>\n",
       "      <th>DREB</th>\n",
       "      <th>STL</th>\n",
       "      <th>OREB</th>\n",
       "      <th>GP</th>\n",
       "      <th>BLK</th>\n",
       "      <th>PF</th>\n",
       "      <th>...</th>\n",
       "      <th>ThreePPercent</th>\n",
       "      <th>FGPercent</th>\n",
       "      <th>GUARD</th>\n",
       "      <th>FORWARD</th>\n",
       "      <th>WEIGHT</th>\n",
       "      <th>HEIGHT</th>\n",
       "      <th>CENTER</th>\n",
       "      <th>YEAR</th>\n",
       "      <th>OVERALL PICK</th>\n",
       "      <th>ROTY</th>\n",
       "    </tr>\n",
       "  </thead>\n",
       "  <tbody>\n",
       "    <tr>\n",
       "      <th>0</th>\n",
       "      <td>Kwame Brown</td>\n",
       "      <td>0</td>\n",
       "      <td>1.7</td>\n",
       "      <td>0.8</td>\n",
       "      <td>2.4</td>\n",
       "      <td>0.3</td>\n",
       "      <td>1.1</td>\n",
       "      <td>57.0</td>\n",
       "      <td>0.5</td>\n",
       "      <td>1.8</td>\n",
       "      <td>...</td>\n",
       "      <td>0.0</td>\n",
       "      <td>38.7</td>\n",
       "      <td>0</td>\n",
       "      <td>0</td>\n",
       "      <td>132.0</td>\n",
       "      <td>2.11</td>\n",
       "      <td>1</td>\n",
       "      <td>2001</td>\n",
       "      <td>1</td>\n",
       "      <td>0</td>\n",
       "    </tr>\n",
       "    <tr>\n",
       "      <th>1</th>\n",
       "      <td>Tyson Chandler</td>\n",
       "      <td>0</td>\n",
       "      <td>3.1</td>\n",
       "      <td>0.8</td>\n",
       "      <td>3.2</td>\n",
       "      <td>0.4</td>\n",
       "      <td>1.6</td>\n",
       "      <td>71.0</td>\n",
       "      <td>1.3</td>\n",
       "      <td>2.5</td>\n",
       "      <td>...</td>\n",
       "      <td>0.0</td>\n",
       "      <td>49.7</td>\n",
       "      <td>0</td>\n",
       "      <td>0</td>\n",
       "      <td>107.0</td>\n",
       "      <td>2.13</td>\n",
       "      <td>1</td>\n",
       "      <td>2001</td>\n",
       "      <td>2</td>\n",
       "      <td>0</td>\n",
       "    </tr>\n",
       "    <tr>\n",
       "      <th>2</th>\n",
       "      <td>Pau Gasol</td>\n",
       "      <td>0</td>\n",
       "      <td>5.8</td>\n",
       "      <td>2.7</td>\n",
       "      <td>6.0</td>\n",
       "      <td>0.5</td>\n",
       "      <td>2.9</td>\n",
       "      <td>82.0</td>\n",
       "      <td>2.1</td>\n",
       "      <td>2.4</td>\n",
       "      <td>...</td>\n",
       "      <td>20.0</td>\n",
       "      <td>51.8</td>\n",
       "      <td>0</td>\n",
       "      <td>1</td>\n",
       "      <td>113.0</td>\n",
       "      <td>2.13</td>\n",
       "      <td>1</td>\n",
       "      <td>2001</td>\n",
       "      <td>3</td>\n",
       "      <td>1</td>\n",
       "    </tr>\n",
       "    <tr>\n",
       "      <th>3</th>\n",
       "      <td>Jason Richardson</td>\n",
       "      <td>0</td>\n",
       "      <td>2.6</td>\n",
       "      <td>3.0</td>\n",
       "      <td>2.7</td>\n",
       "      <td>1.3</td>\n",
       "      <td>1.6</td>\n",
       "      <td>80.0</td>\n",
       "      <td>0.4</td>\n",
       "      <td>2.4</td>\n",
       "      <td>...</td>\n",
       "      <td>33.3</td>\n",
       "      <td>42.6</td>\n",
       "      <td>1</td>\n",
       "      <td>0</td>\n",
       "      <td>102.0</td>\n",
       "      <td>1.98</td>\n",
       "      <td>0</td>\n",
       "      <td>2001</td>\n",
       "      <td>5</td>\n",
       "      <td>0</td>\n",
       "    </tr>\n",
       "    <tr>\n",
       "      <th>4</th>\n",
       "      <td>Shane Battier</td>\n",
       "      <td>0</td>\n",
       "      <td>3.6</td>\n",
       "      <td>2.8</td>\n",
       "      <td>3.1</td>\n",
       "      <td>1.6</td>\n",
       "      <td>2.3</td>\n",
       "      <td>78.0</td>\n",
       "      <td>1.0</td>\n",
       "      <td>2.8</td>\n",
       "      <td>...</td>\n",
       "      <td>37.3</td>\n",
       "      <td>42.9</td>\n",
       "      <td>0</td>\n",
       "      <td>1</td>\n",
       "      <td>100.0</td>\n",
       "      <td>2.03</td>\n",
       "      <td>0</td>\n",
       "      <td>2001</td>\n",
       "      <td>6</td>\n",
       "      <td>0</td>\n",
       "    </tr>\n",
       "    <tr>\n",
       "      <th>...</th>\n",
       "      <td>...</td>\n",
       "      <td>...</td>\n",
       "      <td>...</td>\n",
       "      <td>...</td>\n",
       "      <td>...</td>\n",
       "      <td>...</td>\n",
       "      <td>...</td>\n",
       "      <td>...</td>\n",
       "      <td>...</td>\n",
       "      <td>...</td>\n",
       "      <td>...</td>\n",
       "      <td>...</td>\n",
       "      <td>...</td>\n",
       "      <td>...</td>\n",
       "      <td>...</td>\n",
       "      <td>...</td>\n",
       "      <td>...</td>\n",
       "      <td>...</td>\n",
       "      <td>...</td>\n",
       "      <td>...</td>\n",
       "      <td>...</td>\n",
       "    </tr>\n",
       "    <tr>\n",
       "      <th>888</th>\n",
       "      <td>Kendall Brown</td>\n",
       "      <td>1</td>\n",
       "      <td>2.2</td>\n",
       "      <td>1.9</td>\n",
       "      <td>3.1</td>\n",
       "      <td>1.0</td>\n",
       "      <td>1.7</td>\n",
       "      <td>34.0</td>\n",
       "      <td>0.4</td>\n",
       "      <td>2.3</td>\n",
       "      <td>...</td>\n",
       "      <td>34.1</td>\n",
       "      <td>58.4</td>\n",
       "      <td>1</td>\n",
       "      <td>0</td>\n",
       "      <td>93.0</td>\n",
       "      <td>2.03</td>\n",
       "      <td>0</td>\n",
       "      <td>2022</td>\n",
       "      <td>48</td>\n",
       "      <td>0</td>\n",
       "    </tr>\n",
       "    <tr>\n",
       "      <th>889</th>\n",
       "      <td>Isaiah Mobley</td>\n",
       "      <td>1</td>\n",
       "      <td>2.3</td>\n",
       "      <td>1.0</td>\n",
       "      <td>3.7</td>\n",
       "      <td>0.6</td>\n",
       "      <td>1.5</td>\n",
       "      <td>31.0</td>\n",
       "      <td>0.6</td>\n",
       "      <td>2.2</td>\n",
       "      <td>...</td>\n",
       "      <td>28.6</td>\n",
       "      <td>47.4</td>\n",
       "      <td>0</td>\n",
       "      <td>1</td>\n",
       "      <td>108.0</td>\n",
       "      <td>2.03</td>\n",
       "      <td>0</td>\n",
       "      <td>2022</td>\n",
       "      <td>49</td>\n",
       "      <td>0</td>\n",
       "    </tr>\n",
       "    <tr>\n",
       "      <th>890</th>\n",
       "      <td>Tyrese Martin</td>\n",
       "      <td>1</td>\n",
       "      <td>1.6</td>\n",
       "      <td>1.0</td>\n",
       "      <td>3.3</td>\n",
       "      <td>0.8</td>\n",
       "      <td>1.9</td>\n",
       "      <td>33.0</td>\n",
       "      <td>0.3</td>\n",
       "      <td>2.1</td>\n",
       "      <td>...</td>\n",
       "      <td>31.1</td>\n",
       "      <td>41.8</td>\n",
       "      <td>1</td>\n",
       "      <td>0</td>\n",
       "      <td>98.0</td>\n",
       "      <td>1.98</td>\n",
       "      <td>0</td>\n",
       "      <td>2022</td>\n",
       "      <td>51</td>\n",
       "      <td>0</td>\n",
       "    </tr>\n",
       "    <tr>\n",
       "      <th>891</th>\n",
       "      <td>JD Davison</td>\n",
       "      <td>1</td>\n",
       "      <td>2.5</td>\n",
       "      <td>4.3</td>\n",
       "      <td>3.7</td>\n",
       "      <td>1.0</td>\n",
       "      <td>1.1</td>\n",
       "      <td>33.0</td>\n",
       "      <td>0.4</td>\n",
       "      <td>1.2</td>\n",
       "      <td>...</td>\n",
       "      <td>30.1</td>\n",
       "      <td>46.3</td>\n",
       "      <td>1</td>\n",
       "      <td>0</td>\n",
       "      <td>88.0</td>\n",
       "      <td>1.91</td>\n",
       "      <td>0</td>\n",
       "      <td>2022</td>\n",
       "      <td>53</td>\n",
       "      <td>0</td>\n",
       "    </tr>\n",
       "    <tr>\n",
       "      <th>892</th>\n",
       "      <td>Jabari Walker</td>\n",
       "      <td>1</td>\n",
       "      <td>1.7</td>\n",
       "      <td>0.5</td>\n",
       "      <td>3.0</td>\n",
       "      <td>0.5</td>\n",
       "      <td>1.3</td>\n",
       "      <td>26.0</td>\n",
       "      <td>0.5</td>\n",
       "      <td>2.1</td>\n",
       "      <td>...</td>\n",
       "      <td>52.3</td>\n",
       "      <td>52.6</td>\n",
       "      <td>0</td>\n",
       "      <td>1</td>\n",
       "      <td>91.0</td>\n",
       "      <td>2.03</td>\n",
       "      <td>0</td>\n",
       "      <td>2022</td>\n",
       "      <td>57</td>\n",
       "      <td>0</td>\n",
       "    </tr>\n",
       "  </tbody>\n",
       "</table>\n",
       "<p>893 rows × 22 columns</p>\n",
       "</div>"
      ],
      "text/plain": [
       "               PLAYER  ROOKIE  FTA  AST  DREB  STL  OREB    GP  BLK   PF  ...  \\\n",
       "0         Kwame Brown       0  1.7  0.8   2.4  0.3   1.1  57.0  0.5  1.8  ...   \n",
       "1      Tyson Chandler       0  3.1  0.8   3.2  0.4   1.6  71.0  1.3  2.5  ...   \n",
       "2           Pau Gasol       0  5.8  2.7   6.0  0.5   2.9  82.0  2.1  2.4  ...   \n",
       "3    Jason Richardson       0  2.6  3.0   2.7  1.3   1.6  80.0  0.4  2.4  ...   \n",
       "4       Shane Battier       0  3.6  2.8   3.1  1.6   2.3  78.0  1.0  2.8  ...   \n",
       "..                ...     ...  ...  ...   ...  ...   ...   ...  ...  ...  ...   \n",
       "888     Kendall Brown       1  2.2  1.9   3.1  1.0   1.7  34.0  0.4  2.3  ...   \n",
       "889     Isaiah Mobley       1  2.3  1.0   3.7  0.6   1.5  31.0  0.6  2.2  ...   \n",
       "890     Tyrese Martin       1  1.6  1.0   3.3  0.8   1.9  33.0  0.3  2.1  ...   \n",
       "891        JD Davison       1  2.5  4.3   3.7  1.0   1.1  33.0  0.4  1.2  ...   \n",
       "892     Jabari Walker       1  1.7  0.5   3.0  0.5   1.3  26.0  0.5  2.1  ...   \n",
       "\n",
       "     ThreePPercent  FGPercent GUARD  FORWARD  WEIGHT  HEIGHT  CENTER  YEAR  \\\n",
       "0              0.0       38.7     0        0   132.0    2.11       1  2001   \n",
       "1              0.0       49.7     0        0   107.0    2.13       1  2001   \n",
       "2             20.0       51.8     0        1   113.0    2.13       1  2001   \n",
       "3             33.3       42.6     1        0   102.0    1.98       0  2001   \n",
       "4             37.3       42.9     0        1   100.0    2.03       0  2001   \n",
       "..             ...        ...   ...      ...     ...     ...     ...   ...   \n",
       "888           34.1       58.4     1        0    93.0    2.03       0  2022   \n",
       "889           28.6       47.4     0        1   108.0    2.03       0  2022   \n",
       "890           31.1       41.8     1        0    98.0    1.98       0  2022   \n",
       "891           30.1       46.3     1        0    88.0    1.91       0  2022   \n",
       "892           52.3       52.6     0        1    91.0    2.03       0  2022   \n",
       "\n",
       "     OVERALL PICK  ROTY  \n",
       "0               1     0  \n",
       "1               2     0  \n",
       "2               3     1  \n",
       "3               5     0  \n",
       "4               6     0  \n",
       "..            ...   ...  \n",
       "888            48     0  \n",
       "889            49     0  \n",
       "890            51     0  \n",
       "891            53     0  \n",
       "892            57     0  \n",
       "\n",
       "[893 rows x 22 columns]"
      ]
     },
     "execution_count": 351,
     "metadata": {},
     "output_type": "execute_result"
    }
   ],
   "source": [
    "df = pd.read_csv(\"draft_df_cleaned.csv\", index_col=0)\n",
    "nomc_cols = [\"ROTY\", \"PLAYER\", \"ROOKIE\", \"FTA\", \"AST\", \"DREB\", \"STL\", \"OREB\", \"GP\", \"BLK\", \"PF\", \"ThreePM\", \"FTPercent\", \\\n",
    "             \"ThreePPercent\", \"FGPercent\", \"GUARD\", \"FORWARD\", \"WEIGHT\", \"HEIGHT\", \"CENTER\", \"YEAR\", \"OVERALL PICK\"]\n",
    "df = df[nomc_cols]\n",
    "cols_at_end = ['ROTY']\n",
    "df = df[[c for c in df if c not in cols_at_end] \n",
    "        + [c for c in cols_at_end if c in df]]\n",
    "\n",
    "df"
   ]
  },
  {
   "cell_type": "code",
   "execution_count": 352,
   "id": "a9d6cbec",
   "metadata": {},
   "outputs": [],
   "source": [
    "df_past = df[df['ROOKIE'] == 0]\n",
    "df_past_quant = df_past.select_dtypes(include=np.number).drop(\"ROOKIE\", axis=1)\n"
   ]
  },
  {
   "cell_type": "code",
   "execution_count": 353,
   "id": "db1d1ba7",
   "metadata": {},
   "outputs": [],
   "source": [
    "df_tbd = df[df['ROOKIE'] == 1]\n",
    "df_tbd_quant = df_tbd.select_dtypes(include=np.number).drop(\"ROOKIE\", axis=1)"
   ]
  },
  {
   "cell_type": "code",
   "execution_count": 354,
   "id": "484659be",
   "metadata": {},
   "outputs": [],
   "source": [
    "X = df_past_quant.drop(\"ROTY\", axis=1)\n",
    "y = df_past_quant[\"ROTY\"]"
   ]
  },
  {
   "cell_type": "code",
   "execution_count": 355,
   "id": "6a9c37d1",
   "metadata": {},
   "outputs": [
    {
     "name": "stdout",
     "output_type": "stream",
     "text": [
      "Train (570, 18) (570,)\n",
      "Test (282, 18) (282,)\n"
     ]
    }
   ],
   "source": [
    "X_train, X_test, y_train, y_test = train_test_split(X, y, test_size=0.33, random_state=1)\n",
    "print('Train', X_train.shape, y_train.shape)\n",
    "print('Test', X_test.shape, y_test.shape)"
   ]
  },
  {
   "cell_type": "code",
   "execution_count": 356,
   "id": "95cd31f3",
   "metadata": {},
   "outputs": [],
   "source": [
    "fs = SelectKBest(score_func=f_classif, k='all')\n",
    "fs.fit(X_train, y_train)\n",
    "X_train_fs = fs.transform(X_train)\n",
    "X_test_fs = fs.transform(X_test)"
   ]
  },
  {
   "cell_type": "code",
   "execution_count": 357,
   "id": "257c3f03",
   "metadata": {
    "scrolled": true
   },
   "outputs": [
    {
     "name": "stdout",
     "output_type": "stream",
     "text": [
      "Feature 0: 80.476816\n",
      "Feature 1: 61.944247\n",
      "Feature 2: 38.084474\n",
      "Feature 3: 23.102564\n",
      "Feature 4: 16.005769\n",
      "Feature 5: 8.294400\n",
      "Feature 6: 13.080534\n",
      "Feature 7: 6.393655\n",
      "Feature 8: 10.768791\n",
      "Feature 9: 1.850600\n",
      "Feature 10: 0.005832\n",
      "Feature 11: 0.233197\n",
      "Feature 12: 0.023859\n",
      "Feature 13: 0.004028\n",
      "Feature 14: 0.064378\n",
      "Feature 15: 0.379105\n",
      "Feature 16: 0.113467\n",
      "Feature 17: 14.999933\n"
     ]
    }
   ],
   "source": [
    "for i in range(len(fs.scores_)):\n",
    "    print('Feature %d: %f' % (i, fs.scores_[i]))\n",
    "\n",
    "fs_dict = {\"Features\":df_past_quant.drop(\"ROTY\", axis=1).columns, \"Feature Score\" : fs.scores_}\n",
    "fs_df = pd.DataFrame(data=fs_dict).sort_values(by='Feature Score', ascending=False)"
   ]
  },
  {
   "cell_type": "code",
   "execution_count": 358,
   "id": "a40fa24f",
   "metadata": {},
   "outputs": [
    {
     "data": {
      "image/png": "[encoded data removed]",
      "text/plain": [
       "<Figure size 1152x432 with 1 Axes>"
      ]
     },
     "metadata": {},
     "output_type": "display_data"
    }
   ],
   "source": [
    "plt.figure(figsize=(16, 6))\n",
    "bar = sns.barplot(x=\"Features\", y=\"Feature Score\", data=fs_df)\n",
    "plt.xticks(rotation = 90)\n",
    "plt.show()"
   ]
  },
  {
   "cell_type": "code",
   "execution_count": 359,
   "id": "d0d9ec0a",
   "metadata": {},
   "outputs": [],
   "source": [
    "def select_features(X_train, y_train, X_test):\n",
    "\tfs = SelectKBest(score_func=chi2, k=10)\n",
    "\tfs.fit(X_train, y_train)\n",
    "\tX_train_fs = fs.transform(X_train)\n",
    "\tX_test_fs = fs.transform(X_test)\n",
    "\treturn X_train_fs, X_test_fs"
   ]
  },
  {
   "cell_type": "code",
   "execution_count": 360,
   "id": "a98bb41f",
   "metadata": {},
   "outputs": [
    {
     "data": {
      "text/plain": [
       "LogisticRegression(max_iter=1000)"
      ]
     },
     "execution_count": 360,
     "metadata": {},
     "output_type": "execute_result"
    }
   ],
   "source": [
    "X_train_fs, X_test_fs = select_features(X_train, y_train, X_test)\n",
    "model1 = LogisticRegression(solver='lbfgs', max_iter=1000)\n",
    "model1.fit(X_train_fs, y_train)"
   ]
  },
  {
   "cell_type": "code",
   "execution_count": 361,
   "id": "1a109f80",
   "metadata": {},
   "outputs": [],
   "source": [
    "y_hat1 = model1.predict(X_test_fs)\n",
    "chi_score = accuracy_score(y_test, y_hat1)"
   ]
  },
  {
   "cell_type": "code",
   "execution_count": 362,
   "id": "0b844f2c",
   "metadata": {},
   "outputs": [
    {
     "data": {
      "text/plain": [
       "XGBClassifier(base_score=0.5, booster='gbtree', colsample_bylevel=1,\n",
       "              colsample_bynode=1, colsample_bytree=1, enable_categorical=False,\n",
       "              eval_metric='mlogloss', gamma=0, gpu_id=-1, importance_type=None,\n",
       "              interaction_constraints='', learning_rate=0.300000012,\n",
       "              max_delta_step=0, max_depth=6, min_child_weight=1, missing=nan,\n",
       "              monotone_constraints='()', n_estimators=100, n_jobs=16,\n",
       "              num_parallel_tree=1, predictor='auto', random_state=0,\n",
       "              reg_alpha=0, reg_lambda=1, scale_pos_weight=1, subsample=1,\n",
       "              tree_method='exact', use_label_encoder=False,\n",
       "              validate_parameters=1, verbosity=None)"
      ]
     },
     "execution_count": 362,
     "metadata": {},
     "output_type": "execute_result"
    }
   ],
   "source": [
    "model2 = XGBClassifier(use_label_encoder=False, eval_metric='mlogloss')\n",
    "model2.fit(X_train, y_train)"
   ]
  },
  {
   "cell_type": "code",
   "execution_count": 363,
   "id": "384ad8d8",
   "metadata": {},
   "outputs": [],
   "source": [
    "y_hat2 = model2.predict(X_test)\n",
    "xgb_score = accuracy_score(y_test, y_hat2) #high predicted accuracy due to small amount of rookie of the year winners"
   ]
  },
  {
   "cell_type": "code",
   "execution_count": 364,
   "id": "014299eb",
   "metadata": {},
   "outputs": [
    {
     "data": {
      "text/plain": [
       "RandomForestClassifier(n_estimators=1000)"
      ]
     },
     "execution_count": 364,
     "metadata": {},
     "output_type": "execute_result"
    }
   ],
   "source": [
    "model3 = RandomForestClassifier(n_estimators=1000)\n",
    "model3.fit(X_train, y_train)"
   ]
  },
  {
   "cell_type": "code",
   "execution_count": 365,
   "id": "7ea6cd20",
   "metadata": {},
   "outputs": [],
   "source": [
    "y_hat3 = model3.predict(X_test)\n",
    "rfr_score = accuracy_score(y_test, y_hat3)"
   ]
  },
  {
   "cell_type": "code",
   "execution_count": 366,
   "id": "7b6e2ff9",
   "metadata": {},
   "outputs": [
    {
     "name": "stdout",
     "output_type": "stream",
     "text": [
      "Chi2 score:  0.9787234042553191\n",
      "XGB score:  0.975177304964539\n",
      "rfr_score:  0.9716312056737588\n"
     ]
    }
   ],
   "source": [
    "print(\"Chi2 score: \", chi_score)\n",
    "print(\"XGB score: \", xgb_score)\n",
    "print(\"rfr_score: \", rfr_score)"
   ]
  },
  {
   "cell_type": "code",
   "execution_count": 367,
   "id": "4050bba4",
   "metadata": {},
   "outputs": [],
   "source": [
    "y_hats  = pd.DataFrame(data=y_hat1, index=X_test.index.copy(), columns=[\"PRED ROTY\"])"
   ]
  },
  {
   "cell_type": "code",
   "execution_count": 368,
   "id": "fef267e0",
   "metadata": {},
   "outputs": [],
   "source": [
    "y_apd = pd.merge(y_test, y_hats, right_index=True, left_index=True)"
   ]
  },
  {
   "cell_type": "code",
   "execution_count": 369,
   "id": "70f5bc13",
   "metadata": {},
   "outputs": [
    {
     "name": "stdout",
     "output_type": "stream",
     "text": [
      "correct:  2 ['Blake Griffin', 'Chris Paul']\n",
      "wrong:  0 []\n",
      "missed:  6 ['Karl-Anthony Towns', 'Brandon Roy', 'Ja Morant', 'Derrick Rose', \"Amar'e Stoudemire\", 'LeBron James']\n"
     ]
    }
   ],
   "source": [
    "correct = 0\n",
    "wrong = 0\n",
    "missed = 0\n",
    "clst = []\n",
    "wlst = []\n",
    "mlst = []\n",
    "for index, row in y_apd.iterrows():\n",
    "    if row['ROTY'] == 1 and row['PRED ROTY'] == 1:\n",
    "        correct += 1\n",
    "        clst += [df_past.loc[index, \"PLAYER\"]]\n",
    "    elif row['ROTY'] == 0 and row['PRED ROTY'] == 1:\n",
    "        wrong += 1\n",
    "        wlst += [df_past.loc[index, \"PLAYER\"]]\n",
    "    elif row['ROTY'] == 1 and row['PRED ROTY'] == 0:\n",
    "        missed += 1\n",
    "        mlst += [df_past.loc[index, \"PLAYER\"]]\n",
    "\n",
    "print(\"correct: \", correct, clst)\n",
    "print(\"wrong: \", wrong, wlst)\n",
    "print(\"missed: \", missed, mlst)"
   ]
  },
  {
   "cell_type": "code",
   "execution_count": 370,
   "id": "1dbef845",
   "metadata": {},
   "outputs": [],
   "source": [
    "weights = np.linspace(0.0,0.99,200) #Range for class weights\n",
    "param_grid = {'class_weight': [{0:x, 1:1.0-x} for x in weights]} \n",
    "#Dictionary for grid search"
   ]
  },
  {
   "cell_type": "code",
   "execution_count": 371,
   "id": "3f8d9192",
   "metadata": {},
   "outputs": [
    {
     "name": "stdout",
     "output_type": "stream",
     "text": [
      "Fitting 5 folds for each of 200 candidates, totalling 1000 fits\n"
     ]
    }
   ],
   "source": [
    "gridsearch = GridSearchCV(estimator= model1, \n",
    "                          param_grid= param_grid,\n",
    "                          cv=StratifiedKFold(), \n",
    "                          n_jobs=-1, \n",
    "                          scoring=\"f1\", \n",
    "                          verbose=2).fit(X_train, y_train)"
   ]
  },
  {
   "cell_type": "code",
   "execution_count": 372,
   "id": "983b9007",
   "metadata": {},
   "outputs": [
    {
     "name": "stderr",
     "output_type": "stream",
     "text": [
      "C:\\Users\\asimp\\anaconda3\\lib\\site-packages\\seaborn\\_decorators.py:36: FutureWarning: Pass the following variables as keyword args: x, y. From version 0.12, the only valid positional argument will be `data`, and passing other arguments without an explicit keyword will result in an error or misinterpretation.\n",
      "  warnings.warn(\n"
     ]
    },
    {
     "data": {
      "text/plain": [
       "Text(0.5, 1.0, 'Scoring for different class weights')"
      ]
     },
     "execution_count": 372,
     "metadata": {},
     "output_type": "execute_result"
    },
    {
     "data": {
      "image/png": "[encoded data removed]",
      "text/plain": [
       "<Figure size 864x576 with 1 Axes>"
      ]
     },
     "metadata": {},
     "output_type": "display_data"
    }
   ],
   "source": [
    "#Ploting the score for different values of weight\n",
    "sns.set_style('whitegrid')\n",
    "plt.figure(figsize=(12,8))\n",
    "weigh_data = pd.DataFrame({ 'score': gridsearch.cv_results_['mean_test_score'], 'weight': (1- weights)})\n",
    "sns.lineplot(weigh_data['weight'], weigh_data['score'])\n",
    "plt.xlabel('Weight for class 1')\n",
    "plt.ylabel('F1 score')\n",
    "plt.xticks([round(i/10,1) for i in range(0,11,1)])\n",
    "plt.title('Scoring for different class weights', fontsize=24)"
   ]
  },
  {
   "cell_type": "code",
   "execution_count": 373,
   "id": "0fc41daa",
   "metadata": {},
   "outputs": [
    {
     "data": {
      "text/plain": [
       "LogisticRegression(class_weight={0: 0.1392964824120603, 1: 0.8607035175879397},\n",
       "                   max_iter=1000)"
      ]
     },
     "execution_count": 373,
     "metadata": {},
     "output_type": "execute_result"
    }
   ],
   "source": [
    "gridsearch.best_estimator_"
   ]
  },
  {
   "cell_type": "code",
   "execution_count": 374,
   "id": "ef185940",
   "metadata": {},
   "outputs": [
    {
     "data": {
      "text/plain": [
       "LogisticRegression(class_weight={0: 0.1392964824120603, 1: 0.8607035175879397},\n",
       "                   max_iter=1000)"
      ]
     },
     "execution_count": 374,
     "metadata": {},
     "output_type": "execute_result"
    }
   ],
   "source": [
    "X_train_fs, X_test_fs = select_features(X_train, y_train, X_test)\n",
    "model1v1 = LogisticRegression(solver='lbfgs', max_iter=1000, class_weight={0: 0.1392964824120603, 1: 0.8607035175879397})\n",
    "model1v1.fit(X_train_fs, y_train)"
   ]
  },
  {
   "cell_type": "code",
   "execution_count": 375,
   "id": "070c4eb9",
   "metadata": {},
   "outputs": [],
   "source": [
    "y_hatv1 = model1v1.predict(X_test_fs)"
   ]
  },
  {
   "cell_type": "code",
   "execution_count": 376,
   "id": "42004d33",
   "metadata": {},
   "outputs": [
    {
     "data": {
      "text/plain": [
       "0.9787234042553191"
      ]
     },
     "execution_count": 376,
     "metadata": {},
     "output_type": "execute_result"
    }
   ],
   "source": [
    "chi_scorev1 = accuracy_score(y_test, y_hatv1)\n",
    "chi_scorev1 #changing class weights did not affect accuracy"
   ]
  },
  {
   "cell_type": "code",
   "execution_count": 377,
   "id": "107629c0",
   "metadata": {},
   "outputs": [
    {
     "name": "stdout",
     "output_type": "stream",
     "text": [
      "Best Threshold=0.559314, F-Score=0.842\n"
     ]
    },
    {
     "data": {
      "image/png": "[encoded data removed]",
      "text/plain": [
       "<Figure size 432x288 with 1 Axes>"
      ]
     },
     "metadata": {},
     "output_type": "display_data"
    }
   ],
   "source": [
    "yv1_prob = model1v1.predict_proba(X_test_fs) #predicts probabilities for y_test\n",
    "yv1_prob = yv1_prob[:, 1] #selects only ROTY's\n",
    "\n",
    "precision, recall, thresholds = precision_recall_curve(y_test, yv1_prob)\n",
    "\n",
    "fscore = (2 * precision * recall) / (precision + recall)\n",
    "\n",
    "ix = argmax(fscore) # locate the index of the largest f score\n",
    "print('Best Threshold=%f, F-Score=%.3f' % (thresholds[ix], fscore[ix]))\n",
    "\n",
    "no_skill = len(y_test[y_test==1]) / len(y_test)\n",
    "plt.plot([0,1], [no_skill,no_skill], linestyle='--', label='No Skill')\n",
    "plt.plot(recall, precision, marker='.', label='Logistic')\n",
    "plt.scatter(recall[ix], precision[ix], marker='o', color='black', label='Best')\n",
    "plt.xlabel('Recall')\n",
    "plt.ylabel('Precision')\n",
    "plt.legend()\n",
    "\n",
    "plt.show()"
   ]
  },
  {
   "cell_type": "code",
   "execution_count": 378,
   "id": "1230f11b",
   "metadata": {},
   "outputs": [
    {
     "data": {
      "text/plain": [
       "LogisticRegression(class_weight={0: 0.1392964824120603, 1: 0.8607035175879397},\n",
       "                   max_iter=1000)"
      ]
     },
     "execution_count": 378,
     "metadata": {},
     "output_type": "execute_result"
    }
   ],
   "source": [
    "X_train_fs, X_test_fs = select_features(X_train, y_train, X_test)\n",
    "model1v2 = LogisticRegression(solver='lbfgs', max_iter=1000, class_weight={0: 0.1392964824120603, 1: 0.8607035175879397})\n",
    "model1v2.fit(X_train_fs, y_train)"
   ]
  },
  {
   "cell_type": "code",
   "execution_count": 379,
   "id": "439274e0",
   "metadata": {},
   "outputs": [],
   "source": [
    "THRESHOLD = 0.559314,\n",
    "y_hatv2 = np.where(model1v2.predict_proba(X_test_fs)[:,1] > THRESHOLD, 1, 0)"
   ]
  },
  {
   "cell_type": "code",
   "execution_count": 380,
   "id": "ab49bf69",
   "metadata": {},
   "outputs": [
    {
     "data": {
      "text/plain": [
       "0.9893617021276596"
      ]
     },
     "execution_count": 380,
     "metadata": {},
     "output_type": "execute_result"
    }
   ],
   "source": [
    "chi_scorev2 = accuracy_score(y_test, y_hatv2)\n",
    "chi_scorev2"
   ]
  },
  {
   "cell_type": "code",
   "execution_count": 381,
   "id": "a3fcacb5",
   "metadata": {},
   "outputs": [],
   "source": [
    "y_hatsv2  = pd.DataFrame(data=y_hatv2, index=X_test.index.copy(), columns=[\"PRED ROTY\"])"
   ]
  },
  {
   "cell_type": "code",
   "execution_count": 382,
   "id": "19c01678",
   "metadata": {},
   "outputs": [],
   "source": [
    "y_apdv2 = pd.merge(y_test, y_hatsv2, right_index=True, left_index=True)"
   ]
  },
  {
   "cell_type": "code",
   "execution_count": 383,
   "id": "60fb292c",
   "metadata": {},
   "outputs": [
    {
     "name": "stdout",
     "output_type": "stream",
     "text": [
      "correct:  8 ['Karl-Anthony Towns', 'Blake Griffin', 'Brandon Roy', 'Ja Morant', 'Derrick Rose', 'Chris Paul', \"Amar'e Stoudemire\", 'LeBron James']\n",
      "wrong:  3 ['Ramon Sessions', 'Marc Gasol', 'Carmelo Anthony']\n",
      "missed:  0 []\n"
     ]
    }
   ],
   "source": [
    "correct = 0\n",
    "wrong = 0\n",
    "missed = 0\n",
    "clst = []\n",
    "wlst = []\n",
    "mlst = []\n",
    "for index, row in y_apdv2.iterrows():\n",
    "    if row['ROTY'] == 1 and row['PRED ROTY'] == 1:\n",
    "        correct += 1\n",
    "        clst += [df_past.loc[index, \"PLAYER\"]]\n",
    "    elif row['ROTY'] == 0 and row['PRED ROTY'] == 1:\n",
    "        wrong += 1\n",
    "        wlst += [df_past.loc[index, \"PLAYER\"]]\n",
    "    elif row['ROTY'] == 1 and row['PRED ROTY'] == 0:\n",
    "        missed += 1\n",
    "        mlst += [df_past.loc[index, \"PLAYER\"]]\n",
    "\n",
    "print(\"correct: \", correct, clst)\n",
    "print(\"wrong: \", wrong, wlst)\n",
    "print(\"missed: \", missed, mlst)"
   ]
  },
  {
   "cell_type": "code",
   "execution_count": 388,
   "id": "9bf31c9d",
   "metadata": {},
   "outputs": [
    {
     "data": {
      "text/plain": [
       "PLAYER           Lavoy Allen\n",
       "ROOKIE                     0\n",
       "FTA                      0.3\n",
       "AST                      0.8\n",
       "DREB                     3.0\n",
       "STL                      0.3\n",
       "OREB                     1.1\n",
       "GP                      41.0\n",
       "BLK                      0.4\n",
       "PF                       1.8\n",
       "ThreePM                  0.0\n",
       "FTPercent               78.6\n",
       "ThreePPercent            0.0\n",
       "FGPercent               47.3\n",
       "GUARD                      0\n",
       "FORWARD                    1\n",
       "WEIGHT                 118.0\n",
       "HEIGHT                  2.06\n",
       "CENTER                     1\n",
       "YEAR                    2011\n",
       "OVERALL PICK              50\n",
       "ROTY                       0\n",
       "Name: 406, dtype: object"
      ]
     },
     "execution_count": 388,
     "metadata": {},
     "output_type": "execute_result"
    }
   ],
   "source": []
  },
  {
   "cell_type": "code",
   "execution_count": null,
   "id": "4db548c4",
   "metadata": {},
   "outputs": [],
   "source": []
  }
 ],
 "metadata": {
  "kernelspec": {
   "display_name": "Python 3 (ipykernel)",
   "language": "python",
   "name": "python3"
  },
  "language_info": {
   "codemirror_mode": {
    "name": "ipython",
    "version": 3
   },
   "file_extension": ".py",
   "mimetype": "text/x-python",
   "name": "python",
   "nbconvert_exporter": "python",
   "pygments_lexer": "ipython3",
   "version": "3.9.7"
  }
 },
 "nbformat": 4,
 "nbformat_minor": 5
}
