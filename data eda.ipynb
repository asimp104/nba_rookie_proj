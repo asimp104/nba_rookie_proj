{
 "cells": [
  {
   "cell_type": "code",
   "execution_count": 124,
   "id": "e63a2d89",
   "metadata": {},
   "outputs": [],
   "source": [
    "import pandas as pd\n",
    "import matplotlib.pyplot as plt\n",
    "import seaborn as sns\n",
    "import numpy as np\n",
    "from patsy import dmatrices\n",
    "from statsmodels.stats.outliers_influence import variance_inflation_factor\n",
    "import re"
   ]
  },
  {
   "cell_type": "code",
   "execution_count": 125,
   "id": "6c812e8b",
   "metadata": {},
   "outputs": [],
   "source": [
    "df = pd.read_csv(\"draft_df_cleaned.csv\", index_col=0)\n",
    "#df.rename(columns = {'FG%':'FGPercent', '3PM':'ThreePM', '3PA':'ThreePA', '3P%':'ThreePPercent', 'FT%':'FTPercent', '+/-':'PlusMinus'}, inplace=True)"
   ]
  },
  {
   "cell_type": "code",
   "execution_count": 126,
   "id": "9ecb96be",
   "metadata": {},
   "outputs": [],
   "source": [
    "df['ThreePPercent'] = pd.to_numeric(df['ThreePPercent'], errors='coerce')"
   ]
  },
  {
   "cell_type": "code",
   "execution_count": 130,
   "id": "b7a127fb",
   "metadata": {
    "scrolled": true
   },
   "outputs": [
    {
     "data": {
      "text/html": [
       "<div>\n",
       "<style scoped>\n",
       "    .dataframe tbody tr th:only-of-type {\n",
       "        vertical-align: middle;\n",
       "    }\n",
       "\n",
       "    .dataframe tbody tr th {\n",
       "        vertical-align: top;\n",
       "    }\n",
       "\n",
       "    .dataframe thead th {\n",
       "        text-align: right;\n",
       "    }\n",
       "</style>\n",
       "<table border=\"1\" class=\"dataframe\">\n",
       "  <thead>\n",
       "    <tr style=\"text-align: right;\">\n",
       "      <th></th>\n",
       "      <th>PLAYER</th>\n",
       "      <th>AFFILIATION</th>\n",
       "      <th>OVERALL PICK</th>\n",
       "      <th>YEAR</th>\n",
       "      <th>TEAM</th>\n",
       "      <th>GP</th>\n",
       "      <th>MIN</th>\n",
       "      <th>PTS</th>\n",
       "      <th>FGM</th>\n",
       "      <th>FGA</th>\n",
       "      <th>...</th>\n",
       "      <th>BLK</th>\n",
       "      <th>PF</th>\n",
       "      <th>HEIGHT</th>\n",
       "      <th>WEIGHT</th>\n",
       "      <th>POSITION</th>\n",
       "      <th>ROTY</th>\n",
       "      <th>CENTER</th>\n",
       "      <th>FORWARD</th>\n",
       "      <th>GUARD</th>\n",
       "      <th>ROOKIE</th>\n",
       "    </tr>\n",
       "  </thead>\n",
       "  <tbody>\n",
       "    <tr>\n",
       "      <th>0</th>\n",
       "      <td>Kwame Brown</td>\n",
       "      <td>Glynn Academy</td>\n",
       "      <td>1</td>\n",
       "      <td>2001</td>\n",
       "      <td>WAS</td>\n",
       "      <td>57.0</td>\n",
       "      <td>14.3</td>\n",
       "      <td>4.5</td>\n",
       "      <td>1.6</td>\n",
       "      <td>4.3</td>\n",
       "      <td>...</td>\n",
       "      <td>0.5</td>\n",
       "      <td>1.8</td>\n",
       "      <td>2.11</td>\n",
       "      <td>132.0</td>\n",
       "      <td>Center</td>\n",
       "      <td>0.0</td>\n",
       "      <td>1</td>\n",
       "      <td>0</td>\n",
       "      <td>0</td>\n",
       "      <td>0</td>\n",
       "    </tr>\n",
       "    <tr>\n",
       "      <th>1</th>\n",
       "      <td>Pau Gasol</td>\n",
       "      <td>FC Barcelona Basquet (Spain)</td>\n",
       "      <td>3</td>\n",
       "      <td>2001</td>\n",
       "      <td>MEM</td>\n",
       "      <td>82.0</td>\n",
       "      <td>36.6</td>\n",
       "      <td>17.6</td>\n",
       "      <td>6.7</td>\n",
       "      <td>13.0</td>\n",
       "      <td>...</td>\n",
       "      <td>2.1</td>\n",
       "      <td>2.4</td>\n",
       "      <td>2.13</td>\n",
       "      <td>113.0</td>\n",
       "      <td>Center-Forward</td>\n",
       "      <td>1.0</td>\n",
       "      <td>1</td>\n",
       "      <td>1</td>\n",
       "      <td>0</td>\n",
       "      <td>0</td>\n",
       "    </tr>\n",
       "    <tr>\n",
       "      <th>2</th>\n",
       "      <td>Jason Richardson</td>\n",
       "      <td>Michigan State</td>\n",
       "      <td>5</td>\n",
       "      <td>2001</td>\n",
       "      <td>GSW</td>\n",
       "      <td>80.0</td>\n",
       "      <td>32.8</td>\n",
       "      <td>14.4</td>\n",
       "      <td>5.8</td>\n",
       "      <td>13.6</td>\n",
       "      <td>...</td>\n",
       "      <td>0.4</td>\n",
       "      <td>2.4</td>\n",
       "      <td>1.98</td>\n",
       "      <td>102.0</td>\n",
       "      <td>Guard</td>\n",
       "      <td>0.0</td>\n",
       "      <td>0</td>\n",
       "      <td>0</td>\n",
       "      <td>1</td>\n",
       "      <td>0</td>\n",
       "    </tr>\n",
       "    <tr>\n",
       "      <th>3</th>\n",
       "      <td>Shane Battier</td>\n",
       "      <td>Duke</td>\n",
       "      <td>6</td>\n",
       "      <td>2001</td>\n",
       "      <td>MEM</td>\n",
       "      <td>78.0</td>\n",
       "      <td>39.7</td>\n",
       "      <td>14.4</td>\n",
       "      <td>5.3</td>\n",
       "      <td>12.3</td>\n",
       "      <td>...</td>\n",
       "      <td>1.0</td>\n",
       "      <td>2.8</td>\n",
       "      <td>2.03</td>\n",
       "      <td>100.0</td>\n",
       "      <td>Forward</td>\n",
       "      <td>0.0</td>\n",
       "      <td>0</td>\n",
       "      <td>1</td>\n",
       "      <td>0</td>\n",
       "      <td>0</td>\n",
       "    </tr>\n",
       "    <tr>\n",
       "      <th>4</th>\n",
       "      <td>DeSagana Diop</td>\n",
       "      <td>Oak Hill Academy</td>\n",
       "      <td>8</td>\n",
       "      <td>2001</td>\n",
       "      <td>CLE</td>\n",
       "      <td>18.0</td>\n",
       "      <td>6.1</td>\n",
       "      <td>1.4</td>\n",
       "      <td>0.7</td>\n",
       "      <td>1.6</td>\n",
       "      <td>...</td>\n",
       "      <td>0.6</td>\n",
       "      <td>1.1</td>\n",
       "      <td>2.13</td>\n",
       "      <td>127.0</td>\n",
       "      <td>Center</td>\n",
       "      <td>0.0</td>\n",
       "      <td>1</td>\n",
       "      <td>0</td>\n",
       "      <td>0</td>\n",
       "      <td>0</td>\n",
       "    </tr>\n",
       "    <tr>\n",
       "      <th>...</th>\n",
       "      <td>...</td>\n",
       "      <td>...</td>\n",
       "      <td>...</td>\n",
       "      <td>...</td>\n",
       "      <td>...</td>\n",
       "      <td>...</td>\n",
       "      <td>...</td>\n",
       "      <td>...</td>\n",
       "      <td>...</td>\n",
       "      <td>...</td>\n",
       "      <td>...</td>\n",
       "      <td>...</td>\n",
       "      <td>...</td>\n",
       "      <td>...</td>\n",
       "      <td>...</td>\n",
       "      <td>...</td>\n",
       "      <td>...</td>\n",
       "      <td>...</td>\n",
       "      <td>...</td>\n",
       "      <td>...</td>\n",
       "      <td>...</td>\n",
       "    </tr>\n",
       "    <tr>\n",
       "      <th>866</th>\n",
       "      <td>Kendall Brown</td>\n",
       "      <td>Baylor</td>\n",
       "      <td>48</td>\n",
       "      <td>2022</td>\n",
       "      <td>Minnesota Timberwolves</td>\n",
       "      <td>34.0</td>\n",
       "      <td>27.1</td>\n",
       "      <td>9.7</td>\n",
       "      <td>3.9</td>\n",
       "      <td>6.6</td>\n",
       "      <td>...</td>\n",
       "      <td>0.4</td>\n",
       "      <td>2.3</td>\n",
       "      <td>2.03</td>\n",
       "      <td>93.0</td>\n",
       "      <td>Guard</td>\n",
       "      <td>NaN</td>\n",
       "      <td>0</td>\n",
       "      <td>0</td>\n",
       "      <td>1</td>\n",
       "      <td>1</td>\n",
       "    </tr>\n",
       "    <tr>\n",
       "      <th>867</th>\n",
       "      <td>Isaiah Mobley</td>\n",
       "      <td>Southern California</td>\n",
       "      <td>49</td>\n",
       "      <td>2022</td>\n",
       "      <td>Cleveland Cavaliers</td>\n",
       "      <td>31.0</td>\n",
       "      <td>20.4</td>\n",
       "      <td>6.2</td>\n",
       "      <td>2.4</td>\n",
       "      <td>5.0</td>\n",
       "      <td>...</td>\n",
       "      <td>0.6</td>\n",
       "      <td>2.2</td>\n",
       "      <td>2.03</td>\n",
       "      <td>108.0</td>\n",
       "      <td>Forward</td>\n",
       "      <td>NaN</td>\n",
       "      <td>0</td>\n",
       "      <td>1</td>\n",
       "      <td>0</td>\n",
       "      <td>1</td>\n",
       "    </tr>\n",
       "    <tr>\n",
       "      <th>868</th>\n",
       "      <td>Tyrese Martin</td>\n",
       "      <td>Connecticut</td>\n",
       "      <td>51</td>\n",
       "      <td>2022</td>\n",
       "      <td>Golden State Warriors</td>\n",
       "      <td>33.0</td>\n",
       "      <td>27.0</td>\n",
       "      <td>8.1</td>\n",
       "      <td>3.0</td>\n",
       "      <td>7.2</td>\n",
       "      <td>...</td>\n",
       "      <td>0.3</td>\n",
       "      <td>2.1</td>\n",
       "      <td>1.98</td>\n",
       "      <td>98.0</td>\n",
       "      <td>Guard</td>\n",
       "      <td>NaN</td>\n",
       "      <td>0</td>\n",
       "      <td>0</td>\n",
       "      <td>1</td>\n",
       "      <td>1</td>\n",
       "    </tr>\n",
       "    <tr>\n",
       "      <th>869</th>\n",
       "      <td>JD Davison</td>\n",
       "      <td>Alabama</td>\n",
       "      <td>53</td>\n",
       "      <td>2022</td>\n",
       "      <td>Boston Celtics</td>\n",
       "      <td>33.0</td>\n",
       "      <td>25.8</td>\n",
       "      <td>8.5</td>\n",
       "      <td>3.0</td>\n",
       "      <td>6.5</td>\n",
       "      <td>...</td>\n",
       "      <td>0.4</td>\n",
       "      <td>1.2</td>\n",
       "      <td>1.91</td>\n",
       "      <td>88.0</td>\n",
       "      <td>Guard</td>\n",
       "      <td>NaN</td>\n",
       "      <td>0</td>\n",
       "      <td>0</td>\n",
       "      <td>1</td>\n",
       "      <td>1</td>\n",
       "    </tr>\n",
       "    <tr>\n",
       "      <th>870</th>\n",
       "      <td>Jabari Walker</td>\n",
       "      <td>Colorado</td>\n",
       "      <td>57</td>\n",
       "      <td>2022</td>\n",
       "      <td>Portland Trail Blazers</td>\n",
       "      <td>26.0</td>\n",
       "      <td>14.2</td>\n",
       "      <td>7.6</td>\n",
       "      <td>2.7</td>\n",
       "      <td>5.1</td>\n",
       "      <td>...</td>\n",
       "      <td>0.5</td>\n",
       "      <td>2.1</td>\n",
       "      <td>2.03</td>\n",
       "      <td>91.0</td>\n",
       "      <td>Forward</td>\n",
       "      <td>NaN</td>\n",
       "      <td>0</td>\n",
       "      <td>1</td>\n",
       "      <td>0</td>\n",
       "      <td>1</td>\n",
       "    </tr>\n",
       "  </tbody>\n",
       "</table>\n",
       "<p>871 rows × 33 columns</p>\n",
       "</div>"
      ],
      "text/plain": [
       "               PLAYER                   AFFILIATION  OVERALL PICK  YEAR  \\\n",
       "0         Kwame Brown                 Glynn Academy             1  2001   \n",
       "1           Pau Gasol  FC Barcelona Basquet (Spain)             3  2001   \n",
       "2    Jason Richardson                Michigan State             5  2001   \n",
       "3       Shane Battier                          Duke             6  2001   \n",
       "4       DeSagana Diop              Oak Hill Academy             8  2001   \n",
       "..                ...                           ...           ...   ...   \n",
       "866     Kendall Brown                        Baylor            48  2022   \n",
       "867     Isaiah Mobley           Southern California            49  2022   \n",
       "868     Tyrese Martin                   Connecticut            51  2022   \n",
       "869        JD Davison                       Alabama            53  2022   \n",
       "870     Jabari Walker                      Colorado            57  2022   \n",
       "\n",
       "                       TEAM    GP   MIN   PTS  FGM   FGA  ...  BLK   PF  \\\n",
       "0                       WAS  57.0  14.3   4.5  1.6   4.3  ...  0.5  1.8   \n",
       "1                       MEM  82.0  36.6  17.6  6.7  13.0  ...  2.1  2.4   \n",
       "2                       GSW  80.0  32.8  14.4  5.8  13.6  ...  0.4  2.4   \n",
       "3                       MEM  78.0  39.7  14.4  5.3  12.3  ...  1.0  2.8   \n",
       "4                       CLE  18.0   6.1   1.4  0.7   1.6  ...  0.6  1.1   \n",
       "..                      ...   ...   ...   ...  ...   ...  ...  ...  ...   \n",
       "866  Minnesota Timberwolves  34.0  27.1   9.7  3.9   6.6  ...  0.4  2.3   \n",
       "867     Cleveland Cavaliers  31.0  20.4   6.2  2.4   5.0  ...  0.6  2.2   \n",
       "868   Golden State Warriors  33.0  27.0   8.1  3.0   7.2  ...  0.3  2.1   \n",
       "869          Boston Celtics  33.0  25.8   8.5  3.0   6.5  ...  0.4  1.2   \n",
       "870  Portland Trail Blazers  26.0  14.2   7.6  2.7   5.1  ...  0.5  2.1   \n",
       "\n",
       "     HEIGHT  WEIGHT        POSITION  ROTY  CENTER  FORWARD  GUARD  ROOKIE  \n",
       "0      2.11   132.0          Center   0.0       1        0      0       0  \n",
       "1      2.13   113.0  Center-Forward   1.0       1        1      0       0  \n",
       "2      1.98   102.0           Guard   0.0       0        0      1       0  \n",
       "3      2.03   100.0         Forward   0.0       0        1      0       0  \n",
       "4      2.13   127.0          Center   0.0       1        0      0       0  \n",
       "..      ...     ...             ...   ...     ...      ...    ...     ...  \n",
       "866    2.03    93.0           Guard   NaN       0        0      1       1  \n",
       "867    2.03   108.0         Forward   NaN       0        1      0       1  \n",
       "868    1.98    98.0           Guard   NaN       0        0      1       1  \n",
       "869    1.91    88.0           Guard   NaN       0        0      1       1  \n",
       "870    2.03    91.0         Forward   NaN       0        1      0       1  \n",
       "\n",
       "[871 rows x 33 columns]"
      ]
     },
     "execution_count": 130,
     "metadata": {},
     "output_type": "execute_result"
    }
   ],
   "source": [
    "df"
   ]
  },
  {
   "cell_type": "code",
   "execution_count": 131,
   "id": "54c46e63",
   "metadata": {},
   "outputs": [],
   "source": [
    "df_train = df[df['ROOKIE'] == 0]"
   ]
  },
  {
   "cell_type": "code",
   "execution_count": 132,
   "id": "85ea55ca",
   "metadata": {},
   "outputs": [
    {
     "data": {
      "text/html": [
       "<div>\n",
       "<style scoped>\n",
       "    .dataframe tbody tr th:only-of-type {\n",
       "        vertical-align: middle;\n",
       "    }\n",
       "\n",
       "    .dataframe tbody tr th {\n",
       "        vertical-align: top;\n",
       "    }\n",
       "\n",
       "    .dataframe thead th {\n",
       "        text-align: right;\n",
       "    }\n",
       "</style>\n",
       "<table border=\"1\" class=\"dataframe\">\n",
       "  <thead>\n",
       "    <tr style=\"text-align: right;\">\n",
       "      <th></th>\n",
       "      <th>PLAYER</th>\n",
       "      <th>AFFILIATION</th>\n",
       "      <th>OVERALL PICK</th>\n",
       "      <th>YEAR</th>\n",
       "      <th>TEAM</th>\n",
       "      <th>GP</th>\n",
       "      <th>MIN</th>\n",
       "      <th>PTS</th>\n",
       "      <th>FGM</th>\n",
       "      <th>FGA</th>\n",
       "      <th>...</th>\n",
       "      <th>BLK</th>\n",
       "      <th>PF</th>\n",
       "      <th>HEIGHT</th>\n",
       "      <th>WEIGHT</th>\n",
       "      <th>POSITION</th>\n",
       "      <th>ROTY</th>\n",
       "      <th>CENTER</th>\n",
       "      <th>FORWARD</th>\n",
       "      <th>GUARD</th>\n",
       "      <th>ROOKIE</th>\n",
       "    </tr>\n",
       "  </thead>\n",
       "  <tbody>\n",
       "    <tr>\n",
       "      <th>0</th>\n",
       "      <td>Kwame Brown</td>\n",
       "      <td>Glynn Academy</td>\n",
       "      <td>1</td>\n",
       "      <td>2001</td>\n",
       "      <td>WAS</td>\n",
       "      <td>57.0</td>\n",
       "      <td>14.3</td>\n",
       "      <td>4.5</td>\n",
       "      <td>1.6</td>\n",
       "      <td>4.3</td>\n",
       "      <td>...</td>\n",
       "      <td>0.5</td>\n",
       "      <td>1.8</td>\n",
       "      <td>2.11</td>\n",
       "      <td>132.0</td>\n",
       "      <td>Center</td>\n",
       "      <td>0.0</td>\n",
       "      <td>1</td>\n",
       "      <td>0</td>\n",
       "      <td>0</td>\n",
       "      <td>0</td>\n",
       "    </tr>\n",
       "    <tr>\n",
       "      <th>1</th>\n",
       "      <td>Pau Gasol</td>\n",
       "      <td>FC Barcelona Basquet (Spain)</td>\n",
       "      <td>3</td>\n",
       "      <td>2001</td>\n",
       "      <td>MEM</td>\n",
       "      <td>82.0</td>\n",
       "      <td>36.6</td>\n",
       "      <td>17.6</td>\n",
       "      <td>6.7</td>\n",
       "      <td>13.0</td>\n",
       "      <td>...</td>\n",
       "      <td>2.1</td>\n",
       "      <td>2.4</td>\n",
       "      <td>2.13</td>\n",
       "      <td>113.0</td>\n",
       "      <td>Center-Forward</td>\n",
       "      <td>1.0</td>\n",
       "      <td>1</td>\n",
       "      <td>1</td>\n",
       "      <td>0</td>\n",
       "      <td>0</td>\n",
       "    </tr>\n",
       "    <tr>\n",
       "      <th>2</th>\n",
       "      <td>Jason Richardson</td>\n",
       "      <td>Michigan State</td>\n",
       "      <td>5</td>\n",
       "      <td>2001</td>\n",
       "      <td>GSW</td>\n",
       "      <td>80.0</td>\n",
       "      <td>32.8</td>\n",
       "      <td>14.4</td>\n",
       "      <td>5.8</td>\n",
       "      <td>13.6</td>\n",
       "      <td>...</td>\n",
       "      <td>0.4</td>\n",
       "      <td>2.4</td>\n",
       "      <td>1.98</td>\n",
       "      <td>102.0</td>\n",
       "      <td>Guard</td>\n",
       "      <td>0.0</td>\n",
       "      <td>0</td>\n",
       "      <td>0</td>\n",
       "      <td>1</td>\n",
       "      <td>0</td>\n",
       "    </tr>\n",
       "    <tr>\n",
       "      <th>3</th>\n",
       "      <td>Shane Battier</td>\n",
       "      <td>Duke</td>\n",
       "      <td>6</td>\n",
       "      <td>2001</td>\n",
       "      <td>MEM</td>\n",
       "      <td>78.0</td>\n",
       "      <td>39.7</td>\n",
       "      <td>14.4</td>\n",
       "      <td>5.3</td>\n",
       "      <td>12.3</td>\n",
       "      <td>...</td>\n",
       "      <td>1.0</td>\n",
       "      <td>2.8</td>\n",
       "      <td>2.03</td>\n",
       "      <td>100.0</td>\n",
       "      <td>Forward</td>\n",
       "      <td>0.0</td>\n",
       "      <td>0</td>\n",
       "      <td>1</td>\n",
       "      <td>0</td>\n",
       "      <td>0</td>\n",
       "    </tr>\n",
       "    <tr>\n",
       "      <th>4</th>\n",
       "      <td>DeSagana Diop</td>\n",
       "      <td>Oak Hill Academy</td>\n",
       "      <td>8</td>\n",
       "      <td>2001</td>\n",
       "      <td>CLE</td>\n",
       "      <td>18.0</td>\n",
       "      <td>6.1</td>\n",
       "      <td>1.4</td>\n",
       "      <td>0.7</td>\n",
       "      <td>1.6</td>\n",
       "      <td>...</td>\n",
       "      <td>0.6</td>\n",
       "      <td>1.1</td>\n",
       "      <td>2.13</td>\n",
       "      <td>127.0</td>\n",
       "      <td>Center</td>\n",
       "      <td>0.0</td>\n",
       "      <td>1</td>\n",
       "      <td>0</td>\n",
       "      <td>0</td>\n",
       "      <td>0</td>\n",
       "    </tr>\n",
       "    <tr>\n",
       "      <th>...</th>\n",
       "      <td>...</td>\n",
       "      <td>...</td>\n",
       "      <td>...</td>\n",
       "      <td>...</td>\n",
       "      <td>...</td>\n",
       "      <td>...</td>\n",
       "      <td>...</td>\n",
       "      <td>...</td>\n",
       "      <td>...</td>\n",
       "      <td>...</td>\n",
       "      <td>...</td>\n",
       "      <td>...</td>\n",
       "      <td>...</td>\n",
       "      <td>...</td>\n",
       "      <td>...</td>\n",
       "      <td>...</td>\n",
       "      <td>...</td>\n",
       "      <td>...</td>\n",
       "      <td>...</td>\n",
       "      <td>...</td>\n",
       "      <td>...</td>\n",
       "    </tr>\n",
       "    <tr>\n",
       "      <th>825</th>\n",
       "      <td>Charles Bassey</td>\n",
       "      <td>Western Kentucky</td>\n",
       "      <td>53</td>\n",
       "      <td>2021</td>\n",
       "      <td>PHI</td>\n",
       "      <td>23.0</td>\n",
       "      <td>7.3</td>\n",
       "      <td>3.0</td>\n",
       "      <td>1.3</td>\n",
       "      <td>2.0</td>\n",
       "      <td>...</td>\n",
       "      <td>0.7</td>\n",
       "      <td>1.4</td>\n",
       "      <td>2.06</td>\n",
       "      <td>104.0</td>\n",
       "      <td>Center-Forward</td>\n",
       "      <td>0.0</td>\n",
       "      <td>1</td>\n",
       "      <td>1</td>\n",
       "      <td>0</td>\n",
       "      <td>0</td>\n",
       "    </tr>\n",
       "    <tr>\n",
       "      <th>826</th>\n",
       "      <td>Sandro Mamukelashvili</td>\n",
       "      <td>Seton Hall</td>\n",
       "      <td>54</td>\n",
       "      <td>2021</td>\n",
       "      <td>MIL</td>\n",
       "      <td>41.0</td>\n",
       "      <td>9.9</td>\n",
       "      <td>3.8</td>\n",
       "      <td>1.4</td>\n",
       "      <td>2.8</td>\n",
       "      <td>...</td>\n",
       "      <td>0.2</td>\n",
       "      <td>0.7</td>\n",
       "      <td>2.06</td>\n",
       "      <td>109.0</td>\n",
       "      <td>Forward-Center</td>\n",
       "      <td>0.0</td>\n",
       "      <td>1</td>\n",
       "      <td>1</td>\n",
       "      <td>0</td>\n",
       "      <td>0</td>\n",
       "    </tr>\n",
       "    <tr>\n",
       "      <th>827</th>\n",
       "      <td>Aaron Wiggins</td>\n",
       "      <td>Maryland</td>\n",
       "      <td>55</td>\n",
       "      <td>2021</td>\n",
       "      <td>OKC</td>\n",
       "      <td>50.0</td>\n",
       "      <td>24.2</td>\n",
       "      <td>8.3</td>\n",
       "      <td>3.1</td>\n",
       "      <td>6.7</td>\n",
       "      <td>...</td>\n",
       "      <td>0.2</td>\n",
       "      <td>1.9</td>\n",
       "      <td>1.93</td>\n",
       "      <td>86.0</td>\n",
       "      <td>Guard</td>\n",
       "      <td>0.0</td>\n",
       "      <td>0</td>\n",
       "      <td>0</td>\n",
       "      <td>1</td>\n",
       "      <td>0</td>\n",
       "    </tr>\n",
       "    <tr>\n",
       "      <th>828</th>\n",
       "      <td>Scottie Lewis</td>\n",
       "      <td>Florida</td>\n",
       "      <td>56</td>\n",
       "      <td>2021</td>\n",
       "      <td>CHA</td>\n",
       "      <td>2.0</td>\n",
       "      <td>3.3</td>\n",
       "      <td>0.5</td>\n",
       "      <td>0.0</td>\n",
       "      <td>0.0</td>\n",
       "      <td>...</td>\n",
       "      <td>0.0</td>\n",
       "      <td>0.0</td>\n",
       "      <td>1.96</td>\n",
       "      <td>84.0</td>\n",
       "      <td>Guard</td>\n",
       "      <td>0.0</td>\n",
       "      <td>0</td>\n",
       "      <td>0</td>\n",
       "      <td>1</td>\n",
       "      <td>0</td>\n",
       "    </tr>\n",
       "    <tr>\n",
       "      <th>829</th>\n",
       "      <td>Jericho Sims</td>\n",
       "      <td>Texas</td>\n",
       "      <td>58</td>\n",
       "      <td>2021</td>\n",
       "      <td>NYK</td>\n",
       "      <td>41.0</td>\n",
       "      <td>13.5</td>\n",
       "      <td>2.2</td>\n",
       "      <td>1.0</td>\n",
       "      <td>1.3</td>\n",
       "      <td>...</td>\n",
       "      <td>0.5</td>\n",
       "      <td>1.6</td>\n",
       "      <td>2.06</td>\n",
       "      <td>113.0</td>\n",
       "      <td>Center</td>\n",
       "      <td>0.0</td>\n",
       "      <td>1</td>\n",
       "      <td>0</td>\n",
       "      <td>0</td>\n",
       "      <td>0</td>\n",
       "    </tr>\n",
       "  </tbody>\n",
       "</table>\n",
       "<p>830 rows × 33 columns</p>\n",
       "</div>"
      ],
      "text/plain": [
       "                    PLAYER                   AFFILIATION  OVERALL PICK  YEAR  \\\n",
       "0              Kwame Brown                 Glynn Academy             1  2001   \n",
       "1                Pau Gasol  FC Barcelona Basquet (Spain)             3  2001   \n",
       "2         Jason Richardson                Michigan State             5  2001   \n",
       "3            Shane Battier                          Duke             6  2001   \n",
       "4            DeSagana Diop              Oak Hill Academy             8  2001   \n",
       "..                     ...                           ...           ...   ...   \n",
       "825         Charles Bassey              Western Kentucky            53  2021   \n",
       "826  Sandro Mamukelashvili                    Seton Hall            54  2021   \n",
       "827          Aaron Wiggins                      Maryland            55  2021   \n",
       "828          Scottie Lewis                       Florida            56  2021   \n",
       "829           Jericho Sims                         Texas            58  2021   \n",
       "\n",
       "    TEAM    GP   MIN   PTS  FGM   FGA  ...  BLK   PF  HEIGHT  WEIGHT  \\\n",
       "0    WAS  57.0  14.3   4.5  1.6   4.3  ...  0.5  1.8    2.11   132.0   \n",
       "1    MEM  82.0  36.6  17.6  6.7  13.0  ...  2.1  2.4    2.13   113.0   \n",
       "2    GSW  80.0  32.8  14.4  5.8  13.6  ...  0.4  2.4    1.98   102.0   \n",
       "3    MEM  78.0  39.7  14.4  5.3  12.3  ...  1.0  2.8    2.03   100.0   \n",
       "4    CLE  18.0   6.1   1.4  0.7   1.6  ...  0.6  1.1    2.13   127.0   \n",
       "..   ...   ...   ...   ...  ...   ...  ...  ...  ...     ...     ...   \n",
       "825  PHI  23.0   7.3   3.0  1.3   2.0  ...  0.7  1.4    2.06   104.0   \n",
       "826  MIL  41.0   9.9   3.8  1.4   2.8  ...  0.2  0.7    2.06   109.0   \n",
       "827  OKC  50.0  24.2   8.3  3.1   6.7  ...  0.2  1.9    1.93    86.0   \n",
       "828  CHA   2.0   3.3   0.5  0.0   0.0  ...  0.0  0.0    1.96    84.0   \n",
       "829  NYK  41.0  13.5   2.2  1.0   1.3  ...  0.5  1.6    2.06   113.0   \n",
       "\n",
       "           POSITION  ROTY  CENTER  FORWARD  GUARD  ROOKIE  \n",
       "0            Center   0.0       1        0      0       0  \n",
       "1    Center-Forward   1.0       1        1      0       0  \n",
       "2             Guard   0.0       0        0      1       0  \n",
       "3           Forward   0.0       0        1      0       0  \n",
       "4            Center   0.0       1        0      0       0  \n",
       "..              ...   ...     ...      ...    ...     ...  \n",
       "825  Center-Forward   0.0       1        1      0       0  \n",
       "826  Forward-Center   0.0       1        1      0       0  \n",
       "827           Guard   0.0       0        0      1       0  \n",
       "828           Guard   0.0       0        0      1       0  \n",
       "829          Center   0.0       1        0      0       0  \n",
       "\n",
       "[830 rows x 33 columns]"
      ]
     },
     "execution_count": 132,
     "metadata": {},
     "output_type": "execute_result"
    }
   ],
   "source": [
    "df_train"
   ]
  },
  {
   "cell_type": "code",
   "execution_count": 133,
   "id": "b39d5db9",
   "metadata": {},
   "outputs": [
    {
     "data": {
      "text/html": [
       "<div>\n",
       "<style scoped>\n",
       "    .dataframe tbody tr th:only-of-type {\n",
       "        vertical-align: middle;\n",
       "    }\n",
       "\n",
       "    .dataframe tbody tr th {\n",
       "        vertical-align: top;\n",
       "    }\n",
       "\n",
       "    .dataframe thead th {\n",
       "        text-align: right;\n",
       "    }\n",
       "</style>\n",
       "<table border=\"1\" class=\"dataframe\">\n",
       "  <thead>\n",
       "    <tr style=\"text-align: right;\">\n",
       "      <th></th>\n",
       "      <th>OVERALL PICK</th>\n",
       "      <th>YEAR</th>\n",
       "      <th>GP</th>\n",
       "      <th>MIN</th>\n",
       "      <th>PTS</th>\n",
       "      <th>FGM</th>\n",
       "      <th>FGA</th>\n",
       "      <th>FGPercent</th>\n",
       "      <th>ThreePM</th>\n",
       "      <th>ThreePA</th>\n",
       "      <th>...</th>\n",
       "      <th>STL</th>\n",
       "      <th>BLK</th>\n",
       "      <th>PF</th>\n",
       "      <th>HEIGHT</th>\n",
       "      <th>WEIGHT</th>\n",
       "      <th>ROTY</th>\n",
       "      <th>CENTER</th>\n",
       "      <th>FORWARD</th>\n",
       "      <th>GUARD</th>\n",
       "      <th>ROOKIE</th>\n",
       "    </tr>\n",
       "  </thead>\n",
       "  <tbody>\n",
       "    <tr>\n",
       "      <th>count</th>\n",
       "      <td>830.000000</td>\n",
       "      <td>830.000000</td>\n",
       "      <td>830.000000</td>\n",
       "      <td>830.000000</td>\n",
       "      <td>830.000000</td>\n",
       "      <td>830.000000</td>\n",
       "      <td>830.000000</td>\n",
       "      <td>830.000000</td>\n",
       "      <td>830.000000</td>\n",
       "      <td>830.000000</td>\n",
       "      <td>...</td>\n",
       "      <td>830.000000</td>\n",
       "      <td>830.000000</td>\n",
       "      <td>830.000000</td>\n",
       "      <td>830.000000</td>\n",
       "      <td>830.000000</td>\n",
       "      <td>830.000000</td>\n",
       "      <td>830.000000</td>\n",
       "      <td>830.000000</td>\n",
       "      <td>830.000000</td>\n",
       "      <td>830.0</td>\n",
       "    </tr>\n",
       "    <tr>\n",
       "      <th>mean</th>\n",
       "      <td>26.687952</td>\n",
       "      <td>2012.155422</td>\n",
       "      <td>45.995181</td>\n",
       "      <td>15.353012</td>\n",
       "      <td>5.731205</td>\n",
       "      <td>2.166627</td>\n",
       "      <td>5.000241</td>\n",
       "      <td>42.124819</td>\n",
       "      <td>0.430241</td>\n",
       "      <td>1.322530</td>\n",
       "      <td>...</td>\n",
       "      <td>0.487711</td>\n",
       "      <td>0.331566</td>\n",
       "      <td>1.508554</td>\n",
       "      <td>2.005867</td>\n",
       "      <td>100.259036</td>\n",
       "      <td>0.024096</td>\n",
       "      <td>0.233735</td>\n",
       "      <td>0.532530</td>\n",
       "      <td>0.466265</td>\n",
       "      <td>0.0</td>\n",
       "    </tr>\n",
       "    <tr>\n",
       "      <th>std</th>\n",
       "      <td>16.283384</td>\n",
       "      <td>6.035175</td>\n",
       "      <td>24.949164</td>\n",
       "      <td>8.743893</td>\n",
       "      <td>4.244798</td>\n",
       "      <td>1.590292</td>\n",
       "      <td>3.472213</td>\n",
       "      <td>11.007286</td>\n",
       "      <td>0.506187</td>\n",
       "      <td>1.407111</td>\n",
       "      <td>...</td>\n",
       "      <td>0.371991</td>\n",
       "      <td>0.358682</td>\n",
       "      <td>0.805117</td>\n",
       "      <td>0.086617</td>\n",
       "      <td>11.983367</td>\n",
       "      <td>0.153441</td>\n",
       "      <td>0.423461</td>\n",
       "      <td>0.499242</td>\n",
       "      <td>0.499161</td>\n",
       "      <td>0.0</td>\n",
       "    </tr>\n",
       "    <tr>\n",
       "      <th>min</th>\n",
       "      <td>1.000000</td>\n",
       "      <td>2001.000000</td>\n",
       "      <td>1.000000</td>\n",
       "      <td>0.100000</td>\n",
       "      <td>0.000000</td>\n",
       "      <td>0.000000</td>\n",
       "      <td>0.000000</td>\n",
       "      <td>0.000000</td>\n",
       "      <td>0.000000</td>\n",
       "      <td>0.000000</td>\n",
       "      <td>...</td>\n",
       "      <td>0.000000</td>\n",
       "      <td>0.000000</td>\n",
       "      <td>0.000000</td>\n",
       "      <td>1.750000</td>\n",
       "      <td>73.000000</td>\n",
       "      <td>0.000000</td>\n",
       "      <td>0.000000</td>\n",
       "      <td>0.000000</td>\n",
       "      <td>0.000000</td>\n",
       "      <td>0.0</td>\n",
       "    </tr>\n",
       "    <tr>\n",
       "      <th>25%</th>\n",
       "      <td>12.000000</td>\n",
       "      <td>2007.000000</td>\n",
       "      <td>24.000000</td>\n",
       "      <td>8.500000</td>\n",
       "      <td>2.600000</td>\n",
       "      <td>1.000000</td>\n",
       "      <td>2.400000</td>\n",
       "      <td>37.900000</td>\n",
       "      <td>0.000000</td>\n",
       "      <td>0.100000</td>\n",
       "      <td>...</td>\n",
       "      <td>0.200000</td>\n",
       "      <td>0.100000</td>\n",
       "      <td>0.900000</td>\n",
       "      <td>1.930000</td>\n",
       "      <td>91.000000</td>\n",
       "      <td>0.000000</td>\n",
       "      <td>0.000000</td>\n",
       "      <td>0.000000</td>\n",
       "      <td>0.000000</td>\n",
       "      <td>0.0</td>\n",
       "    </tr>\n",
       "    <tr>\n",
       "      <th>50%</th>\n",
       "      <td>26.000000</td>\n",
       "      <td>2012.000000</td>\n",
       "      <td>48.000000</td>\n",
       "      <td>13.600000</td>\n",
       "      <td>4.600000</td>\n",
       "      <td>1.700000</td>\n",
       "      <td>4.100000</td>\n",
       "      <td>42.300000</td>\n",
       "      <td>0.300000</td>\n",
       "      <td>0.800000</td>\n",
       "      <td>...</td>\n",
       "      <td>0.400000</td>\n",
       "      <td>0.200000</td>\n",
       "      <td>1.500000</td>\n",
       "      <td>2.010000</td>\n",
       "      <td>100.000000</td>\n",
       "      <td>0.000000</td>\n",
       "      <td>0.000000</td>\n",
       "      <td>1.000000</td>\n",
       "      <td>0.000000</td>\n",
       "      <td>0.0</td>\n",
       "    </tr>\n",
       "    <tr>\n",
       "      <th>75%</th>\n",
       "      <td>40.000000</td>\n",
       "      <td>2018.000000</td>\n",
       "      <td>68.000000</td>\n",
       "      <td>21.300000</td>\n",
       "      <td>7.900000</td>\n",
       "      <td>3.000000</td>\n",
       "      <td>6.700000</td>\n",
       "      <td>47.100000</td>\n",
       "      <td>0.700000</td>\n",
       "      <td>2.100000</td>\n",
       "      <td>...</td>\n",
       "      <td>0.700000</td>\n",
       "      <td>0.500000</td>\n",
       "      <td>2.100000</td>\n",
       "      <td>2.080000</td>\n",
       "      <td>109.000000</td>\n",
       "      <td>0.000000</td>\n",
       "      <td>0.000000</td>\n",
       "      <td>1.000000</td>\n",
       "      <td>1.000000</td>\n",
       "      <td>0.0</td>\n",
       "    </tr>\n",
       "    <tr>\n",
       "      <th>max</th>\n",
       "      <td>60.000000</td>\n",
       "      <td>2021.000000</td>\n",
       "      <td>82.000000</td>\n",
       "      <td>39.700000</td>\n",
       "      <td>22.500000</td>\n",
       "      <td>8.800000</td>\n",
       "      <td>17.900000</td>\n",
       "      <td>100.000000</td>\n",
       "      <td>2.500000</td>\n",
       "      <td>7.200000</td>\n",
       "      <td>...</td>\n",
       "      <td>2.200000</td>\n",
       "      <td>2.500000</td>\n",
       "      <td>4.100000</td>\n",
       "      <td>2.290000</td>\n",
       "      <td>141.000000</td>\n",
       "      <td>1.000000</td>\n",
       "      <td>1.000000</td>\n",
       "      <td>1.000000</td>\n",
       "      <td>1.000000</td>\n",
       "      <td>0.0</td>\n",
       "    </tr>\n",
       "  </tbody>\n",
       "</table>\n",
       "<p>8 rows × 29 columns</p>\n",
       "</div>"
      ],
      "text/plain": [
       "       OVERALL PICK         YEAR          GP         MIN         PTS  \\\n",
       "count    830.000000   830.000000  830.000000  830.000000  830.000000   \n",
       "mean      26.687952  2012.155422   45.995181   15.353012    5.731205   \n",
       "std       16.283384     6.035175   24.949164    8.743893    4.244798   \n",
       "min        1.000000  2001.000000    1.000000    0.100000    0.000000   \n",
       "25%       12.000000  2007.000000   24.000000    8.500000    2.600000   \n",
       "50%       26.000000  2012.000000   48.000000   13.600000    4.600000   \n",
       "75%       40.000000  2018.000000   68.000000   21.300000    7.900000   \n",
       "max       60.000000  2021.000000   82.000000   39.700000   22.500000   \n",
       "\n",
       "              FGM         FGA   FGPercent     ThreePM     ThreePA  ...  \\\n",
       "count  830.000000  830.000000  830.000000  830.000000  830.000000  ...   \n",
       "mean     2.166627    5.000241   42.124819    0.430241    1.322530  ...   \n",
       "std      1.590292    3.472213   11.007286    0.506187    1.407111  ...   \n",
       "min      0.000000    0.000000    0.000000    0.000000    0.000000  ...   \n",
       "25%      1.000000    2.400000   37.900000    0.000000    0.100000  ...   \n",
       "50%      1.700000    4.100000   42.300000    0.300000    0.800000  ...   \n",
       "75%      3.000000    6.700000   47.100000    0.700000    2.100000  ...   \n",
       "max      8.800000   17.900000  100.000000    2.500000    7.200000  ...   \n",
       "\n",
       "              STL         BLK          PF      HEIGHT      WEIGHT        ROTY  \\\n",
       "count  830.000000  830.000000  830.000000  830.000000  830.000000  830.000000   \n",
       "mean     0.487711    0.331566    1.508554    2.005867  100.259036    0.024096   \n",
       "std      0.371991    0.358682    0.805117    0.086617   11.983367    0.153441   \n",
       "min      0.000000    0.000000    0.000000    1.750000   73.000000    0.000000   \n",
       "25%      0.200000    0.100000    0.900000    1.930000   91.000000    0.000000   \n",
       "50%      0.400000    0.200000    1.500000    2.010000  100.000000    0.000000   \n",
       "75%      0.700000    0.500000    2.100000    2.080000  109.000000    0.000000   \n",
       "max      2.200000    2.500000    4.100000    2.290000  141.000000    1.000000   \n",
       "\n",
       "           CENTER     FORWARD       GUARD  ROOKIE  \n",
       "count  830.000000  830.000000  830.000000   830.0  \n",
       "mean     0.233735    0.532530    0.466265     0.0  \n",
       "std      0.423461    0.499242    0.499161     0.0  \n",
       "min      0.000000    0.000000    0.000000     0.0  \n",
       "25%      0.000000    0.000000    0.000000     0.0  \n",
       "50%      0.000000    1.000000    0.000000     0.0  \n",
       "75%      0.000000    1.000000    1.000000     0.0  \n",
       "max      1.000000    1.000000    1.000000     0.0  \n",
       "\n",
       "[8 rows x 29 columns]"
      ]
     },
     "execution_count": 133,
     "metadata": {},
     "output_type": "execute_result"
    }
   ],
   "source": [
    "df_train.describe()"
   ]
  },
  {
   "cell_type": "code",
   "execution_count": 134,
   "id": "2bcec2c5",
   "metadata": {},
   "outputs": [
    {
     "data": {
      "text/plain": [
       "Index(['OVERALL PICK', 'YEAR', 'GP', 'MIN', 'PTS', 'FGM', 'FGA', 'FGPercent',\n",
       "       'ThreePM', 'ThreePA', 'ThreePPercent', 'FTM', 'FTA', 'FTPercent',\n",
       "       'OREB', 'DREB', 'REB', 'AST', 'TOV', 'STL', 'BLK', 'PF', 'HEIGHT',\n",
       "       'WEIGHT', 'ROTY', 'CENTER', 'FORWARD', 'GUARD', 'ROOKIE'],\n",
       "      dtype='object')"
      ]
     },
     "execution_count": 134,
     "metadata": {},
     "output_type": "execute_result"
    }
   ],
   "source": [
    "df_quant = df_train.select_dtypes(include=np.number)\n",
    "df_quant.columns"
   ]
  },
  {
   "cell_type": "code",
   "execution_count": 135,
   "id": "b18d90da",
   "metadata": {},
   "outputs": [
    {
     "name": "stderr",
     "output_type": "stream",
     "text": [
      "C:\\Users\\asimp\\anaconda3\\lib\\site-packages\\pandas\\plotting\\_matplotlib\\tools.py:218: RuntimeWarning: More than 20 figures have been opened. Figures created through the pyplot interface (`matplotlib.pyplot.figure`) are retained until explicitly closed and may consume too much memory. (To control this warning, see the rcParam `figure.max_open_warning`).\n",
      "  fig = plt.figure(**fig_kw)\n"
     ]
    },
    {
     "data": {
      "image/png": "[encoded data removed]",
      "text/plain": [
       "<Figure size 432x288 with 1 Axes>"
      ]
     },
     "metadata": {
      "needs_background": "light"
     },
     "output_type": "display_data"
    },
    {
     "data": {
      "image/png": "[encoded data removed]",
      "text/plain": [
       "<Figure size 432x288 with 1 Axes>"
      ]
     },
     "metadata": {
      "needs_background": "light"
     },
     "output_type": "display_data"
    },
    {
     "data": {
      "image/png": "[encoded data removed]",
      "text/plain": [
       "<Figure size 432x288 with 1 Axes>"
      ]
     },
     "metadata": {
      "needs_background": "light"
     },
     "output_type": "display_data"
    },
    {
     "data": {
      "image/png": "[encoded data removed]",
      "text/plain": [
       "<Figure size 432x288 with 1 Axes>"
      ]
     },
     "metadata": {
      "needs_background": "light"
     },
     "output_type": "display_data"
    },
    {
     "data": {
      "image/png": "[encoded data removed]",
      "text/plain": [
       "<Figure size 432x288 with 1 Axes>"
      ]
     },
     "metadata": {
      "needs_background": "light"
     },
     "output_type": "display_data"
    },
    {
     "data": {
      "image/png": "[encoded data removed]",
      "text/plain": [
       "<Figure size 432x288 with 1 Axes>"
      ]
     },
     "metadata": {
      "needs_background": "light"
     },
     "output_type": "display_data"
    },
    {
     "data": {
      "image/png": "[encoded data removed]",
      "text/plain": [
       "<Figure size 432x288 with 1 Axes>"
      ]
     },
     "metadata": {
      "needs_background": "light"
     },
     "output_type": "display_data"
    },
    {
     "data": {
      "image/png": "[encoded data removed]",
      "text/plain": [
       "<Figure size 432x288 with 1 Axes>"
      ]
     },
     "metadata": {
      "needs_background": "light"
     },
     "output_type": "display_data"
    },
    {
     "data": {
      "image/png": "[encoded data removed]",
      "text/plain": [
       "<Figure size 432x288 with 1 Axes>"
      ]
     },
     "metadata": {
      "needs_background": "light"
     },
     "output_type": "display_data"
    },
    {
     "data": {
      "image/png": "[encoded data removed]",
      "text/plain": [
       "<Figure size 432x288 with 1 Axes>"
      ]
     },
     "metadata": {
      "needs_background": "light"
     },
     "output_type": "display_data"
    },
    {
     "data": {
      "image/png": "[encoded data removed]",
      "text/plain": [
       "<Figure size 432x288 with 1 Axes>"
      ]
     },
     "metadata": {
      "needs_background": "light"
     },
     "output_type": "display_data"
    },
    {
     "data": {
      "image/png": "[encoded data removed]",
      "text/plain": [
       "<Figure size 432x288 with 1 Axes>"
      ]
     },
     "metadata": {
      "needs_background": "light"
     },
     "output_type": "display_data"
    },
    {
     "data": {
      "image/png": "[encoded data removed]",
      "text/plain": [
       "<Figure size 432x288 with 1 Axes>"
      ]
     },
     "metadata": {
      "needs_background": "light"
     },
     "output_type": "display_data"
    },
    {
     "data": {
      "image/png": "[encoded data removed]",
      "text/plain": [
       "<Figure size 432x288 with 1 Axes>"
      ]
     },
     "metadata": {
      "needs_background": "light"
     },
     "output_type": "display_data"
    },
    {
     "data": {
      "image/png": "[encoded data removed]",
      "text/plain": [
       "<Figure size 432x288 with 1 Axes>"
      ]
     },
     "metadata": {
      "needs_background": "light"
     },
     "output_type": "display_data"
    },
    {
     "data": {
      "image/png": "[encoded data removed]",
      "text/plain": [
       "<Figure size 432x288 with 1 Axes>"
      ]
     },
     "metadata": {
      "needs_background": "light"
     },
     "output_type": "display_data"
    },
    {
     "data": {
      "image/png": "[encoded data removed]",
      "text/plain": [
       "<Figure size 432x288 with 1 Axes>"
      ]
     },
     "metadata": {
      "needs_background": "light"
     },
     "output_type": "display_data"
    },
    {
     "data": {
      "image/png": "[encoded data removed]",
      "text/plain": [
       "<Figure size 432x288 with 1 Axes>"
      ]
     },
     "metadata": {
      "needs_background": "light"
     },
     "output_type": "display_data"
    },
    {
     "data": {
      "image/png": "[encoded data removed]",
      "text/plain": [
       "<Figure size 432x288 with 1 Axes>"
      ]
     },
     "metadata": {
      "needs_background": "light"
     },
     "output_type": "display_data"
    },
    {
     "data": {
      "image/png": "[encoded data removed]",
      "text/plain": [
       "<Figure size 432x288 with 1 Axes>"
      ]
     },
     "metadata": {
      "needs_background": "light"
     },
     "output_type": "display_data"
    },
    {
     "data": {
      "image/png": "[encoded data removed]",
      "text/plain": [
       "<Figure size 432x288 with 1 Axes>"
      ]
     },
     "metadata": {
      "needs_background": "light"
     },
     "output_type": "display_data"
    },
    {
     "data": {
      "image/png": "[encoded data removed]",
      "text/plain": [
       "<Figure size 432x288 with 1 Axes>"
      ]
     },
     "metadata": {
      "needs_background": "light"
     },
     "output_type": "display_data"
    },
    {
     "data": {
      "image/png": "[encoded data removed]",
      "text/plain": [
       "<Figure size 432x288 with 1 Axes>"
      ]
     },
     "metadata": {
      "needs_background": "light"
     },
     "output_type": "display_data"
    },
    {
     "data": {
      "image/png": "[encoded data removed]",
      "text/plain": [
       "<Figure size 432x288 with 1 Axes>"
      ]
     },
     "metadata": {
      "needs_background": "light"
     },
     "output_type": "display_data"
    },
    {
     "data": {
      "image/png": "[encoded data removed]",
      "text/plain": [
       "<Figure size 432x288 with 1 Axes>"
      ]
     },
     "metadata": {
      "needs_background": "light"
     },
     "output_type": "display_data"
    },
    {
     "data": {
      "image/png": "[encoded data removed]",
      "text/plain": [
       "<Figure size 432x288 with 1 Axes>"
      ]
     },
     "metadata": {
      "needs_background": "light"
     },
     "output_type": "display_data"
    },
    {
     "data": {
      "image/png": "[encoded data removed]",
      "text/plain": [
       "<Figure size 432x288 with 1 Axes>"
      ]
     },
     "metadata": {
      "needs_background": "light"
     },
     "output_type": "display_data"
    },
    {
     "data": {
      "image/png": "[encoded data removed]",
      "text/plain": [
       "<Figure size 432x288 with 1 Axes>"
      ]
     },
     "metadata": {
      "needs_background": "light"
     },
     "output_type": "display_data"
    },
    {
     "data": {
      "image/png": "[encoded data removed]",
      "text/plain": [
       "<Figure size 432x288 with 1 Axes>"
      ]
     },
     "metadata": {
      "needs_background": "light"
     },
     "output_type": "display_data"
    }
   ],
   "source": [
    "for i in df_quant.columns:\n",
    "    fig = df_quant.hist(i)\n",
    "    fig\n"
   ]
  },
  {
   "cell_type": "code",
   "execution_count": 136,
   "id": "d24b8004",
   "metadata": {},
   "outputs": [
    {
     "name": "stderr",
     "output_type": "stream",
     "text": [
      "C:\\Users\\asimp\\AppData\\Local\\Temp/ipykernel_17160/1008370968.py:2: RuntimeWarning: More than 20 figures have been opened. Figures created through the pyplot interface (`matplotlib.pyplot.figure`) are retained until explicitly closed and may consume too much memory. (To control this warning, see the rcParam `figure.max_open_warning`).\n",
      "  plt.figure()\n"
     ]
    },
    {
     "data": {
      "image/png": "[encoded data removed]",
      "text/plain": [
       "<Figure size 432x288 with 1 Axes>"
      ]
     },
     "metadata": {
      "needs_background": "light"
     },
     "output_type": "display_data"
    },
    {
     "data": {
      "image/png": "[encoded data removed]",
      "text/plain": [
       "<Figure size 432x288 with 1 Axes>"
      ]
     },
     "metadata": {
      "needs_background": "light"
     },
     "output_type": "display_data"
    },
    {
     "data": {
      "image/png": "[encoded data removed]",
      "text/plain": [
       "<Figure size 432x288 with 1 Axes>"
      ]
     },
     "metadata": {
      "needs_background": "light"
     },
     "output_type": "display_data"
    },
    {
     "data": {
      "image/png": "[encoded data removed]",
      "text/plain": [
       "<Figure size 432x288 with 1 Axes>"
      ]
     },
     "metadata": {
      "needs_background": "light"
     },
     "output_type": "display_data"
    },
    {
     "data": {
      "image/png": "[encoded data removed]",
      "text/plain": [
       "<Figure size 432x288 with 1 Axes>"
      ]
     },
     "metadata": {
      "needs_background": "light"
     },
     "output_type": "display_data"
    },
    {
     "data": {
      "image/png": "[encoded data removed]",
      "text/plain": [
       "<Figure size 432x288 with 1 Axes>"
      ]
     },
     "metadata": {
      "needs_background": "light"
     },
     "output_type": "display_data"
    },
    {
     "data": {
      "image/png": "[encoded data removed]",
      "text/plain": [
       "<Figure size 432x288 with 1 Axes>"
      ]
     },
     "metadata": {
      "needs_background": "light"
     },
     "output_type": "display_data"
    },
    {
     "data": {
      "image/png": "[encoded data removed]",
      "text/plain": [
       "<Figure size 432x288 with 1 Axes>"
      ]
     },
     "metadata": {
      "needs_background": "light"
     },
     "output_type": "display_data"
    },
    {
     "data": {
      "image/png": "[encoded data removed]",
      "text/plain": [
       "<Figure size 432x288 with 1 Axes>"
      ]
     },
     "metadata": {
      "needs_background": "light"
     },
     "output_type": "display_data"
    },
    {
     "data": {
      "image/png": "[encoded data removed]",
      "text/plain": [
       "<Figure size 432x288 with 1 Axes>"
      ]
     },
     "metadata": {
      "needs_background": "light"
     },
     "output_type": "display_data"
    },
    {
     "data": {
      "image/png": "[encoded data removed]",
      "text/plain": [
       "<Figure size 432x288 with 1 Axes>"
      ]
     },
     "metadata": {
      "needs_background": "light"
     },
     "output_type": "display_data"
    },
    {
     "data": {
      "image/png": "[encoded data removed]",
      "text/plain": [
       "<Figure size 432x288 with 1 Axes>"
      ]
     },
     "metadata": {
      "needs_background": "light"
     },
     "output_type": "display_data"
    },
    {
     "data": {
      "image/png": "[encoded data removed]",
      "text/plain": [
       "<Figure size 432x288 with 1 Axes>"
      ]
     },
     "metadata": {
      "needs_background": "light"
     },
     "output_type": "display_data"
    },
    {
     "data": {
      "image/png": "[encoded data removed]",
      "text/plain": [
       "<Figure size 432x288 with 1 Axes>"
      ]
     },
     "metadata": {
      "needs_background": "light"
     },
     "output_type": "display_data"
    },
    {
     "data": {
      "image/png": "[encoded data removed]",
      "text/plain": [
       "<Figure size 432x288 with 1 Axes>"
      ]
     },
     "metadata": {
      "needs_background": "light"
     },
     "output_type": "display_data"
    },
    {
     "data": {
      "image/png": "[encoded data removed]",
      "text/plain": [
       "<Figure size 432x288 with 1 Axes>"
      ]
     },
     "metadata": {
      "needs_background": "light"
     },
     "output_type": "display_data"
    },
    {
     "data": {
      "image/png": "[encoded data removed]",
      "text/plain": [
       "<Figure size 432x288 with 1 Axes>"
      ]
     },
     "metadata": {
      "needs_background": "light"
     },
     "output_type": "display_data"
    },
    {
     "data": {
      "image/png": "[encoded data removed]",
      "text/plain": [
       "<Figure size 432x288 with 1 Axes>"
      ]
     },
     "metadata": {
      "needs_background": "light"
     },
     "output_type": "display_data"
    },
    {
     "data": {
      "image/png": "[encoded data removed]",
      "text/plain": [
       "<Figure size 432x288 with 1 Axes>"
      ]
     },
     "metadata": {
      "needs_background": "light"
     },
     "output_type": "display_data"
    },
    {
     "data": {
      "image/png": "[encoded data removed]",
      "text/plain": [
       "<Figure size 432x288 with 1 Axes>"
      ]
     },
     "metadata": {
      "needs_background": "light"
     },
     "output_type": "display_data"
    },
    {
     "data": {
      "image/png": "[encoded data removed]",
      "text/plain": [
       "<Figure size 432x288 with 1 Axes>"
      ]
     },
     "metadata": {
      "needs_background": "light"
     },
     "output_type": "display_data"
    },
    {
     "data": {
      "image/png": "[encoded data removed]",
      "text/plain": [
       "<Figure size 432x288 with 1 Axes>"
      ]
     },
     "metadata": {
      "needs_background": "light"
     },
     "output_type": "display_data"
    },
    {
     "data": {
      "image/png": "[encoded data removed]",
      "text/plain": [
       "<Figure size 432x288 with 1 Axes>"
      ]
     },
     "metadata": {
      "needs_background": "light"
     },
     "output_type": "display_data"
    },
    {
     "data": {
      "image/png": "[encoded data removed]",
      "text/plain": [
       "<Figure size 432x288 with 1 Axes>"
      ]
     },
     "metadata": {
      "needs_background": "light"
     },
     "output_type": "display_data"
    },
    {
     "data": {
      "image/png": "[encoded data removed]",
      "text/plain": [
       "<Figure size 432x288 with 1 Axes>"
      ]
     },
     "metadata": {
      "needs_background": "light"
     },
     "output_type": "display_data"
    },
    {
     "data": {
      "image/png": "[encoded data removed]",
      "text/plain": [
       "<Figure size 432x288 with 1 Axes>"
      ]
     },
     "metadata": {
      "needs_background": "light"
     },
     "output_type": "display_data"
    },
    {
     "data": {
      "image/png": "[encoded data removed]",
      "text/plain": [
       "<Figure size 432x288 with 1 Axes>"
      ]
     },
     "metadata": {
      "needs_background": "light"
     },
     "output_type": "display_data"
    },
    {
     "data": {
      "image/png": "[encoded data removed]",
      "text/plain": [
       "<Figure size 432x288 with 1 Axes>"
      ]
     },
     "metadata": {
      "needs_background": "light"
     },
     "output_type": "display_data"
    },
    {
     "data": {
      "image/png": "[encoded data removed]",
      "text/plain": [
       "<Figure size 432x288 with 1 Axes>"
      ]
     },
     "metadata": {
      "needs_background": "light"
     },
     "output_type": "display_data"
    }
   ],
   "source": [
    "for column in df_quant:\n",
    "    plt.figure()\n",
    "    df.boxplot([column])"
   ]
  },
  {
   "cell_type": "code",
   "execution_count": 137,
   "id": "468706f1",
   "metadata": {},
   "outputs": [
    {
     "data": {
      "text/plain": [
       "Text(0.5, 1.0, 'Triangle Correlation Heatmap')"
      ]
     },
     "execution_count": 137,
     "metadata": {},
     "output_type": "execute_result"
    },
    {
     "data": {
      "image/png": "[encoded data removed]",
      "text/plain": [
       "<Figure size 1152x432 with 2 Axes>"
      ]
     },
     "metadata": {
      "needs_background": "light"
     },
     "output_type": "display_data"
    }
   ],
   "source": [
    "plt.figure(figsize=(16, 6))\n",
    "# define the mask to set the values in the upper triangle to True\n",
    "corr = df_quant.corr()\n",
    "mask = np.triu(np.ones_like(corr, dtype=bool))\n",
    "heatmap = sns.heatmap(corr, mask=mask, vmin=-1, vmax=1, cmap='BrBG')\n",
    "heatmap.set_title('Triangle Correlation Heatmap')"
   ]
  },
  {
   "cell_type": "code",
   "execution_count": 138,
   "id": "2ebeadc7",
   "metadata": {},
   "outputs": [
    {
     "data": {
      "text/plain": [
       "Text(0.5, 1.0, 'Features Correlating with ROTY')"
      ]
     },
     "execution_count": 138,
     "metadata": {},
     "output_type": "execute_result"
    },
    {
     "data": {
      "image/png": "[encoded data removed]",
      "text/plain": [
       "<Figure size 576x864 with 2 Axes>"
      ]
     },
     "metadata": {
      "needs_background": "light"
     },
     "output_type": "display_data"
    }
   ],
   "source": [
    "plt.figure(figsize=(8, 12))\n",
    "heatmap = sns.heatmap(df_train.corr()[['ROTY']].sort_values(by='ROTY', ascending=False), vmin=-1, vmax=1, \n",
    "                      annot=True, cmap='BrBG')\n",
    "heatmap.set_title('Features Correlating with ROTY', fontdict={'fontsize':18}, pad=16)"
   ]
  },
  {
   "cell_type": "code",
   "execution_count": 139,
   "id": "73067121",
   "metadata": {},
   "outputs": [
    {
     "name": "stdout",
     "output_type": "stream",
     "text": [
      "        VIF   variable\n",
      "0  2.912885  Intercept\n",
      "1  4.548473        FGM\n",
      "2  1.514930    ThreePA\n",
      "3  3.642453        FTM\n",
      "        VIF   variable\n",
      "0  3.033039  Intercept\n",
      "1  2.769944       OREB\n",
      "2  2.490263       DREB\n",
      "3  2.118321        BLK\n",
      "         VIF     variable\n",
      "0  15.719471    Intercept\n",
      "1   1.718810           GP\n",
      "2   4.039227          TOV\n",
      "3   3.477927          AST\n",
      "4   2.582754          STL\n",
      "5   1.519192  OVERALLPICK\n"
     ]
    }
   ],
   "source": [
    "df_train = df_train.rename(columns=lambda x: re.sub(' ','',x)) #dmatrices gets syntax error with space present in name\n",
    "\n",
    "ptcor = \"ROTY ~ FGM + ThreePA + FTM\"\n",
    "\n",
    "rebcor = \"ROTY ~ OREB + DREB + BLK\"\n",
    "\n",
    "scor = \"ROTY ~ GP + TOV + AST + STL + OVERALLPICK\"\n",
    "\n",
    "corlist = [ptcor, rebcor, scor]\n",
    "\n",
    "for c in corlist: #produces VIF tables with stats that correlate to eachother such as things that contribute to pts\n",
    "    \n",
    "    y, X = dmatrices(c, data=df_train, return_type='dataframe')\n",
    "\n",
    "\n",
    "    vif = pd.DataFrame()\n",
    "    vif['VIF'] = [variance_inflation_factor(X.values, i) for i in range(X.shape[1])]\n",
    "    vif['variable'] = X.columns\n",
    "\n",
    "    print(vif)"
   ]
  },
  {
   "cell_type": "code",
   "execution_count": 140,
   "id": "730b1a92",
   "metadata": {},
   "outputs": [
    {
     "name": "stdout",
     "output_type": "stream",
     "text": [
      "              VIF       variable\n",
      "0   156346.737923      Intercept\n",
      "1        2.676907        ThreePA\n",
      "2        2.831759            FTM\n",
      "3        3.534463           OREB\n",
      "4        2.601932            BLK\n",
      "5        2.493270             GP\n",
      "6        3.264945            AST\n",
      "7        3.026374            STL\n",
      "8        1.362691      FGPercent\n",
      "9        1.798608  ThreePPercent\n",
      "10       1.374368      FTPercent\n",
      "11       3.763471             PF\n",
      "12       4.358924         HEIGHT\n",
      "13       3.428328         WEIGHT\n",
      "14       2.600452         CENTER\n",
      "15       1.961132        FORWARD\n",
      "16       3.524703          GUARD\n",
      "17       1.579428    OVERALLPICK\n",
      "18       1.369708           YEAR\n"
     ]
    }
   ],
   "source": [
    "mcorr = \"ROTY ~ ThreePA + FTM + OREB + BLK + GP + AST + STL + FGPercent + ThreePPercent + FTPercent + PF + \\\n",
    "HEIGHT + WEIGHT + CENTER + FORWARD + GUARD + OVERALLPICK + YEAR\"\n",
    "\n",
    "y, X = dmatrices(mcorr, data=df_train, return_type='dataframe')\n",
    "\n",
    "\n",
    "vif = pd.DataFrame()\n",
    "vif['VIF'] = [variance_inflation_factor(X.values, i) for i in range(X.shape[1])]\n",
    "vif['variable'] = X.columns\n",
    "\n",
    "print(vif)"
   ]
  },
  {
   "cell_type": "code",
   "execution_count": 141,
   "id": "79cd56b9",
   "metadata": {},
   "outputs": [
    {
     "data": {
      "text/html": [
       "<div>\n",
       "<style scoped>\n",
       "    .dataframe tbody tr th:only-of-type {\n",
       "        vertical-align: middle;\n",
       "    }\n",
       "\n",
       "    .dataframe tbody tr th {\n",
       "        vertical-align: top;\n",
       "    }\n",
       "\n",
       "    .dataframe thead th {\n",
       "        text-align: right;\n",
       "    }\n",
       "</style>\n",
       "<table border=\"1\" class=\"dataframe\">\n",
       "  <thead>\n",
       "    <tr style=\"text-align: right;\">\n",
       "      <th></th>\n",
       "      <th>ROTY</th>\n",
       "    </tr>\n",
       "    <tr>\n",
       "      <th>TEAM</th>\n",
       "      <th></th>\n",
       "    </tr>\n",
       "  </thead>\n",
       "  <tbody>\n",
       "    <tr>\n",
       "      <th>POR</th>\n",
       "      <td>2.0</td>\n",
       "    </tr>\n",
       "    <tr>\n",
       "      <th>CHA</th>\n",
       "      <td>2.0</td>\n",
       "    </tr>\n",
       "    <tr>\n",
       "      <th>MIN</th>\n",
       "      <td>2.0</td>\n",
       "    </tr>\n",
       "    <tr>\n",
       "      <th>MEM</th>\n",
       "      <td>2.0</td>\n",
       "    </tr>\n",
       "    <tr>\n",
       "      <th>PHI</th>\n",
       "      <td>2.0</td>\n",
       "    </tr>\n",
       "    <tr>\n",
       "      <th>PHX</th>\n",
       "      <td>1.0</td>\n",
       "    </tr>\n",
       "    <tr>\n",
       "      <th>NOH</th>\n",
       "      <td>1.0</td>\n",
       "    </tr>\n",
       "    <tr>\n",
       "      <th>LAC</th>\n",
       "      <td>1.0</td>\n",
       "    </tr>\n",
       "    <tr>\n",
       "      <th>MIL</th>\n",
       "      <td>1.0</td>\n",
       "    </tr>\n",
       "    <tr>\n",
       "      <th>SEA</th>\n",
       "      <td>1.0</td>\n",
       "    </tr>\n",
       "    <tr>\n",
       "      <th>DAL</th>\n",
       "      <td>1.0</td>\n",
       "    </tr>\n",
       "    <tr>\n",
       "      <th>CLE</th>\n",
       "      <td>1.0</td>\n",
       "    </tr>\n",
       "    <tr>\n",
       "      <th>CHI</th>\n",
       "      <td>1.0</td>\n",
       "    </tr>\n",
       "    <tr>\n",
       "      <th>TOR</th>\n",
       "      <td>1.0</td>\n",
       "    </tr>\n",
       "    <tr>\n",
       "      <th>NOK</th>\n",
       "      <td>1.0</td>\n",
       "    </tr>\n",
       "    <tr>\n",
       "      <th>SAS</th>\n",
       "      <td>0.0</td>\n",
       "    </tr>\n",
       "    <tr>\n",
       "      <th>SAC</th>\n",
       "      <td>0.0</td>\n",
       "    </tr>\n",
       "    <tr>\n",
       "      <th>NOP</th>\n",
       "      <td>0.0</td>\n",
       "    </tr>\n",
       "    <tr>\n",
       "      <th>ORL</th>\n",
       "      <td>0.0</td>\n",
       "    </tr>\n",
       "    <tr>\n",
       "      <th>OKC</th>\n",
       "      <td>0.0</td>\n",
       "    </tr>\n",
       "    <tr>\n",
       "      <th>NYK</th>\n",
       "      <td>0.0</td>\n",
       "    </tr>\n",
       "    <tr>\n",
       "      <th>UTA</th>\n",
       "      <td>0.0</td>\n",
       "    </tr>\n",
       "    <tr>\n",
       "      <th>ATL</th>\n",
       "      <td>0.0</td>\n",
       "    </tr>\n",
       "    <tr>\n",
       "      <th>NJN</th>\n",
       "      <td>0.0</td>\n",
       "    </tr>\n",
       "    <tr>\n",
       "      <th>BKN</th>\n",
       "      <td>0.0</td>\n",
       "    </tr>\n",
       "    <tr>\n",
       "      <th>MIA</th>\n",
       "      <td>0.0</td>\n",
       "    </tr>\n",
       "    <tr>\n",
       "      <th>LAL</th>\n",
       "      <td>0.0</td>\n",
       "    </tr>\n",
       "    <tr>\n",
       "      <th>IND</th>\n",
       "      <td>0.0</td>\n",
       "    </tr>\n",
       "    <tr>\n",
       "      <th>HOU</th>\n",
       "      <td>0.0</td>\n",
       "    </tr>\n",
       "    <tr>\n",
       "      <th>GSW</th>\n",
       "      <td>0.0</td>\n",
       "    </tr>\n",
       "    <tr>\n",
       "      <th>DET</th>\n",
       "      <td>0.0</td>\n",
       "    </tr>\n",
       "    <tr>\n",
       "      <th>DEN</th>\n",
       "      <td>0.0</td>\n",
       "    </tr>\n",
       "    <tr>\n",
       "      <th>CHH</th>\n",
       "      <td>0.0</td>\n",
       "    </tr>\n",
       "    <tr>\n",
       "      <th>BOS</th>\n",
       "      <td>0.0</td>\n",
       "    </tr>\n",
       "    <tr>\n",
       "      <th>WAS</th>\n",
       "      <td>0.0</td>\n",
       "    </tr>\n",
       "  </tbody>\n",
       "</table>\n",
       "</div>"
      ],
      "text/plain": [
       "      ROTY\n",
       "TEAM      \n",
       "POR    2.0\n",
       "CHA    2.0\n",
       "MIN    2.0\n",
       "MEM    2.0\n",
       "PHI    2.0\n",
       "PHX    1.0\n",
       "NOH    1.0\n",
       "LAC    1.0\n",
       "MIL    1.0\n",
       "SEA    1.0\n",
       "DAL    1.0\n",
       "CLE    1.0\n",
       "CHI    1.0\n",
       "TOR    1.0\n",
       "NOK    1.0\n",
       "SAS    0.0\n",
       "SAC    0.0\n",
       "NOP    0.0\n",
       "ORL    0.0\n",
       "OKC    0.0\n",
       "NYK    0.0\n",
       "UTA    0.0\n",
       "ATL    0.0\n",
       "NJN    0.0\n",
       "BKN    0.0\n",
       "MIA    0.0\n",
       "LAL    0.0\n",
       "IND    0.0\n",
       "HOU    0.0\n",
       "GSW    0.0\n",
       "DET    0.0\n",
       "DEN    0.0\n",
       "CHH    0.0\n",
       "BOS    0.0\n",
       "WAS    0.0"
      ]
     },
     "execution_count": 141,
     "metadata": {},
     "output_type": "execute_result"
    }
   ],
   "source": [
    "pd.pivot_table(df_train, index=\"TEAM\", values=\"ROTY\", aggfunc='sum').sort_values(\"ROTY\", ascending=False)"
   ]
  },
  {
   "cell_type": "code",
   "execution_count": 142,
   "id": "89ff9d19",
   "metadata": {},
   "outputs": [
    {
     "data": {
      "text/html": [
       "<div>\n",
       "<style scoped>\n",
       "    .dataframe tbody tr th:only-of-type {\n",
       "        vertical-align: middle;\n",
       "    }\n",
       "\n",
       "    .dataframe tbody tr th {\n",
       "        vertical-align: top;\n",
       "    }\n",
       "\n",
       "    .dataframe thead th {\n",
       "        text-align: right;\n",
       "    }\n",
       "</style>\n",
       "<table border=\"1\" class=\"dataframe\">\n",
       "  <thead>\n",
       "    <tr style=\"text-align: right;\">\n",
       "      <th></th>\n",
       "      <th>ROTY</th>\n",
       "    </tr>\n",
       "    <tr>\n",
       "      <th>AFFILIATION</th>\n",
       "      <th></th>\n",
       "    </tr>\n",
       "  </thead>\n",
       "  <tbody>\n",
       "    <tr>\n",
       "      <th>Real Madrid Baloncesto (Spain)</th>\n",
       "      <td>1.0</td>\n",
       "    </tr>\n",
       "    <tr>\n",
       "      <th>Florida State</th>\n",
       "      <td>1.0</td>\n",
       "    </tr>\n",
       "    <tr>\n",
       "      <th>Kentucky</th>\n",
       "      <td>1.0</td>\n",
       "    </tr>\n",
       "    <tr>\n",
       "      <th>Connecticut</th>\n",
       "      <td>1.0</td>\n",
       "    </tr>\n",
       "    <tr>\n",
       "      <th>Louisiana State</th>\n",
       "      <td>1.0</td>\n",
       "    </tr>\n",
       "    <tr>\n",
       "      <th>Syracuse</th>\n",
       "      <td>1.0</td>\n",
       "    </tr>\n",
       "    <tr>\n",
       "      <th>Cypress Creek</th>\n",
       "      <td>1.0</td>\n",
       "    </tr>\n",
       "    <tr>\n",
       "      <th>Virginia</th>\n",
       "      <td>1.0</td>\n",
       "    </tr>\n",
       "    <tr>\n",
       "      <th>Oklahoma</th>\n",
       "      <td>1.0</td>\n",
       "    </tr>\n",
       "    <tr>\n",
       "      <th>Wake Forest</th>\n",
       "      <td>1.0</td>\n",
       "    </tr>\n",
       "    <tr>\n",
       "      <th>Kansas</th>\n",
       "      <td>1.0</td>\n",
       "    </tr>\n",
       "    <tr>\n",
       "      <th>Washington</th>\n",
       "      <td>1.0</td>\n",
       "    </tr>\n",
       "    <tr>\n",
       "      <th>Weber State</th>\n",
       "      <td>1.0</td>\n",
       "    </tr>\n",
       "    <tr>\n",
       "      <th>Illawarra (Australia)</th>\n",
       "      <td>1.0</td>\n",
       "    </tr>\n",
       "    <tr>\n",
       "      <th>Duke</th>\n",
       "      <td>1.0</td>\n",
       "    </tr>\n",
       "    <tr>\n",
       "      <th>Georgetown</th>\n",
       "      <td>1.0</td>\n",
       "    </tr>\n",
       "    <tr>\n",
       "      <th>Murray State</th>\n",
       "      <td>1.0</td>\n",
       "    </tr>\n",
       "    <tr>\n",
       "      <th>Texas</th>\n",
       "      <td>1.0</td>\n",
       "    </tr>\n",
       "    <tr>\n",
       "      <th>FC Barcelona Basquet (Spain)</th>\n",
       "      <td>1.0</td>\n",
       "    </tr>\n",
       "    <tr>\n",
       "      <th>Memphis</th>\n",
       "      <td>1.0</td>\n",
       "    </tr>\n",
       "  </tbody>\n",
       "</table>\n",
       "</div>"
      ],
      "text/plain": [
       "                                ROTY\n",
       "AFFILIATION                         \n",
       "Real Madrid Baloncesto (Spain)   1.0\n",
       "Florida State                    1.0\n",
       "Kentucky                         1.0\n",
       "Connecticut                      1.0\n",
       "Louisiana State                  1.0\n",
       "Syracuse                         1.0\n",
       "Cypress Creek                    1.0\n",
       "Virginia                         1.0\n",
       "Oklahoma                         1.0\n",
       "Wake Forest                      1.0\n",
       "Kansas                           1.0\n",
       "Washington                       1.0\n",
       "Weber State                      1.0\n",
       "Illawarra (Australia)            1.0\n",
       "Duke                             1.0\n",
       "Georgetown                       1.0\n",
       "Murray State                     1.0\n",
       "Texas                            1.0\n",
       "FC Barcelona Basquet (Spain)     1.0\n",
       "Memphis                          1.0"
      ]
     },
     "execution_count": 142,
     "metadata": {},
     "output_type": "execute_result"
    }
   ],
   "source": [
    "pd.pivot_table(df, index=\"AFFILIATION\", values=\"ROTY\", aggfunc='sum').sort_values(\"ROTY\", ascending=False).head(20)"
   ]
  },
  {
   "cell_type": "code",
   "execution_count": 143,
   "id": "04d63d20",
   "metadata": {},
   "outputs": [
    {
     "data": {
      "text/html": [
       "<div>\n",
       "<style scoped>\n",
       "    .dataframe tbody tr th:only-of-type {\n",
       "        vertical-align: middle;\n",
       "    }\n",
       "\n",
       "    .dataframe tbody tr th {\n",
       "        vertical-align: top;\n",
       "    }\n",
       "\n",
       "    .dataframe thead th {\n",
       "        text-align: right;\n",
       "    }\n",
       "</style>\n",
       "<table border=\"1\" class=\"dataframe\">\n",
       "  <thead>\n",
       "    <tr style=\"text-align: right;\">\n",
       "      <th></th>\n",
       "      <th>ROTY</th>\n",
       "    </tr>\n",
       "    <tr>\n",
       "      <th>POSITION</th>\n",
       "      <th></th>\n",
       "    </tr>\n",
       "  </thead>\n",
       "  <tbody>\n",
       "    <tr>\n",
       "      <th>Guard</th>\n",
       "      <td>9.0</td>\n",
       "    </tr>\n",
       "    <tr>\n",
       "      <th>Forward</th>\n",
       "      <td>5.0</td>\n",
       "    </tr>\n",
       "    <tr>\n",
       "      <th>Center-Forward</th>\n",
       "      <td>2.0</td>\n",
       "    </tr>\n",
       "    <tr>\n",
       "      <th>Center</th>\n",
       "      <td>1.0</td>\n",
       "    </tr>\n",
       "    <tr>\n",
       "      <th>Forward-Center</th>\n",
       "      <td>1.0</td>\n",
       "    </tr>\n",
       "    <tr>\n",
       "      <th>Forward-Guard</th>\n",
       "      <td>1.0</td>\n",
       "    </tr>\n",
       "    <tr>\n",
       "      <th>Guard-Forward</th>\n",
       "      <td>1.0</td>\n",
       "    </tr>\n",
       "  </tbody>\n",
       "</table>\n",
       "</div>"
      ],
      "text/plain": [
       "                ROTY\n",
       "POSITION            \n",
       "Guard            9.0\n",
       "Forward          5.0\n",
       "Center-Forward   2.0\n",
       "Center           1.0\n",
       "Forward-Center   1.0\n",
       "Forward-Guard    1.0\n",
       "Guard-Forward    1.0"
      ]
     },
     "execution_count": 143,
     "metadata": {},
     "output_type": "execute_result"
    }
   ],
   "source": [
    "pd.pivot_table(df_train, index=\"POSITION\", values=\"ROTY\", aggfunc=\"sum\").sort_values(\"ROTY\", ascending=False)"
   ]
  },
  {
   "cell_type": "code",
   "execution_count": 144,
   "id": "11dce152",
   "metadata": {},
   "outputs": [
    {
     "data": {
      "text/html": [
       "<div>\n",
       "<style scoped>\n",
       "    .dataframe tbody tr th:only-of-type {\n",
       "        vertical-align: middle;\n",
       "    }\n",
       "\n",
       "    .dataframe tbody tr th {\n",
       "        vertical-align: top;\n",
       "    }\n",
       "\n",
       "    .dataframe thead th {\n",
       "        text-align: right;\n",
       "    }\n",
       "</style>\n",
       "<table border=\"1\" class=\"dataframe\">\n",
       "  <thead>\n",
       "    <tr style=\"text-align: right;\">\n",
       "      <th></th>\n",
       "      <th>ROTY</th>\n",
       "      <th>ThreePA</th>\n",
       "      <th>FTM</th>\n",
       "      <th>OREB</th>\n",
       "      <th>BLK</th>\n",
       "      <th>GP</th>\n",
       "      <th>AST</th>\n",
       "      <th>STL</th>\n",
       "      <th>FGPercent</th>\n",
       "      <th>ThreePPercent</th>\n",
       "      <th>FTPercent</th>\n",
       "      <th>PF</th>\n",
       "      <th>HEIGHT</th>\n",
       "      <th>WEIGHT</th>\n",
       "      <th>CENTER</th>\n",
       "      <th>FORWARD</th>\n",
       "      <th>GUARD</th>\n",
       "      <th>OVERALLPICK</th>\n",
       "      <th>YEAR</th>\n",
       "    </tr>\n",
       "  </thead>\n",
       "  <tbody>\n",
       "    <tr>\n",
       "      <th>0</th>\n",
       "      <td>0.0</td>\n",
       "      <td>0.0</td>\n",
       "      <td>1.2</td>\n",
       "      <td>1.1</td>\n",
       "      <td>0.5</td>\n",
       "      <td>57.0</td>\n",
       "      <td>0.8</td>\n",
       "      <td>0.3</td>\n",
       "      <td>38.7</td>\n",
       "      <td>0.0</td>\n",
       "      <td>70.7</td>\n",
       "      <td>1.8</td>\n",
       "      <td>2.11</td>\n",
       "      <td>132.0</td>\n",
       "      <td>1</td>\n",
       "      <td>0</td>\n",
       "      <td>0</td>\n",
       "      <td>1</td>\n",
       "      <td>2001</td>\n",
       "    </tr>\n",
       "    <tr>\n",
       "      <th>1</th>\n",
       "      <td>1.0</td>\n",
       "      <td>0.1</td>\n",
       "      <td>4.1</td>\n",
       "      <td>2.9</td>\n",
       "      <td>2.1</td>\n",
       "      <td>82.0</td>\n",
       "      <td>2.7</td>\n",
       "      <td>0.5</td>\n",
       "      <td>51.8</td>\n",
       "      <td>20.0</td>\n",
       "      <td>70.9</td>\n",
       "      <td>2.4</td>\n",
       "      <td>2.13</td>\n",
       "      <td>113.0</td>\n",
       "      <td>1</td>\n",
       "      <td>1</td>\n",
       "      <td>0</td>\n",
       "      <td>3</td>\n",
       "      <td>2001</td>\n",
       "    </tr>\n",
       "    <tr>\n",
       "      <th>2</th>\n",
       "      <td>0.0</td>\n",
       "      <td>3.1</td>\n",
       "      <td>1.8</td>\n",
       "      <td>1.6</td>\n",
       "      <td>0.4</td>\n",
       "      <td>80.0</td>\n",
       "      <td>3.0</td>\n",
       "      <td>1.3</td>\n",
       "      <td>42.6</td>\n",
       "      <td>33.3</td>\n",
       "      <td>67.1</td>\n",
       "      <td>2.4</td>\n",
       "      <td>1.98</td>\n",
       "      <td>102.0</td>\n",
       "      <td>0</td>\n",
       "      <td>0</td>\n",
       "      <td>1</td>\n",
       "      <td>5</td>\n",
       "      <td>2001</td>\n",
       "    </tr>\n",
       "    <tr>\n",
       "      <th>3</th>\n",
       "      <td>0.0</td>\n",
       "      <td>3.5</td>\n",
       "      <td>2.5</td>\n",
       "      <td>2.3</td>\n",
       "      <td>1.0</td>\n",
       "      <td>78.0</td>\n",
       "      <td>2.8</td>\n",
       "      <td>1.6</td>\n",
       "      <td>42.9</td>\n",
       "      <td>37.3</td>\n",
       "      <td>70.0</td>\n",
       "      <td>2.8</td>\n",
       "      <td>2.03</td>\n",
       "      <td>100.0</td>\n",
       "      <td>0</td>\n",
       "      <td>1</td>\n",
       "      <td>0</td>\n",
       "      <td>6</td>\n",
       "      <td>2001</td>\n",
       "    </tr>\n",
       "    <tr>\n",
       "      <th>4</th>\n",
       "      <td>0.0</td>\n",
       "      <td>0.0</td>\n",
       "      <td>0.1</td>\n",
       "      <td>0.3</td>\n",
       "      <td>0.6</td>\n",
       "      <td>18.0</td>\n",
       "      <td>0.3</td>\n",
       "      <td>0.1</td>\n",
       "      <td>41.4</td>\n",
       "      <td>0.0</td>\n",
       "      <td>20.0</td>\n",
       "      <td>1.1</td>\n",
       "      <td>2.13</td>\n",
       "      <td>127.0</td>\n",
       "      <td>1</td>\n",
       "      <td>0</td>\n",
       "      <td>0</td>\n",
       "      <td>8</td>\n",
       "      <td>2001</td>\n",
       "    </tr>\n",
       "    <tr>\n",
       "      <th>...</th>\n",
       "      <td>...</td>\n",
       "      <td>...</td>\n",
       "      <td>...</td>\n",
       "      <td>...</td>\n",
       "      <td>...</td>\n",
       "      <td>...</td>\n",
       "      <td>...</td>\n",
       "      <td>...</td>\n",
       "      <td>...</td>\n",
       "      <td>...</td>\n",
       "      <td>...</td>\n",
       "      <td>...</td>\n",
       "      <td>...</td>\n",
       "      <td>...</td>\n",
       "      <td>...</td>\n",
       "      <td>...</td>\n",
       "      <td>...</td>\n",
       "      <td>...</td>\n",
       "      <td>...</td>\n",
       "    </tr>\n",
       "    <tr>\n",
       "      <th>825</th>\n",
       "      <td>0.0</td>\n",
       "      <td>0.2</td>\n",
       "      <td>0.4</td>\n",
       "      <td>1.0</td>\n",
       "      <td>0.7</td>\n",
       "      <td>23.0</td>\n",
       "      <td>0.3</td>\n",
       "      <td>0.2</td>\n",
       "      <td>63.8</td>\n",
       "      <td>0.0</td>\n",
       "      <td>75.0</td>\n",
       "      <td>1.4</td>\n",
       "      <td>2.06</td>\n",
       "      <td>104.0</td>\n",
       "      <td>1</td>\n",
       "      <td>1</td>\n",
       "      <td>0</td>\n",
       "      <td>53</td>\n",
       "      <td>2021</td>\n",
       "    </tr>\n",
       "    <tr>\n",
       "      <th>826</th>\n",
       "      <td>0.0</td>\n",
       "      <td>1.3</td>\n",
       "      <td>0.4</td>\n",
       "      <td>0.9</td>\n",
       "      <td>0.2</td>\n",
       "      <td>41.0</td>\n",
       "      <td>0.5</td>\n",
       "      <td>0.2</td>\n",
       "      <td>49.6</td>\n",
       "      <td>42.3</td>\n",
       "      <td>81.8</td>\n",
       "      <td>0.7</td>\n",
       "      <td>2.06</td>\n",
       "      <td>109.0</td>\n",
       "      <td>1</td>\n",
       "      <td>1</td>\n",
       "      <td>0</td>\n",
       "      <td>54</td>\n",
       "      <td>2021</td>\n",
       "    </tr>\n",
       "    <tr>\n",
       "      <th>827</th>\n",
       "      <td>0.0</td>\n",
       "      <td>2.8</td>\n",
       "      <td>1.2</td>\n",
       "      <td>1.0</td>\n",
       "      <td>0.2</td>\n",
       "      <td>50.0</td>\n",
       "      <td>1.4</td>\n",
       "      <td>0.6</td>\n",
       "      <td>46.3</td>\n",
       "      <td>30.4</td>\n",
       "      <td>72.9</td>\n",
       "      <td>1.9</td>\n",
       "      <td>1.93</td>\n",
       "      <td>86.0</td>\n",
       "      <td>0</td>\n",
       "      <td>0</td>\n",
       "      <td>1</td>\n",
       "      <td>55</td>\n",
       "      <td>2021</td>\n",
       "    </tr>\n",
       "    <tr>\n",
       "      <th>828</th>\n",
       "      <td>0.0</td>\n",
       "      <td>0.0</td>\n",
       "      <td>0.5</td>\n",
       "      <td>0.0</td>\n",
       "      <td>0.0</td>\n",
       "      <td>2.0</td>\n",
       "      <td>0.5</td>\n",
       "      <td>0.5</td>\n",
       "      <td>0.0</td>\n",
       "      <td>0.0</td>\n",
       "      <td>50.0</td>\n",
       "      <td>0.0</td>\n",
       "      <td>1.96</td>\n",
       "      <td>84.0</td>\n",
       "      <td>0</td>\n",
       "      <td>0</td>\n",
       "      <td>1</td>\n",
       "      <td>56</td>\n",
       "      <td>2021</td>\n",
       "    </tr>\n",
       "    <tr>\n",
       "      <th>829</th>\n",
       "      <td>0.0</td>\n",
       "      <td>0.0</td>\n",
       "      <td>0.3</td>\n",
       "      <td>1.5</td>\n",
       "      <td>0.5</td>\n",
       "      <td>41.0</td>\n",
       "      <td>0.5</td>\n",
       "      <td>0.3</td>\n",
       "      <td>72.2</td>\n",
       "      <td>0.0</td>\n",
       "      <td>41.4</td>\n",
       "      <td>1.6</td>\n",
       "      <td>2.06</td>\n",
       "      <td>113.0</td>\n",
       "      <td>1</td>\n",
       "      <td>0</td>\n",
       "      <td>0</td>\n",
       "      <td>58</td>\n",
       "      <td>2021</td>\n",
       "    </tr>\n",
       "  </tbody>\n",
       "</table>\n",
       "<p>830 rows × 19 columns</p>\n",
       "</div>"
      ],
      "text/plain": [
       "     ROTY  ThreePA  FTM  OREB  BLK    GP  AST  STL  FGPercent  ThreePPercent  \\\n",
       "0     0.0      0.0  1.2   1.1  0.5  57.0  0.8  0.3       38.7            0.0   \n",
       "1     1.0      0.1  4.1   2.9  2.1  82.0  2.7  0.5       51.8           20.0   \n",
       "2     0.0      3.1  1.8   1.6  0.4  80.0  3.0  1.3       42.6           33.3   \n",
       "3     0.0      3.5  2.5   2.3  1.0  78.0  2.8  1.6       42.9           37.3   \n",
       "4     0.0      0.0  0.1   0.3  0.6  18.0  0.3  0.1       41.4            0.0   \n",
       "..    ...      ...  ...   ...  ...   ...  ...  ...        ...            ...   \n",
       "825   0.0      0.2  0.4   1.0  0.7  23.0  0.3  0.2       63.8            0.0   \n",
       "826   0.0      1.3  0.4   0.9  0.2  41.0  0.5  0.2       49.6           42.3   \n",
       "827   0.0      2.8  1.2   1.0  0.2  50.0  1.4  0.6       46.3           30.4   \n",
       "828   0.0      0.0  0.5   0.0  0.0   2.0  0.5  0.5        0.0            0.0   \n",
       "829   0.0      0.0  0.3   1.5  0.5  41.0  0.5  0.3       72.2            0.0   \n",
       "\n",
       "     FTPercent   PF  HEIGHT  WEIGHT  CENTER  FORWARD  GUARD  OVERALLPICK  YEAR  \n",
       "0         70.7  1.8    2.11   132.0       1        0      0            1  2001  \n",
       "1         70.9  2.4    2.13   113.0       1        1      0            3  2001  \n",
       "2         67.1  2.4    1.98   102.0       0        0      1            5  2001  \n",
       "3         70.0  2.8    2.03   100.0       0        1      0            6  2001  \n",
       "4         20.0  1.1    2.13   127.0       1        0      0            8  2001  \n",
       "..         ...  ...     ...     ...     ...      ...    ...          ...   ...  \n",
       "825       75.0  1.4    2.06   104.0       1        1      0           53  2021  \n",
       "826       81.8  0.7    2.06   109.0       1        1      0           54  2021  \n",
       "827       72.9  1.9    1.93    86.0       0        0      1           55  2021  \n",
       "828       50.0  0.0    1.96    84.0       0        0      1           56  2021  \n",
       "829       41.4  1.6    2.06   113.0       1        0      0           58  2021  \n",
       "\n",
       "[830 rows x 19 columns]"
      ]
     },
     "execution_count": 144,
     "metadata": {},
     "output_type": "execute_result"
    }
   ],
   "source": [
    "df_train[[\"ROTY\", \"ThreePA\", \"FTM\", \"OREB\", \"BLK\", \"GP\", \"AST\", \"STL\", \"FGPercent\", \"ThreePPercent\", \\\n",
    "         \"FTPercent\", \"PF\", \"HEIGHT\", \"WEIGHT\", \"CENTER\", \"FORWARD\", \"GUARD\", \"OVERALLPICK\", \"YEAR\"]] #cols with low VIF"
   ]
  },
  {
   "cell_type": "code",
   "execution_count": null,
   "id": "663da0a9",
   "metadata": {},
   "outputs": [],
   "source": []
  }
 ],
 "metadata": {
  "kernelspec": {
   "display_name": "Python 3 (ipykernel)",
   "language": "python",
   "name": "python3"
  },
  "language_info": {
   "codemirror_mode": {
    "name": "ipython",
    "version": 3
   },
   "file_extension": ".py",
   "mimetype": "text/x-python",
   "name": "python",
   "nbconvert_exporter": "python",
   "pygments_lexer": "ipython3",
   "version": "3.9.7"
  }
 },
 "nbformat": 4,
 "nbformat_minor": 5
}
