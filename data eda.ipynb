{
 "cells": [
  {
   "cell_type": "code",
   "execution_count": 15,
   "id": "e63a2d89",
   "metadata": {},
   "outputs": [],
   "source": [
    "import pandas as pd\n",
    "import matplotlib.pyplot as plt\n",
    "import seaborn as sns\n",
    "import numpy as np\n",
    "from patsy import dmatrices\n",
    "from statsmodels.stats.outliers_influence import variance_inflation_factor\n",
    "import re"
   ]
  },
  {
   "cell_type": "code",
   "execution_count": 28,
   "id": "6c812e8b",
   "metadata": {},
   "outputs": [],
   "source": [
    "df = pd.read_csv(\"draft_df_cleaned.csv\", index_col=0)"
   ]
  },
  {
   "cell_type": "code",
   "execution_count": 29,
   "id": "e6a18844",
   "metadata": {},
   "outputs": [],
   "source": [
    "df['ThreePPercent'] = pd.to_numeric(df['ThreePPercent'], errors='coerce')"
   ]
  },
  {
   "cell_type": "code",
   "execution_count": 30,
   "id": "b7a127fb",
   "metadata": {
    "scrolled": true
   },
   "outputs": [
    {
     "data": {
      "text/html": [
       "<div>\n",
       "<style scoped>\n",
       "    .dataframe tbody tr th:only-of-type {\n",
       "        vertical-align: middle;\n",
       "    }\n",
       "\n",
       "    .dataframe tbody tr th {\n",
       "        vertical-align: top;\n",
       "    }\n",
       "\n",
       "    .dataframe thead th {\n",
       "        text-align: right;\n",
       "    }\n",
       "</style>\n",
       "<table border=\"1\" class=\"dataframe\">\n",
       "  <thead>\n",
       "    <tr style=\"text-align: right;\">\n",
       "      <th></th>\n",
       "      <th>PLAYER</th>\n",
       "      <th>AFFILIATION</th>\n",
       "      <th>OVERALL PICK</th>\n",
       "      <th>YEAR</th>\n",
       "      <th>TEAM</th>\n",
       "      <th>GP</th>\n",
       "      <th>MIN</th>\n",
       "      <th>PTS</th>\n",
       "      <th>FGM</th>\n",
       "      <th>FGA</th>\n",
       "      <th>...</th>\n",
       "      <th>BLK</th>\n",
       "      <th>PF</th>\n",
       "      <th>HEIGHT</th>\n",
       "      <th>WEIGHT</th>\n",
       "      <th>POSITION</th>\n",
       "      <th>ROTY</th>\n",
       "      <th>CENTER</th>\n",
       "      <th>FORWARD</th>\n",
       "      <th>GUARD</th>\n",
       "      <th>ROOKIE</th>\n",
       "    </tr>\n",
       "  </thead>\n",
       "  <tbody>\n",
       "    <tr>\n",
       "      <th>0</th>\n",
       "      <td>Kwame Brown</td>\n",
       "      <td>Glynn Academy</td>\n",
       "      <td>1</td>\n",
       "      <td>2001</td>\n",
       "      <td>WAS</td>\n",
       "      <td>57.0</td>\n",
       "      <td>14.3</td>\n",
       "      <td>4.5</td>\n",
       "      <td>1.6</td>\n",
       "      <td>4.3</td>\n",
       "      <td>...</td>\n",
       "      <td>0.5</td>\n",
       "      <td>1.8</td>\n",
       "      <td>2.11</td>\n",
       "      <td>132.0</td>\n",
       "      <td>Center</td>\n",
       "      <td>0</td>\n",
       "      <td>1</td>\n",
       "      <td>0</td>\n",
       "      <td>0</td>\n",
       "      <td>0</td>\n",
       "    </tr>\n",
       "    <tr>\n",
       "      <th>1</th>\n",
       "      <td>Tyson Chandler</td>\n",
       "      <td>Dominguez</td>\n",
       "      <td>2</td>\n",
       "      <td>2001</td>\n",
       "      <td>CHI</td>\n",
       "      <td>71.0</td>\n",
       "      <td>19.6</td>\n",
       "      <td>6.1</td>\n",
       "      <td>2.1</td>\n",
       "      <td>4.3</td>\n",
       "      <td>...</td>\n",
       "      <td>1.3</td>\n",
       "      <td>2.5</td>\n",
       "      <td>2.13</td>\n",
       "      <td>107.0</td>\n",
       "      <td>Center</td>\n",
       "      <td>0</td>\n",
       "      <td>1</td>\n",
       "      <td>0</td>\n",
       "      <td>0</td>\n",
       "      <td>0</td>\n",
       "    </tr>\n",
       "    <tr>\n",
       "      <th>2</th>\n",
       "      <td>Pau Gasol</td>\n",
       "      <td>FC Barcelona Basquet (Spain)</td>\n",
       "      <td>3</td>\n",
       "      <td>2001</td>\n",
       "      <td>MEM</td>\n",
       "      <td>82.0</td>\n",
       "      <td>36.6</td>\n",
       "      <td>17.6</td>\n",
       "      <td>6.7</td>\n",
       "      <td>13.0</td>\n",
       "      <td>...</td>\n",
       "      <td>2.1</td>\n",
       "      <td>2.4</td>\n",
       "      <td>2.13</td>\n",
       "      <td>113.0</td>\n",
       "      <td>Center-Forward</td>\n",
       "      <td>1</td>\n",
       "      <td>1</td>\n",
       "      <td>1</td>\n",
       "      <td>0</td>\n",
       "      <td>0</td>\n",
       "    </tr>\n",
       "    <tr>\n",
       "      <th>3</th>\n",
       "      <td>Jason Richardson</td>\n",
       "      <td>Michigan State</td>\n",
       "      <td>5</td>\n",
       "      <td>2001</td>\n",
       "      <td>GSW</td>\n",
       "      <td>80.0</td>\n",
       "      <td>32.8</td>\n",
       "      <td>14.4</td>\n",
       "      <td>5.8</td>\n",
       "      <td>13.6</td>\n",
       "      <td>...</td>\n",
       "      <td>0.4</td>\n",
       "      <td>2.4</td>\n",
       "      <td>1.98</td>\n",
       "      <td>102.0</td>\n",
       "      <td>Guard</td>\n",
       "      <td>0</td>\n",
       "      <td>0</td>\n",
       "      <td>0</td>\n",
       "      <td>1</td>\n",
       "      <td>0</td>\n",
       "    </tr>\n",
       "    <tr>\n",
       "      <th>4</th>\n",
       "      <td>Shane Battier</td>\n",
       "      <td>Duke</td>\n",
       "      <td>6</td>\n",
       "      <td>2001</td>\n",
       "      <td>MEM</td>\n",
       "      <td>78.0</td>\n",
       "      <td>39.7</td>\n",
       "      <td>14.4</td>\n",
       "      <td>5.3</td>\n",
       "      <td>12.3</td>\n",
       "      <td>...</td>\n",
       "      <td>1.0</td>\n",
       "      <td>2.8</td>\n",
       "      <td>2.03</td>\n",
       "      <td>100.0</td>\n",
       "      <td>Forward</td>\n",
       "      <td>0</td>\n",
       "      <td>0</td>\n",
       "      <td>1</td>\n",
       "      <td>0</td>\n",
       "      <td>0</td>\n",
       "    </tr>\n",
       "    <tr>\n",
       "      <th>...</th>\n",
       "      <td>...</td>\n",
       "      <td>...</td>\n",
       "      <td>...</td>\n",
       "      <td>...</td>\n",
       "      <td>...</td>\n",
       "      <td>...</td>\n",
       "      <td>...</td>\n",
       "      <td>...</td>\n",
       "      <td>...</td>\n",
       "      <td>...</td>\n",
       "      <td>...</td>\n",
       "      <td>...</td>\n",
       "      <td>...</td>\n",
       "      <td>...</td>\n",
       "      <td>...</td>\n",
       "      <td>...</td>\n",
       "      <td>...</td>\n",
       "      <td>...</td>\n",
       "      <td>...</td>\n",
       "      <td>...</td>\n",
       "      <td>...</td>\n",
       "    </tr>\n",
       "    <tr>\n",
       "      <th>888</th>\n",
       "      <td>Kendall Brown</td>\n",
       "      <td>Baylor</td>\n",
       "      <td>48</td>\n",
       "      <td>2022</td>\n",
       "      <td>Minnesota Timberwolves</td>\n",
       "      <td>34.0</td>\n",
       "      <td>27.1</td>\n",
       "      <td>9.7</td>\n",
       "      <td>3.9</td>\n",
       "      <td>6.6</td>\n",
       "      <td>...</td>\n",
       "      <td>0.4</td>\n",
       "      <td>2.3</td>\n",
       "      <td>2.03</td>\n",
       "      <td>93.0</td>\n",
       "      <td>Guard</td>\n",
       "      <td>0</td>\n",
       "      <td>0</td>\n",
       "      <td>0</td>\n",
       "      <td>1</td>\n",
       "      <td>1</td>\n",
       "    </tr>\n",
       "    <tr>\n",
       "      <th>889</th>\n",
       "      <td>Isaiah Mobley</td>\n",
       "      <td>Southern California</td>\n",
       "      <td>49</td>\n",
       "      <td>2022</td>\n",
       "      <td>Cleveland Cavaliers</td>\n",
       "      <td>31.0</td>\n",
       "      <td>20.4</td>\n",
       "      <td>6.2</td>\n",
       "      <td>2.4</td>\n",
       "      <td>5.0</td>\n",
       "      <td>...</td>\n",
       "      <td>0.6</td>\n",
       "      <td>2.2</td>\n",
       "      <td>2.03</td>\n",
       "      <td>108.0</td>\n",
       "      <td>Forward</td>\n",
       "      <td>0</td>\n",
       "      <td>0</td>\n",
       "      <td>1</td>\n",
       "      <td>0</td>\n",
       "      <td>1</td>\n",
       "    </tr>\n",
       "    <tr>\n",
       "      <th>890</th>\n",
       "      <td>Tyrese Martin</td>\n",
       "      <td>Connecticut</td>\n",
       "      <td>51</td>\n",
       "      <td>2022</td>\n",
       "      <td>Golden State Warriors</td>\n",
       "      <td>33.0</td>\n",
       "      <td>27.0</td>\n",
       "      <td>8.1</td>\n",
       "      <td>3.0</td>\n",
       "      <td>7.2</td>\n",
       "      <td>...</td>\n",
       "      <td>0.3</td>\n",
       "      <td>2.1</td>\n",
       "      <td>1.98</td>\n",
       "      <td>98.0</td>\n",
       "      <td>Guard</td>\n",
       "      <td>0</td>\n",
       "      <td>0</td>\n",
       "      <td>0</td>\n",
       "      <td>1</td>\n",
       "      <td>1</td>\n",
       "    </tr>\n",
       "    <tr>\n",
       "      <th>891</th>\n",
       "      <td>JD Davison</td>\n",
       "      <td>Alabama</td>\n",
       "      <td>53</td>\n",
       "      <td>2022</td>\n",
       "      <td>Boston Celtics</td>\n",
       "      <td>33.0</td>\n",
       "      <td>25.8</td>\n",
       "      <td>8.5</td>\n",
       "      <td>3.0</td>\n",
       "      <td>6.5</td>\n",
       "      <td>...</td>\n",
       "      <td>0.4</td>\n",
       "      <td>1.2</td>\n",
       "      <td>1.91</td>\n",
       "      <td>88.0</td>\n",
       "      <td>Guard</td>\n",
       "      <td>0</td>\n",
       "      <td>0</td>\n",
       "      <td>0</td>\n",
       "      <td>1</td>\n",
       "      <td>1</td>\n",
       "    </tr>\n",
       "    <tr>\n",
       "      <th>892</th>\n",
       "      <td>Jabari Walker</td>\n",
       "      <td>Colorado</td>\n",
       "      <td>57</td>\n",
       "      <td>2022</td>\n",
       "      <td>Portland Trail Blazers</td>\n",
       "      <td>26.0</td>\n",
       "      <td>14.2</td>\n",
       "      <td>7.6</td>\n",
       "      <td>2.7</td>\n",
       "      <td>5.1</td>\n",
       "      <td>...</td>\n",
       "      <td>0.5</td>\n",
       "      <td>2.1</td>\n",
       "      <td>2.03</td>\n",
       "      <td>91.0</td>\n",
       "      <td>Forward</td>\n",
       "      <td>0</td>\n",
       "      <td>0</td>\n",
       "      <td>1</td>\n",
       "      <td>0</td>\n",
       "      <td>1</td>\n",
       "    </tr>\n",
       "  </tbody>\n",
       "</table>\n",
       "<p>893 rows × 33 columns</p>\n",
       "</div>"
      ],
      "text/plain": [
       "               PLAYER                   AFFILIATION  OVERALL PICK  YEAR  \\\n",
       "0         Kwame Brown                 Glynn Academy             1  2001   \n",
       "1      Tyson Chandler                     Dominguez             2  2001   \n",
       "2           Pau Gasol  FC Barcelona Basquet (Spain)             3  2001   \n",
       "3    Jason Richardson                Michigan State             5  2001   \n",
       "4       Shane Battier                          Duke             6  2001   \n",
       "..                ...                           ...           ...   ...   \n",
       "888     Kendall Brown                        Baylor            48  2022   \n",
       "889     Isaiah Mobley           Southern California            49  2022   \n",
       "890     Tyrese Martin                   Connecticut            51  2022   \n",
       "891        JD Davison                       Alabama            53  2022   \n",
       "892     Jabari Walker                      Colorado            57  2022   \n",
       "\n",
       "                       TEAM    GP   MIN   PTS  FGM   FGA  ...  BLK   PF  \\\n",
       "0                       WAS  57.0  14.3   4.5  1.6   4.3  ...  0.5  1.8   \n",
       "1                       CHI  71.0  19.6   6.1  2.1   4.3  ...  1.3  2.5   \n",
       "2                       MEM  82.0  36.6  17.6  6.7  13.0  ...  2.1  2.4   \n",
       "3                       GSW  80.0  32.8  14.4  5.8  13.6  ...  0.4  2.4   \n",
       "4                       MEM  78.0  39.7  14.4  5.3  12.3  ...  1.0  2.8   \n",
       "..                      ...   ...   ...   ...  ...   ...  ...  ...  ...   \n",
       "888  Minnesota Timberwolves  34.0  27.1   9.7  3.9   6.6  ...  0.4  2.3   \n",
       "889     Cleveland Cavaliers  31.0  20.4   6.2  2.4   5.0  ...  0.6  2.2   \n",
       "890   Golden State Warriors  33.0  27.0   8.1  3.0   7.2  ...  0.3  2.1   \n",
       "891          Boston Celtics  33.0  25.8   8.5  3.0   6.5  ...  0.4  1.2   \n",
       "892  Portland Trail Blazers  26.0  14.2   7.6  2.7   5.1  ...  0.5  2.1   \n",
       "\n",
       "     HEIGHT  WEIGHT        POSITION  ROTY  CENTER  FORWARD  GUARD  ROOKIE  \n",
       "0      2.11   132.0          Center     0       1        0      0       0  \n",
       "1      2.13   107.0          Center     0       1        0      0       0  \n",
       "2      2.13   113.0  Center-Forward     1       1        1      0       0  \n",
       "3      1.98   102.0           Guard     0       0        0      1       0  \n",
       "4      2.03   100.0         Forward     0       0        1      0       0  \n",
       "..      ...     ...             ...   ...     ...      ...    ...     ...  \n",
       "888    2.03    93.0           Guard     0       0        0      1       1  \n",
       "889    2.03   108.0         Forward     0       0        1      0       1  \n",
       "890    1.98    98.0           Guard     0       0        0      1       1  \n",
       "891    1.91    88.0           Guard     0       0        0      1       1  \n",
       "892    2.03    91.0         Forward     0       0        1      0       1  \n",
       "\n",
       "[893 rows x 33 columns]"
      ]
     },
     "execution_count": 30,
     "metadata": {},
     "output_type": "execute_result"
    }
   ],
   "source": [
    "df"
   ]
  },
  {
   "cell_type": "code",
   "execution_count": 31,
   "id": "54c46e63",
   "metadata": {},
   "outputs": [],
   "source": [
    "df_train = df[df['ROOKIE'] == 0]"
   ]
  },
  {
   "cell_type": "code",
   "execution_count": 32,
   "id": "85ea55ca",
   "metadata": {},
   "outputs": [
    {
     "data": {
      "text/html": [
       "<div>\n",
       "<style scoped>\n",
       "    .dataframe tbody tr th:only-of-type {\n",
       "        vertical-align: middle;\n",
       "    }\n",
       "\n",
       "    .dataframe tbody tr th {\n",
       "        vertical-align: top;\n",
       "    }\n",
       "\n",
       "    .dataframe thead th {\n",
       "        text-align: right;\n",
       "    }\n",
       "</style>\n",
       "<table border=\"1\" class=\"dataframe\">\n",
       "  <thead>\n",
       "    <tr style=\"text-align: right;\">\n",
       "      <th></th>\n",
       "      <th>PLAYER</th>\n",
       "      <th>AFFILIATION</th>\n",
       "      <th>OVERALL PICK</th>\n",
       "      <th>YEAR</th>\n",
       "      <th>TEAM</th>\n",
       "      <th>GP</th>\n",
       "      <th>MIN</th>\n",
       "      <th>PTS</th>\n",
       "      <th>FGM</th>\n",
       "      <th>FGA</th>\n",
       "      <th>...</th>\n",
       "      <th>BLK</th>\n",
       "      <th>PF</th>\n",
       "      <th>HEIGHT</th>\n",
       "      <th>WEIGHT</th>\n",
       "      <th>POSITION</th>\n",
       "      <th>ROTY</th>\n",
       "      <th>CENTER</th>\n",
       "      <th>FORWARD</th>\n",
       "      <th>GUARD</th>\n",
       "      <th>ROOKIE</th>\n",
       "    </tr>\n",
       "  </thead>\n",
       "  <tbody>\n",
       "    <tr>\n",
       "      <th>0</th>\n",
       "      <td>Kwame Brown</td>\n",
       "      <td>Glynn Academy</td>\n",
       "      <td>1</td>\n",
       "      <td>2001</td>\n",
       "      <td>WAS</td>\n",
       "      <td>57.0</td>\n",
       "      <td>14.3</td>\n",
       "      <td>4.5</td>\n",
       "      <td>1.6</td>\n",
       "      <td>4.3</td>\n",
       "      <td>...</td>\n",
       "      <td>0.5</td>\n",
       "      <td>1.8</td>\n",
       "      <td>2.11</td>\n",
       "      <td>132.0</td>\n",
       "      <td>Center</td>\n",
       "      <td>0</td>\n",
       "      <td>1</td>\n",
       "      <td>0</td>\n",
       "      <td>0</td>\n",
       "      <td>0</td>\n",
       "    </tr>\n",
       "    <tr>\n",
       "      <th>1</th>\n",
       "      <td>Tyson Chandler</td>\n",
       "      <td>Dominguez</td>\n",
       "      <td>2</td>\n",
       "      <td>2001</td>\n",
       "      <td>CHI</td>\n",
       "      <td>71.0</td>\n",
       "      <td>19.6</td>\n",
       "      <td>6.1</td>\n",
       "      <td>2.1</td>\n",
       "      <td>4.3</td>\n",
       "      <td>...</td>\n",
       "      <td>1.3</td>\n",
       "      <td>2.5</td>\n",
       "      <td>2.13</td>\n",
       "      <td>107.0</td>\n",
       "      <td>Center</td>\n",
       "      <td>0</td>\n",
       "      <td>1</td>\n",
       "      <td>0</td>\n",
       "      <td>0</td>\n",
       "      <td>0</td>\n",
       "    </tr>\n",
       "    <tr>\n",
       "      <th>2</th>\n",
       "      <td>Pau Gasol</td>\n",
       "      <td>FC Barcelona Basquet (Spain)</td>\n",
       "      <td>3</td>\n",
       "      <td>2001</td>\n",
       "      <td>MEM</td>\n",
       "      <td>82.0</td>\n",
       "      <td>36.6</td>\n",
       "      <td>17.6</td>\n",
       "      <td>6.7</td>\n",
       "      <td>13.0</td>\n",
       "      <td>...</td>\n",
       "      <td>2.1</td>\n",
       "      <td>2.4</td>\n",
       "      <td>2.13</td>\n",
       "      <td>113.0</td>\n",
       "      <td>Center-Forward</td>\n",
       "      <td>1</td>\n",
       "      <td>1</td>\n",
       "      <td>1</td>\n",
       "      <td>0</td>\n",
       "      <td>0</td>\n",
       "    </tr>\n",
       "    <tr>\n",
       "      <th>3</th>\n",
       "      <td>Jason Richardson</td>\n",
       "      <td>Michigan State</td>\n",
       "      <td>5</td>\n",
       "      <td>2001</td>\n",
       "      <td>GSW</td>\n",
       "      <td>80.0</td>\n",
       "      <td>32.8</td>\n",
       "      <td>14.4</td>\n",
       "      <td>5.8</td>\n",
       "      <td>13.6</td>\n",
       "      <td>...</td>\n",
       "      <td>0.4</td>\n",
       "      <td>2.4</td>\n",
       "      <td>1.98</td>\n",
       "      <td>102.0</td>\n",
       "      <td>Guard</td>\n",
       "      <td>0</td>\n",
       "      <td>0</td>\n",
       "      <td>0</td>\n",
       "      <td>1</td>\n",
       "      <td>0</td>\n",
       "    </tr>\n",
       "    <tr>\n",
       "      <th>4</th>\n",
       "      <td>Shane Battier</td>\n",
       "      <td>Duke</td>\n",
       "      <td>6</td>\n",
       "      <td>2001</td>\n",
       "      <td>MEM</td>\n",
       "      <td>78.0</td>\n",
       "      <td>39.7</td>\n",
       "      <td>14.4</td>\n",
       "      <td>5.3</td>\n",
       "      <td>12.3</td>\n",
       "      <td>...</td>\n",
       "      <td>1.0</td>\n",
       "      <td>2.8</td>\n",
       "      <td>2.03</td>\n",
       "      <td>100.0</td>\n",
       "      <td>Forward</td>\n",
       "      <td>0</td>\n",
       "      <td>0</td>\n",
       "      <td>1</td>\n",
       "      <td>0</td>\n",
       "      <td>0</td>\n",
       "    </tr>\n",
       "    <tr>\n",
       "      <th>...</th>\n",
       "      <td>...</td>\n",
       "      <td>...</td>\n",
       "      <td>...</td>\n",
       "      <td>...</td>\n",
       "      <td>...</td>\n",
       "      <td>...</td>\n",
       "      <td>...</td>\n",
       "      <td>...</td>\n",
       "      <td>...</td>\n",
       "      <td>...</td>\n",
       "      <td>...</td>\n",
       "      <td>...</td>\n",
       "      <td>...</td>\n",
       "      <td>...</td>\n",
       "      <td>...</td>\n",
       "      <td>...</td>\n",
       "      <td>...</td>\n",
       "      <td>...</td>\n",
       "      <td>...</td>\n",
       "      <td>...</td>\n",
       "      <td>...</td>\n",
       "    </tr>\n",
       "    <tr>\n",
       "      <th>847</th>\n",
       "      <td>Charles Bassey</td>\n",
       "      <td>Western Kentucky</td>\n",
       "      <td>53</td>\n",
       "      <td>2021</td>\n",
       "      <td>PHI</td>\n",
       "      <td>23.0</td>\n",
       "      <td>7.3</td>\n",
       "      <td>3.0</td>\n",
       "      <td>1.3</td>\n",
       "      <td>2.0</td>\n",
       "      <td>...</td>\n",
       "      <td>0.7</td>\n",
       "      <td>1.4</td>\n",
       "      <td>2.06</td>\n",
       "      <td>104.0</td>\n",
       "      <td>Center-Forward</td>\n",
       "      <td>0</td>\n",
       "      <td>1</td>\n",
       "      <td>1</td>\n",
       "      <td>0</td>\n",
       "      <td>0</td>\n",
       "    </tr>\n",
       "    <tr>\n",
       "      <th>848</th>\n",
       "      <td>Sandro Mamukelashvili</td>\n",
       "      <td>Seton Hall</td>\n",
       "      <td>54</td>\n",
       "      <td>2021</td>\n",
       "      <td>MIL</td>\n",
       "      <td>41.0</td>\n",
       "      <td>9.9</td>\n",
       "      <td>3.8</td>\n",
       "      <td>1.4</td>\n",
       "      <td>2.8</td>\n",
       "      <td>...</td>\n",
       "      <td>0.2</td>\n",
       "      <td>0.7</td>\n",
       "      <td>2.06</td>\n",
       "      <td>109.0</td>\n",
       "      <td>Forward-Center</td>\n",
       "      <td>0</td>\n",
       "      <td>1</td>\n",
       "      <td>1</td>\n",
       "      <td>0</td>\n",
       "      <td>0</td>\n",
       "    </tr>\n",
       "    <tr>\n",
       "      <th>849</th>\n",
       "      <td>Aaron Wiggins</td>\n",
       "      <td>Maryland</td>\n",
       "      <td>55</td>\n",
       "      <td>2021</td>\n",
       "      <td>OKC</td>\n",
       "      <td>50.0</td>\n",
       "      <td>24.2</td>\n",
       "      <td>8.3</td>\n",
       "      <td>3.1</td>\n",
       "      <td>6.7</td>\n",
       "      <td>...</td>\n",
       "      <td>0.2</td>\n",
       "      <td>1.9</td>\n",
       "      <td>1.93</td>\n",
       "      <td>86.0</td>\n",
       "      <td>Guard</td>\n",
       "      <td>0</td>\n",
       "      <td>0</td>\n",
       "      <td>0</td>\n",
       "      <td>1</td>\n",
       "      <td>0</td>\n",
       "    </tr>\n",
       "    <tr>\n",
       "      <th>850</th>\n",
       "      <td>Scottie Lewis</td>\n",
       "      <td>Florida</td>\n",
       "      <td>56</td>\n",
       "      <td>2021</td>\n",
       "      <td>CHA</td>\n",
       "      <td>2.0</td>\n",
       "      <td>3.3</td>\n",
       "      <td>0.5</td>\n",
       "      <td>0.0</td>\n",
       "      <td>0.0</td>\n",
       "      <td>...</td>\n",
       "      <td>0.0</td>\n",
       "      <td>0.0</td>\n",
       "      <td>1.96</td>\n",
       "      <td>84.0</td>\n",
       "      <td>Guard</td>\n",
       "      <td>0</td>\n",
       "      <td>0</td>\n",
       "      <td>0</td>\n",
       "      <td>1</td>\n",
       "      <td>0</td>\n",
       "    </tr>\n",
       "    <tr>\n",
       "      <th>851</th>\n",
       "      <td>Jericho Sims</td>\n",
       "      <td>Texas</td>\n",
       "      <td>58</td>\n",
       "      <td>2021</td>\n",
       "      <td>NYK</td>\n",
       "      <td>41.0</td>\n",
       "      <td>13.5</td>\n",
       "      <td>2.2</td>\n",
       "      <td>1.0</td>\n",
       "      <td>1.3</td>\n",
       "      <td>...</td>\n",
       "      <td>0.5</td>\n",
       "      <td>1.6</td>\n",
       "      <td>2.06</td>\n",
       "      <td>113.0</td>\n",
       "      <td>Center</td>\n",
       "      <td>0</td>\n",
       "      <td>1</td>\n",
       "      <td>0</td>\n",
       "      <td>0</td>\n",
       "      <td>0</td>\n",
       "    </tr>\n",
       "  </tbody>\n",
       "</table>\n",
       "<p>852 rows × 33 columns</p>\n",
       "</div>"
      ],
      "text/plain": [
       "                    PLAYER                   AFFILIATION  OVERALL PICK  YEAR  \\\n",
       "0              Kwame Brown                 Glynn Academy             1  2001   \n",
       "1           Tyson Chandler                     Dominguez             2  2001   \n",
       "2                Pau Gasol  FC Barcelona Basquet (Spain)             3  2001   \n",
       "3         Jason Richardson                Michigan State             5  2001   \n",
       "4            Shane Battier                          Duke             6  2001   \n",
       "..                     ...                           ...           ...   ...   \n",
       "847         Charles Bassey              Western Kentucky            53  2021   \n",
       "848  Sandro Mamukelashvili                    Seton Hall            54  2021   \n",
       "849          Aaron Wiggins                      Maryland            55  2021   \n",
       "850          Scottie Lewis                       Florida            56  2021   \n",
       "851           Jericho Sims                         Texas            58  2021   \n",
       "\n",
       "    TEAM    GP   MIN   PTS  FGM   FGA  ...  BLK   PF  HEIGHT  WEIGHT  \\\n",
       "0    WAS  57.0  14.3   4.5  1.6   4.3  ...  0.5  1.8    2.11   132.0   \n",
       "1    CHI  71.0  19.6   6.1  2.1   4.3  ...  1.3  2.5    2.13   107.0   \n",
       "2    MEM  82.0  36.6  17.6  6.7  13.0  ...  2.1  2.4    2.13   113.0   \n",
       "3    GSW  80.0  32.8  14.4  5.8  13.6  ...  0.4  2.4    1.98   102.0   \n",
       "4    MEM  78.0  39.7  14.4  5.3  12.3  ...  1.0  2.8    2.03   100.0   \n",
       "..   ...   ...   ...   ...  ...   ...  ...  ...  ...     ...     ...   \n",
       "847  PHI  23.0   7.3   3.0  1.3   2.0  ...  0.7  1.4    2.06   104.0   \n",
       "848  MIL  41.0   9.9   3.8  1.4   2.8  ...  0.2  0.7    2.06   109.0   \n",
       "849  OKC  50.0  24.2   8.3  3.1   6.7  ...  0.2  1.9    1.93    86.0   \n",
       "850  CHA   2.0   3.3   0.5  0.0   0.0  ...  0.0  0.0    1.96    84.0   \n",
       "851  NYK  41.0  13.5   2.2  1.0   1.3  ...  0.5  1.6    2.06   113.0   \n",
       "\n",
       "           POSITION  ROTY  CENTER  FORWARD  GUARD  ROOKIE  \n",
       "0            Center     0       1        0      0       0  \n",
       "1            Center     0       1        0      0       0  \n",
       "2    Center-Forward     1       1        1      0       0  \n",
       "3             Guard     0       0        0      1       0  \n",
       "4           Forward     0       0        1      0       0  \n",
       "..              ...   ...     ...      ...    ...     ...  \n",
       "847  Center-Forward     0       1        1      0       0  \n",
       "848  Forward-Center     0       1        1      0       0  \n",
       "849           Guard     0       0        0      1       0  \n",
       "850           Guard     0       0        0      1       0  \n",
       "851          Center     0       1        0      0       0  \n",
       "\n",
       "[852 rows x 33 columns]"
      ]
     },
     "execution_count": 32,
     "metadata": {},
     "output_type": "execute_result"
    }
   ],
   "source": [
    "df_train"
   ]
  },
  {
   "cell_type": "code",
   "execution_count": 33,
   "id": "b39d5db9",
   "metadata": {},
   "outputs": [
    {
     "data": {
      "text/html": [
       "<div>\n",
       "<style scoped>\n",
       "    .dataframe tbody tr th:only-of-type {\n",
       "        vertical-align: middle;\n",
       "    }\n",
       "\n",
       "    .dataframe tbody tr th {\n",
       "        vertical-align: top;\n",
       "    }\n",
       "\n",
       "    .dataframe thead th {\n",
       "        text-align: right;\n",
       "    }\n",
       "</style>\n",
       "<table border=\"1\" class=\"dataframe\">\n",
       "  <thead>\n",
       "    <tr style=\"text-align: right;\">\n",
       "      <th></th>\n",
       "      <th>OVERALL PICK</th>\n",
       "      <th>YEAR</th>\n",
       "      <th>GP</th>\n",
       "      <th>MIN</th>\n",
       "      <th>PTS</th>\n",
       "      <th>FGM</th>\n",
       "      <th>FGA</th>\n",
       "      <th>FGPercent</th>\n",
       "      <th>ThreePM</th>\n",
       "      <th>ThreePA</th>\n",
       "      <th>...</th>\n",
       "      <th>STL</th>\n",
       "      <th>BLK</th>\n",
       "      <th>PF</th>\n",
       "      <th>HEIGHT</th>\n",
       "      <th>WEIGHT</th>\n",
       "      <th>ROTY</th>\n",
       "      <th>CENTER</th>\n",
       "      <th>FORWARD</th>\n",
       "      <th>GUARD</th>\n",
       "      <th>ROOKIE</th>\n",
       "    </tr>\n",
       "  </thead>\n",
       "  <tbody>\n",
       "    <tr>\n",
       "      <th>count</th>\n",
       "      <td>852.000000</td>\n",
       "      <td>852.000000</td>\n",
       "      <td>852.000000</td>\n",
       "      <td>852.000000</td>\n",
       "      <td>852.000000</td>\n",
       "      <td>852.000000</td>\n",
       "      <td>852.000000</td>\n",
       "      <td>852.00000</td>\n",
       "      <td>852.000000</td>\n",
       "      <td>852.000000</td>\n",
       "      <td>...</td>\n",
       "      <td>852.000000</td>\n",
       "      <td>852.000000</td>\n",
       "      <td>852.000000</td>\n",
       "      <td>852.000000</td>\n",
       "      <td>852.000000</td>\n",
       "      <td>852.000000</td>\n",
       "      <td>852.000000</td>\n",
       "      <td>852.000000</td>\n",
       "      <td>852.000000</td>\n",
       "      <td>852.0</td>\n",
       "    </tr>\n",
       "    <tr>\n",
       "      <th>mean</th>\n",
       "      <td>26.414319</td>\n",
       "      <td>2011.927230</td>\n",
       "      <td>46.703052</td>\n",
       "      <td>15.483920</td>\n",
       "      <td>5.774413</td>\n",
       "      <td>2.183451</td>\n",
       "      <td>5.030399</td>\n",
       "      <td>42.20223</td>\n",
       "      <td>0.425939</td>\n",
       "      <td>1.308568</td>\n",
       "      <td>...</td>\n",
       "      <td>0.491549</td>\n",
       "      <td>0.334624</td>\n",
       "      <td>1.524413</td>\n",
       "      <td>2.006350</td>\n",
       "      <td>100.334507</td>\n",
       "      <td>0.023474</td>\n",
       "      <td>0.237089</td>\n",
       "      <td>0.535211</td>\n",
       "      <td>0.462441</td>\n",
       "      <td>0.0</td>\n",
       "    </tr>\n",
       "    <tr>\n",
       "      <th>std</th>\n",
       "      <td>16.295622</td>\n",
       "      <td>6.109795</td>\n",
       "      <td>24.966626</td>\n",
       "      <td>8.725426</td>\n",
       "      <td>4.230203</td>\n",
       "      <td>1.586657</td>\n",
       "      <td>3.456720</td>\n",
       "      <td>10.90520</td>\n",
       "      <td>0.502353</td>\n",
       "      <td>1.395337</td>\n",
       "      <td>...</td>\n",
       "      <td>0.371422</td>\n",
       "      <td>0.359868</td>\n",
       "      <td>0.809181</td>\n",
       "      <td>0.086562</td>\n",
       "      <td>11.982344</td>\n",
       "      <td>0.151493</td>\n",
       "      <td>0.425547</td>\n",
       "      <td>0.499052</td>\n",
       "      <td>0.498880</td>\n",
       "      <td>0.0</td>\n",
       "    </tr>\n",
       "    <tr>\n",
       "      <th>min</th>\n",
       "      <td>1.000000</td>\n",
       "      <td>2001.000000</td>\n",
       "      <td>1.000000</td>\n",
       "      <td>0.100000</td>\n",
       "      <td>0.000000</td>\n",
       "      <td>0.000000</td>\n",
       "      <td>0.000000</td>\n",
       "      <td>0.00000</td>\n",
       "      <td>0.000000</td>\n",
       "      <td>0.000000</td>\n",
       "      <td>...</td>\n",
       "      <td>0.000000</td>\n",
       "      <td>0.000000</td>\n",
       "      <td>0.000000</td>\n",
       "      <td>1.750000</td>\n",
       "      <td>73.000000</td>\n",
       "      <td>0.000000</td>\n",
       "      <td>0.000000</td>\n",
       "      <td>0.000000</td>\n",
       "      <td>0.000000</td>\n",
       "      <td>0.0</td>\n",
       "    </tr>\n",
       "    <tr>\n",
       "      <th>25%</th>\n",
       "      <td>12.000000</td>\n",
       "      <td>2007.000000</td>\n",
       "      <td>24.750000</td>\n",
       "      <td>8.500000</td>\n",
       "      <td>2.700000</td>\n",
       "      <td>1.000000</td>\n",
       "      <td>2.500000</td>\n",
       "      <td>38.00000</td>\n",
       "      <td>0.000000</td>\n",
       "      <td>0.100000</td>\n",
       "      <td>...</td>\n",
       "      <td>0.200000</td>\n",
       "      <td>0.100000</td>\n",
       "      <td>0.900000</td>\n",
       "      <td>1.930000</td>\n",
       "      <td>91.000000</td>\n",
       "      <td>0.000000</td>\n",
       "      <td>0.000000</td>\n",
       "      <td>0.000000</td>\n",
       "      <td>0.000000</td>\n",
       "      <td>0.0</td>\n",
       "    </tr>\n",
       "    <tr>\n",
       "      <th>50%</th>\n",
       "      <td>25.000000</td>\n",
       "      <td>2012.000000</td>\n",
       "      <td>49.500000</td>\n",
       "      <td>14.150000</td>\n",
       "      <td>4.600000</td>\n",
       "      <td>1.800000</td>\n",
       "      <td>4.200000</td>\n",
       "      <td>42.40000</td>\n",
       "      <td>0.250000</td>\n",
       "      <td>0.800000</td>\n",
       "      <td>...</td>\n",
       "      <td>0.400000</td>\n",
       "      <td>0.200000</td>\n",
       "      <td>1.500000</td>\n",
       "      <td>2.010000</td>\n",
       "      <td>100.000000</td>\n",
       "      <td>0.000000</td>\n",
       "      <td>0.000000</td>\n",
       "      <td>1.000000</td>\n",
       "      <td>0.000000</td>\n",
       "      <td>0.0</td>\n",
       "    </tr>\n",
       "    <tr>\n",
       "      <th>75%</th>\n",
       "      <td>40.000000</td>\n",
       "      <td>2018.000000</td>\n",
       "      <td>69.000000</td>\n",
       "      <td>21.500000</td>\n",
       "      <td>7.900000</td>\n",
       "      <td>3.000000</td>\n",
       "      <td>6.700000</td>\n",
       "      <td>47.10000</td>\n",
       "      <td>0.700000</td>\n",
       "      <td>2.100000</td>\n",
       "      <td>...</td>\n",
       "      <td>0.700000</td>\n",
       "      <td>0.500000</td>\n",
       "      <td>2.100000</td>\n",
       "      <td>2.080000</td>\n",
       "      <td>109.000000</td>\n",
       "      <td>0.000000</td>\n",
       "      <td>0.000000</td>\n",
       "      <td>1.000000</td>\n",
       "      <td>1.000000</td>\n",
       "      <td>0.0</td>\n",
       "    </tr>\n",
       "    <tr>\n",
       "      <th>max</th>\n",
       "      <td>60.000000</td>\n",
       "      <td>2021.000000</td>\n",
       "      <td>82.000000</td>\n",
       "      <td>39.700000</td>\n",
       "      <td>22.500000</td>\n",
       "      <td>8.800000</td>\n",
       "      <td>18.900000</td>\n",
       "      <td>100.00000</td>\n",
       "      <td>2.500000</td>\n",
       "      <td>7.200000</td>\n",
       "      <td>...</td>\n",
       "      <td>2.200000</td>\n",
       "      <td>2.500000</td>\n",
       "      <td>4.100000</td>\n",
       "      <td>2.290000</td>\n",
       "      <td>141.000000</td>\n",
       "      <td>1.000000</td>\n",
       "      <td>1.000000</td>\n",
       "      <td>1.000000</td>\n",
       "      <td>1.000000</td>\n",
       "      <td>0.0</td>\n",
       "    </tr>\n",
       "  </tbody>\n",
       "</table>\n",
       "<p>8 rows × 29 columns</p>\n",
       "</div>"
      ],
      "text/plain": [
       "       OVERALL PICK         YEAR          GP         MIN         PTS  \\\n",
       "count    852.000000   852.000000  852.000000  852.000000  852.000000   \n",
       "mean      26.414319  2011.927230   46.703052   15.483920    5.774413   \n",
       "std       16.295622     6.109795   24.966626    8.725426    4.230203   \n",
       "min        1.000000  2001.000000    1.000000    0.100000    0.000000   \n",
       "25%       12.000000  2007.000000   24.750000    8.500000    2.700000   \n",
       "50%       25.000000  2012.000000   49.500000   14.150000    4.600000   \n",
       "75%       40.000000  2018.000000   69.000000   21.500000    7.900000   \n",
       "max       60.000000  2021.000000   82.000000   39.700000   22.500000   \n",
       "\n",
       "              FGM         FGA  FGPercent     ThreePM     ThreePA  ...  \\\n",
       "count  852.000000  852.000000  852.00000  852.000000  852.000000  ...   \n",
       "mean     2.183451    5.030399   42.20223    0.425939    1.308568  ...   \n",
       "std      1.586657    3.456720   10.90520    0.502353    1.395337  ...   \n",
       "min      0.000000    0.000000    0.00000    0.000000    0.000000  ...   \n",
       "25%      1.000000    2.500000   38.00000    0.000000    0.100000  ...   \n",
       "50%      1.800000    4.200000   42.40000    0.250000    0.800000  ...   \n",
       "75%      3.000000    6.700000   47.10000    0.700000    2.100000  ...   \n",
       "max      8.800000   18.900000  100.00000    2.500000    7.200000  ...   \n",
       "\n",
       "              STL         BLK          PF      HEIGHT      WEIGHT        ROTY  \\\n",
       "count  852.000000  852.000000  852.000000  852.000000  852.000000  852.000000   \n",
       "mean     0.491549    0.334624    1.524413    2.006350  100.334507    0.023474   \n",
       "std      0.371422    0.359868    0.809181    0.086562   11.982344    0.151493   \n",
       "min      0.000000    0.000000    0.000000    1.750000   73.000000    0.000000   \n",
       "25%      0.200000    0.100000    0.900000    1.930000   91.000000    0.000000   \n",
       "50%      0.400000    0.200000    1.500000    2.010000  100.000000    0.000000   \n",
       "75%      0.700000    0.500000    2.100000    2.080000  109.000000    0.000000   \n",
       "max      2.200000    2.500000    4.100000    2.290000  141.000000    1.000000   \n",
       "\n",
       "           CENTER     FORWARD       GUARD  ROOKIE  \n",
       "count  852.000000  852.000000  852.000000   852.0  \n",
       "mean     0.237089    0.535211    0.462441     0.0  \n",
       "std      0.425547    0.499052    0.498880     0.0  \n",
       "min      0.000000    0.000000    0.000000     0.0  \n",
       "25%      0.000000    0.000000    0.000000     0.0  \n",
       "50%      0.000000    1.000000    0.000000     0.0  \n",
       "75%      0.000000    1.000000    1.000000     0.0  \n",
       "max      1.000000    1.000000    1.000000     0.0  \n",
       "\n",
       "[8 rows x 29 columns]"
      ]
     },
     "execution_count": 33,
     "metadata": {},
     "output_type": "execute_result"
    }
   ],
   "source": [
    "df_train.describe()"
   ]
  },
  {
   "cell_type": "code",
   "execution_count": 34,
   "id": "2bcec2c5",
   "metadata": {},
   "outputs": [
    {
     "data": {
      "text/plain": [
       "Index(['OVERALL PICK', 'YEAR', 'GP', 'MIN', 'PTS', 'FGM', 'FGA', 'FGPercent',\n",
       "       'ThreePM', 'ThreePA', 'ThreePPercent', 'FTM', 'FTA', 'FTPercent',\n",
       "       'OREB', 'DREB', 'REB', 'AST', 'TOV', 'STL', 'BLK', 'PF', 'HEIGHT',\n",
       "       'WEIGHT', 'ROTY', 'CENTER', 'FORWARD', 'GUARD', 'ROOKIE'],\n",
       "      dtype='object')"
      ]
     },
     "execution_count": 34,
     "metadata": {},
     "output_type": "execute_result"
    }
   ],
   "source": [
    "df_quant = df_train.select_dtypes(include=np.number)\n",
    "df_quant.columns"
   ]
  },
  {
   "cell_type": "code",
   "execution_count": 35,
   "id": "b18d90da",
   "metadata": {},
   "outputs": [
    {
     "name": "stderr",
     "output_type": "stream",
     "text": [
      "C:\\Users\\asimp\\anaconda3\\lib\\site-packages\\pandas\\plotting\\_matplotlib\\tools.py:218: RuntimeWarning: More than 20 figures have been opened. Figures created through the pyplot interface (`matplotlib.pyplot.figure`) are retained until explicitly closed and may consume too much memory. (To control this warning, see the rcParam `figure.max_open_warning`).\n",
      "  fig = plt.figure(**fig_kw)\n"
     ]
    },
    {
     "data": {
      "image/png": "[encoded data removed]",
      "text/plain": [
       "<Figure size 432x288 with 1 Axes>"
      ]
     },
     "metadata": {
      "needs_background": "light"
     },
     "output_type": "display_data"
    },
    {
     "data": {
      "image/png": "[encoded data removed]",
      "text/plain": [
       "<Figure size 432x288 with 1 Axes>"
      ]
     },
     "metadata": {
      "needs_background": "light"
     },
     "output_type": "display_data"
    },
    {
     "data": {
      "image/png": "[encoded data removed]",
      "text/plain": [
       "<Figure size 432x288 with 1 Axes>"
      ]
     },
     "metadata": {
      "needs_background": "light"
     },
     "output_type": "display_data"
    },
    {
     "data": {
      "image/png": "[encoded data removed]",
      "text/plain": [
       "<Figure size 432x288 with 1 Axes>"
      ]
     },
     "metadata": {
      "needs_background": "light"
     },
     "output_type": "display_data"
    },
    {
     "data": {
      "image/png": "[encoded data removed]",
      "text/plain": [
       "<Figure size 432x288 with 1 Axes>"
      ]
     },
     "metadata": {
      "needs_background": "light"
     },
     "output_type": "display_data"
    },
    {
     "data": {
      "image/png": "[encoded data removed]",
      "text/plain": [
       "<Figure size 432x288 with 1 Axes>"
      ]
     },
     "metadata": {
      "needs_background": "light"
     },
     "output_type": "display_data"
    },
    {
     "data": {
      "image/png": "[encoded data removed]",
      "text/plain": [
       "<Figure size 432x288 with 1 Axes>"
      ]
     },
     "metadata": {
      "needs_background": "light"
     },
     "output_type": "display_data"
    },
    {
     "data": {
      "image/png": "[encoded data removed]",
      "text/plain": [
       "<Figure size 432x288 with 1 Axes>"
      ]
     },
     "metadata": {
      "needs_background": "light"
     },
     "output_type": "display_data"
    },
    {
     "data": {
      "image/png": "[encoded data removed]",
      "text/plain": [
       "<Figure size 432x288 with 1 Axes>"
      ]
     },
     "metadata": {
      "needs_background": "light"
     },
     "output_type": "display_data"
    },
    {
     "data": {
      "image/png": "[encoded data removed]",
      "text/plain": [
       "<Figure size 432x288 with 1 Axes>"
      ]
     },
     "metadata": {
      "needs_background": "light"
     },
     "output_type": "display_data"
    },
    {
     "data": {
      "image/png": "[encoded data removed]",
      "text/plain": [
       "<Figure size 432x288 with 1 Axes>"
      ]
     },
     "metadata": {
      "needs_background": "light"
     },
     "output_type": "display_data"
    },
    {
     "data": {
      "image/png": "[encoded data removed]",
      "text/plain": [
       "<Figure size 432x288 with 1 Axes>"
      ]
     },
     "metadata": {
      "needs_background": "light"
     },
     "output_type": "display_data"
    },
    {
     "data": {
      "image/png": "[encoded data removed]",
      "text/plain": [
       "<Figure size 432x288 with 1 Axes>"
      ]
     },
     "metadata": {
      "needs_background": "light"
     },
     "output_type": "display_data"
    },
    {
     "data": {
      "image/png": "[encoded data removed]",
      "text/plain": [
       "<Figure size 432x288 with 1 Axes>"
      ]
     },
     "metadata": {
      "needs_background": "light"
     },
     "output_type": "display_data"
    },
    {
     "data": {
      "image/png": "[encoded data removed]",
      "text/plain": [
       "<Figure size 432x288 with 1 Axes>"
      ]
     },
     "metadata": {
      "needs_background": "light"
     },
     "output_type": "display_data"
    },
    {
     "data": {
      "image/png": "[encoded data removed]",
      "text/plain": [
       "<Figure size 432x288 with 1 Axes>"
      ]
     },
     "metadata": {
      "needs_background": "light"
     },
     "output_type": "display_data"
    },
    {
     "data": {
      "image/png": "[encoded data removed]",
      "text/plain": [
       "<Figure size 432x288 with 1 Axes>"
      ]
     },
     "metadata": {
      "needs_background": "light"
     },
     "output_type": "display_data"
    },
    {
     "data": {
      "image/png": "[encoded data removed]",
      "text/plain": [
       "<Figure size 432x288 with 1 Axes>"
      ]
     },
     "metadata": {
      "needs_background": "light"
     },
     "output_type": "display_data"
    },
    {
     "data": {
      "image/png": "[encoded data removed]",
      "text/plain": [
       "<Figure size 432x288 with 1 Axes>"
      ]
     },
     "metadata": {
      "needs_background": "light"
     },
     "output_type": "display_data"
    },
    {
     "data": {
      "image/png": "[encoded data removed]",
      "text/plain": [
       "<Figure size 432x288 with 1 Axes>"
      ]
     },
     "metadata": {
      "needs_background": "light"
     },
     "output_type": "display_data"
    },
    {
     "data": {
      "image/png": "[encoded data removed]",
      "text/plain": [
       "<Figure size 432x288 with 1 Axes>"
      ]
     },
     "metadata": {
      "needs_background": "light"
     },
     "output_type": "display_data"
    },
    {
     "data": {
      "image/png": "[encoded data removed]",
      "text/plain": [
       "<Figure size 432x288 with 1 Axes>"
      ]
     },
     "metadata": {
      "needs_background": "light"
     },
     "output_type": "display_data"
    },
    {
     "data": {
      "image/png": "[encoded data removed]",
      "text/plain": [
       "<Figure size 432x288 with 1 Axes>"
      ]
     },
     "metadata": {
      "needs_background": "light"
     },
     "output_type": "display_data"
    },
    {
     "data": {
      "image/png": "[encoded data removed]",
      "text/plain": [
       "<Figure size 432x288 with 1 Axes>"
      ]
     },
     "metadata": {
      "needs_background": "light"
     },
     "output_type": "display_data"
    },
    {
     "data": {
      "image/png": "[encoded data removed]",
      "text/plain": [
       "<Figure size 432x288 with 1 Axes>"
      ]
     },
     "metadata": {
      "needs_background": "light"
     },
     "output_type": "display_data"
    },
    {
     "data": {
      "image/png": "[encoded data removed]",
      "text/plain": [
       "<Figure size 432x288 with 1 Axes>"
      ]
     },
     "metadata": {
      "needs_background": "light"
     },
     "output_type": "display_data"
    },
    {
     "data": {
      "image/png": "[encoded data removed]",
      "text/plain": [
       "<Figure size 432x288 with 1 Axes>"
      ]
     },
     "metadata": {
      "needs_background": "light"
     },
     "output_type": "display_data"
    },
    {
     "data": {
      "image/png": "[encoded data removed]",
      "text/plain": [
       "<Figure size 432x288 with 1 Axes>"
      ]
     },
     "metadata": {
      "needs_background": "light"
     },
     "output_type": "display_data"
    },
    {
     "data": {
      "image/png": "[encoded data removed]",
      "text/plain": [
       "<Figure size 432x288 with 1 Axes>"
      ]
     },
     "metadata": {
      "needs_background": "light"
     },
     "output_type": "display_data"
    }
   ],
   "source": [
    "for i in df_quant.columns:\n",
    "    fig = df_quant.hist(i)\n",
    "    fig\n"
   ]
  },
  {
   "cell_type": "code",
   "execution_count": 36,
   "id": "d24b8004",
   "metadata": {},
   "outputs": [
    {
     "name": "stderr",
     "output_type": "stream",
     "text": [
      "C:\\Users\\asimp\\AppData\\Local\\Temp/ipykernel_13980/1008370968.py:2: RuntimeWarning: More than 20 figures have been opened. Figures created through the pyplot interface (`matplotlib.pyplot.figure`) are retained until explicitly closed and may consume too much memory. (To control this warning, see the rcParam `figure.max_open_warning`).\n",
      "  plt.figure()\n"
     ]
    },
    {
     "data": {
      "image/png": "[encoded data removed]",
      "text/plain": [
       "<Figure size 432x288 with 1 Axes>"
      ]
     },
     "metadata": {
      "needs_background": "light"
     },
     "output_type": "display_data"
    },
    {
     "data": {
      "image/png": "[encoded data removed]",
      "text/plain": [
       "<Figure size 432x288 with 1 Axes>"
      ]
     },
     "metadata": {
      "needs_background": "light"
     },
     "output_type": "display_data"
    },
    {
     "data": {
      "image/png": "[encoded data removed]",
      "text/plain": [
       "<Figure size 432x288 with 1 Axes>"
      ]
     },
     "metadata": {
      "needs_background": "light"
     },
     "output_type": "display_data"
    },
    {
     "data": {
      "image/png": "[encoded data removed]",
      "text/plain": [
       "<Figure size 432x288 with 1 Axes>"
      ]
     },
     "metadata": {
      "needs_background": "light"
     },
     "output_type": "display_data"
    },
    {
     "data": {
      "image/png": "[encoded data removed]",
      "text/plain": [
       "<Figure size 432x288 with 1 Axes>"
      ]
     },
     "metadata": {
      "needs_background": "light"
     },
     "output_type": "display_data"
    },
    {
     "data": {
      "image/png": "[encoded data removed]",
      "text/plain": [
       "<Figure size 432x288 with 1 Axes>"
      ]
     },
     "metadata": {
      "needs_background": "light"
     },
     "output_type": "display_data"
    },
    {
     "data": {
      "image/png": "[encoded data removed]",
      "text/plain": [
       "<Figure size 432x288 with 1 Axes>"
      ]
     },
     "metadata": {
      "needs_background": "light"
     },
     "output_type": "display_data"
    },
    {
     "data": {
      "image/png": "[encoded data removed]",
      "text/plain": [
       "<Figure size 432x288 with 1 Axes>"
      ]
     },
     "metadata": {
      "needs_background": "light"
     },
     "output_type": "display_data"
    },
    {
     "data": {
      "image/png": "[encoded data removed]",
      "text/plain": [
       "<Figure size 432x288 with 1 Axes>"
      ]
     },
     "metadata": {
      "needs_background": "light"
     },
     "output_type": "display_data"
    },
    {
     "data": {
      "image/png": "[encoded data removed]",
      "text/plain": [
       "<Figure size 432x288 with 1 Axes>"
      ]
     },
     "metadata": {
      "needs_background": "light"
     },
     "output_type": "display_data"
    },
    {
     "data": {
      "image/png": "[encoded data removed]",
      "text/plain": [
       "<Figure size 432x288 with 1 Axes>"
      ]
     },
     "metadata": {
      "needs_background": "light"
     },
     "output_type": "display_data"
    },
    {
     "data": {
      "image/png": "[encoded data removed]",
      "text/plain": [
       "<Figure size 432x288 with 1 Axes>"
      ]
     },
     "metadata": {
      "needs_background": "light"
     },
     "output_type": "display_data"
    },
    {
     "data": {
      "image/png": "[encoded data removed]",
      "text/plain": [
       "<Figure size 432x288 with 1 Axes>"
      ]
     },
     "metadata": {
      "needs_background": "light"
     },
     "output_type": "display_data"
    },
    {
     "data": {
      "image/png": "[encoded data removed]",
      "text/plain": [
       "<Figure size 432x288 with 1 Axes>"
      ]
     },
     "metadata": {
      "needs_background": "light"
     },
     "output_type": "display_data"
    },
    {
     "data": {
      "image/png": "[encoded data removed]",
      "text/plain": [
       "<Figure size 432x288 with 1 Axes>"
      ]
     },
     "metadata": {
      "needs_background": "light"
     },
     "output_type": "display_data"
    },
    {
     "data": {
      "image/png": "[encoded data removed]",
      "text/plain": [
       "<Figure size 432x288 with 1 Axes>"
      ]
     },
     "metadata": {
      "needs_background": "light"
     },
     "output_type": "display_data"
    },
    {
     "data": {
      "image/png": "[encoded data removed]",
      "text/plain": [
       "<Figure size 432x288 with 1 Axes>"
      ]
     },
     "metadata": {
      "needs_background": "light"
     },
     "output_type": "display_data"
    },
    {
     "data": {
      "image/png": "[encoded data removed]",
      "text/plain": [
       "<Figure size 432x288 with 1 Axes>"
      ]
     },
     "metadata": {
      "needs_background": "light"
     },
     "output_type": "display_data"
    },
    {
     "data": {
      "image/png": "[encoded data removed]",
      "text/plain": [
       "<Figure size 432x288 with 1 Axes>"
      ]
     },
     "metadata": {
      "needs_background": "light"
     },
     "output_type": "display_data"
    },
    {
     "data": {
      "image/png": "[encoded data removed]",
      "text/plain": [
       "<Figure size 432x288 with 1 Axes>"
      ]
     },
     "metadata": {
      "needs_background": "light"
     },
     "output_type": "display_data"
    },
    {
     "data": {
      "image/png": "[encoded data removed]",
      "text/plain": [
       "<Figure size 432x288 with 1 Axes>"
      ]
     },
     "metadata": {
      "needs_background": "light"
     },
     "output_type": "display_data"
    },
    {
     "data": {
      "image/png": "[encoded data removed]",
      "text/plain": [
       "<Figure size 432x288 with 1 Axes>"
      ]
     },
     "metadata": {
      "needs_background": "light"
     },
     "output_type": "display_data"
    },
    {
     "data": {
      "image/png": "[encoded data removed]",
      "text/plain": [
       "<Figure size 432x288 with 1 Axes>"
      ]
     },
     "metadata": {
      "needs_background": "light"
     },
     "output_type": "display_data"
    },
    {
     "data": {
      "image/png": "[encoded data removed]",
      "text/plain": [
       "<Figure size 432x288 with 1 Axes>"
      ]
     },
     "metadata": {
      "needs_background": "light"
     },
     "output_type": "display_data"
    },
    {
     "data": {
      "image/png": "[encoded data removed]",
      "text/plain": [
       "<Figure size 432x288 with 1 Axes>"
      ]
     },
     "metadata": {
      "needs_background": "light"
     },
     "output_type": "display_data"
    },
    {
     "data": {
      "image/png": "[encoded data removed]",
      "text/plain": [
       "<Figure size 432x288 with 1 Axes>"
      ]
     },
     "metadata": {
      "needs_background": "light"
     },
     "output_type": "display_data"
    },
    {
     "data": {
      "image/png": "[encoded data removed]",
      "text/plain": [
       "<Figure size 432x288 with 1 Axes>"
      ]
     },
     "metadata": {
      "needs_background": "light"
     },
     "output_type": "display_data"
    },
    {
     "data": {
      "image/png": "[encoded data removed]",
      "text/plain": [
       "<Figure size 432x288 with 1 Axes>"
      ]
     },
     "metadata": {
      "needs_background": "light"
     },
     "output_type": "display_data"
    },
    {
     "data": {
      "image/png": "[encoded data removed]",
      "text/plain": [
       "<Figure size 432x288 with 1 Axes>"
      ]
     },
     "metadata": {
      "needs_background": "light"
     },
     "output_type": "display_data"
    }
   ],
   "source": [
    "for column in df_quant:\n",
    "    plt.figure()\n",
    "    df.boxplot([column])"
   ]
  },
  {
   "cell_type": "code",
   "execution_count": 37,
   "id": "468706f1",
   "metadata": {},
   "outputs": [
    {
     "data": {
      "text/plain": [
       "Text(0.5, 1.0, 'Triangle Correlation Heatmap')"
      ]
     },
     "execution_count": 37,
     "metadata": {},
     "output_type": "execute_result"
    },
    {
     "data": {
      "image/png": "[encoded data removed]",
      "text/plain": [
       "<Figure size 1152x432 with 2 Axes>"
      ]
     },
     "metadata": {
      "needs_background": "light"
     },
     "output_type": "display_data"
    }
   ],
   "source": [
    "plt.figure(figsize=(16, 6))\n",
    "# define the mask to set the values in the upper triangle to True\n",
    "corr = df_quant.corr()\n",
    "mask = np.triu(np.ones_like(corr, dtype=bool))\n",
    "heatmap = sns.heatmap(corr, mask=mask, vmin=-1, vmax=1, cmap='BrBG')\n",
    "heatmap.set_title('Triangle Correlation Heatmap')"
   ]
  },
  {
   "cell_type": "code",
   "execution_count": 38,
   "id": "2ebeadc7",
   "metadata": {},
   "outputs": [
    {
     "data": {
      "text/plain": [
       "Text(0.5, 1.0, 'Features Correlating with ROTY')"
      ]
     },
     "execution_count": 38,
     "metadata": {},
     "output_type": "execute_result"
    },
    {
     "data": {
      "image/png": "[encoded data removed]",
      "text/plain": [
       "<Figure size 576x864 with 2 Axes>"
      ]
     },
     "metadata": {
      "needs_background": "light"
     },
     "output_type": "display_data"
    }
   ],
   "source": [
    "plt.figure(figsize=(8, 12))\n",
    "heatmap = sns.heatmap(df_train.corr()[['ROTY']].sort_values(by='ROTY', ascending=False), vmin=-1, vmax=1, \n",
    "                      annot=True, cmap='BrBG')\n",
    "heatmap.set_title('Features Correlating with ROTY', fontdict={'fontsize':18}, pad=16)"
   ]
  },
  {
   "cell_type": "code",
   "execution_count": 50,
   "id": "ed637268",
   "metadata": {},
   "outputs": [
    {
     "name": "stdout",
     "output_type": "stream",
     "text": [
      "              VIF       variable\n",
      "0   156607.597566      Intercept\n",
      "1        2.990920            FTA\n",
      "2        3.380115            AST\n",
      "3        5.720938           DREB\n",
      "4        3.054409            STL\n",
      "5        4.947962           OREB\n",
      "6        2.543109             GP\n",
      "7        2.789979            BLK\n",
      "8        3.781867             PF\n",
      "9        2.683149        ThreePM\n",
      "10       1.317596      FTPercent\n",
      "11       1.947836  ThreePPercent\n",
      "12       1.336005      FGPercent\n",
      "13       3.536351          GUARD\n",
      "14       1.994608        FORWARD\n",
      "15       3.446427         WEIGHT\n",
      "16       4.429301         HEIGHT\n",
      "17       2.572334         CENTER\n",
      "18       1.392415           YEAR\n",
      "19       1.611339    OVERALLPICK\n"
     ]
    }
   ],
   "source": [
    "df_train = df_train.rename(columns=lambda x: re.sub(' ','',x)) #dmatrices gets syntax error with space present in name\n",
    "\n",
    "mcorr = \"ROTY ~ FTA + AST + DREB + STL + OREB + GP + BLK + PF + ThreePM + FTPercent + ThreePPercent + FGPercent \\\n",
    "+ GUARD + FORWARD + WEIGHT + HEIGHT + CENTER + YEAR + OVERALLPICK\"\n",
    "\n",
    "y, X = dmatrices(mcorr, data=df_train, return_type='dataframe')\n",
    "\n",
    "\n",
    "vif = pd.DataFrame()\n",
    "vif['VIF'] = [variance_inflation_factor(X.values, i) for i in range(X.shape[1])]\n",
    "vif['variable'] = X.columns\n",
    "\n",
    "print(vif)"
   ]
  },
  {
   "cell_type": "code",
   "execution_count": 53,
   "id": "79cd56b9",
   "metadata": {},
   "outputs": [
    {
     "data": {
      "text/html": [
       "<div>\n",
       "<style scoped>\n",
       "    .dataframe tbody tr th:only-of-type {\n",
       "        vertical-align: middle;\n",
       "    }\n",
       "\n",
       "    .dataframe tbody tr th {\n",
       "        vertical-align: top;\n",
       "    }\n",
       "\n",
       "    .dataframe thead th {\n",
       "        text-align: right;\n",
       "    }\n",
       "</style>\n",
       "<table border=\"1\" class=\"dataframe\">\n",
       "  <thead>\n",
       "    <tr style=\"text-align: right;\">\n",
       "      <th></th>\n",
       "      <th>ROTY</th>\n",
       "    </tr>\n",
       "    <tr>\n",
       "      <th>TEAM</th>\n",
       "      <th></th>\n",
       "    </tr>\n",
       "  </thead>\n",
       "  <tbody>\n",
       "    <tr>\n",
       "      <th>CHA</th>\n",
       "      <td>2</td>\n",
       "    </tr>\n",
       "    <tr>\n",
       "      <th>CLE</th>\n",
       "      <td>2</td>\n",
       "    </tr>\n",
       "    <tr>\n",
       "      <th>POR</th>\n",
       "      <td>2</td>\n",
       "    </tr>\n",
       "    <tr>\n",
       "      <th>MEM</th>\n",
       "      <td>2</td>\n",
       "    </tr>\n",
       "    <tr>\n",
       "      <th>MIN</th>\n",
       "      <td>1</td>\n",
       "    </tr>\n",
       "    <tr>\n",
       "      <th>CHI</th>\n",
       "      <td>1</td>\n",
       "    </tr>\n",
       "    <tr>\n",
       "      <th>DAL</th>\n",
       "      <td>1</td>\n",
       "    </tr>\n",
       "    <tr>\n",
       "      <th>TOR</th>\n",
       "      <td>1</td>\n",
       "    </tr>\n",
       "    <tr>\n",
       "      <th>SEA</th>\n",
       "      <td>1</td>\n",
       "    </tr>\n",
       "    <tr>\n",
       "      <th>LAC</th>\n",
       "      <td>1</td>\n",
       "    </tr>\n",
       "    <tr>\n",
       "      <th>PHX</th>\n",
       "      <td>1</td>\n",
       "    </tr>\n",
       "    <tr>\n",
       "      <th>PHI</th>\n",
       "      <td>0</td>\n",
       "    </tr>\n",
       "    <tr>\n",
       "      <th>NYK</th>\n",
       "      <td>0</td>\n",
       "    </tr>\n",
       "    <tr>\n",
       "      <th>OKC</th>\n",
       "      <td>0</td>\n",
       "    </tr>\n",
       "    <tr>\n",
       "      <th>ORL</th>\n",
       "      <td>0</td>\n",
       "    </tr>\n",
       "    <tr>\n",
       "      <th>SAC</th>\n",
       "      <td>0</td>\n",
       "    </tr>\n",
       "    <tr>\n",
       "      <th>NOK</th>\n",
       "      <td>0</td>\n",
       "    </tr>\n",
       "    <tr>\n",
       "      <th>SAS</th>\n",
       "      <td>0</td>\n",
       "    </tr>\n",
       "    <tr>\n",
       "      <th>UTA</th>\n",
       "      <td>0</td>\n",
       "    </tr>\n",
       "    <tr>\n",
       "      <th>NOP</th>\n",
       "      <td>0</td>\n",
       "    </tr>\n",
       "    <tr>\n",
       "      <th>ATL</th>\n",
       "      <td>0</td>\n",
       "    </tr>\n",
       "    <tr>\n",
       "      <th>NOH</th>\n",
       "      <td>0</td>\n",
       "    </tr>\n",
       "    <tr>\n",
       "      <th>NJN</th>\n",
       "      <td>0</td>\n",
       "    </tr>\n",
       "    <tr>\n",
       "      <th>BKN</th>\n",
       "      <td>0</td>\n",
       "    </tr>\n",
       "    <tr>\n",
       "      <th>MIL</th>\n",
       "      <td>0</td>\n",
       "    </tr>\n",
       "    <tr>\n",
       "      <th>MIA</th>\n",
       "      <td>0</td>\n",
       "    </tr>\n",
       "    <tr>\n",
       "      <th>LAL</th>\n",
       "      <td>0</td>\n",
       "    </tr>\n",
       "    <tr>\n",
       "      <th>IND</th>\n",
       "      <td>0</td>\n",
       "    </tr>\n",
       "    <tr>\n",
       "      <th>HOU</th>\n",
       "      <td>0</td>\n",
       "    </tr>\n",
       "    <tr>\n",
       "      <th>GSW</th>\n",
       "      <td>0</td>\n",
       "    </tr>\n",
       "    <tr>\n",
       "      <th>DET</th>\n",
       "      <td>0</td>\n",
       "    </tr>\n",
       "    <tr>\n",
       "      <th>DEN</th>\n",
       "      <td>0</td>\n",
       "    </tr>\n",
       "    <tr>\n",
       "      <th>BOS</th>\n",
       "      <td>0</td>\n",
       "    </tr>\n",
       "    <tr>\n",
       "      <th>WAS</th>\n",
       "      <td>0</td>\n",
       "    </tr>\n",
       "  </tbody>\n",
       "</table>\n",
       "</div>"
      ],
      "text/plain": [
       "      ROTY\n",
       "TEAM      \n",
       "CHA      2\n",
       "CLE      2\n",
       "POR      2\n",
       "MEM      2\n",
       "MIN      1\n",
       "CHI      1\n",
       "DAL      1\n",
       "TOR      1\n",
       "SEA      1\n",
       "LAC      1\n",
       "PHX      1\n",
       "PHI      0\n",
       "NYK      0\n",
       "OKC      0\n",
       "ORL      0\n",
       "SAC      0\n",
       "NOK      0\n",
       "SAS      0\n",
       "UTA      0\n",
       "NOP      0\n",
       "ATL      0\n",
       "NOH      0\n",
       "NJN      0\n",
       "BKN      0\n",
       "MIL      0\n",
       "MIA      0\n",
       "LAL      0\n",
       "IND      0\n",
       "HOU      0\n",
       "GSW      0\n",
       "DET      0\n",
       "DEN      0\n",
       "BOS      0\n",
       "WAS      0"
      ]
     },
     "execution_count": 53,
     "metadata": {},
     "output_type": "execute_result"
    }
   ],
   "source": [
    "pd.pivot_table(df_train, index=\"TEAM\", values=\"ROTY\", aggfunc='sum').sort_values(\"ROTY\", ascending=False)"
   ]
  },
  {
   "cell_type": "code",
   "execution_count": 54,
   "id": "89ff9d19",
   "metadata": {},
   "outputs": [
    {
     "data": {
      "text/html": [
       "<div>\n",
       "<style scoped>\n",
       "    .dataframe tbody tr th:only-of-type {\n",
       "        vertical-align: middle;\n",
       "    }\n",
       "\n",
       "    .dataframe tbody tr th {\n",
       "        vertical-align: top;\n",
       "    }\n",
       "\n",
       "    .dataframe thead th {\n",
       "        text-align: right;\n",
       "    }\n",
       "</style>\n",
       "<table border=\"1\" class=\"dataframe\">\n",
       "  <thead>\n",
       "    <tr style=\"text-align: right;\">\n",
       "      <th></th>\n",
       "      <th>ROTY</th>\n",
       "    </tr>\n",
       "    <tr>\n",
       "      <th>AFFILIATION</th>\n",
       "      <th></th>\n",
       "    </tr>\n",
       "  </thead>\n",
       "  <tbody>\n",
       "    <tr>\n",
       "      <th>Murray State</th>\n",
       "      <td>1</td>\n",
       "    </tr>\n",
       "    <tr>\n",
       "      <th>Washington</th>\n",
       "      <td>1</td>\n",
       "    </tr>\n",
       "    <tr>\n",
       "      <th>Kansas</th>\n",
       "      <td>1</td>\n",
       "    </tr>\n",
       "    <tr>\n",
       "      <th>Connecticut</th>\n",
       "      <td>1</td>\n",
       "    </tr>\n",
       "    <tr>\n",
       "      <th>Cypress Creek</th>\n",
       "      <td>1</td>\n",
       "    </tr>\n",
       "    <tr>\n",
       "      <th>Oklahoma</th>\n",
       "      <td>1</td>\n",
       "    </tr>\n",
       "    <tr>\n",
       "      <th>Real Madrid Baloncesto (Spain)</th>\n",
       "      <td>1</td>\n",
       "    </tr>\n",
       "    <tr>\n",
       "      <th>Duke</th>\n",
       "      <td>1</td>\n",
       "    </tr>\n",
       "    <tr>\n",
       "      <th>FC Barcelona Basquet (Spain)</th>\n",
       "      <td>1</td>\n",
       "    </tr>\n",
       "    <tr>\n",
       "      <th>Texas</th>\n",
       "      <td>1</td>\n",
       "    </tr>\n",
       "    <tr>\n",
       "      <th>Florida State</th>\n",
       "      <td>1</td>\n",
       "    </tr>\n",
       "    <tr>\n",
       "      <th>Illawarra (Australia)</th>\n",
       "      <td>1</td>\n",
       "    </tr>\n",
       "    <tr>\n",
       "      <th>Memphis</th>\n",
       "      <td>1</td>\n",
       "    </tr>\n",
       "    <tr>\n",
       "      <th>Saint Vincent-Saint Mary</th>\n",
       "      <td>1</td>\n",
       "    </tr>\n",
       "    <tr>\n",
       "      <th>Weber State</th>\n",
       "      <td>1</td>\n",
       "    </tr>\n",
       "    <tr>\n",
       "      <th>STB Le Havre (France)</th>\n",
       "      <td>0</td>\n",
       "    </tr>\n",
       "    <tr>\n",
       "      <th>Prentiss</th>\n",
       "      <td>0</td>\n",
       "    </tr>\n",
       "    <tr>\n",
       "      <th>Pepperdine</th>\n",
       "      <td>0</td>\n",
       "    </tr>\n",
       "    <tr>\n",
       "      <th>Pittsburgh</th>\n",
       "      <td>0</td>\n",
       "    </tr>\n",
       "    <tr>\n",
       "      <th>Saint Joseph's</th>\n",
       "      <td>0</td>\n",
       "    </tr>\n",
       "  </tbody>\n",
       "</table>\n",
       "</div>"
      ],
      "text/plain": [
       "                                ROTY\n",
       "AFFILIATION                         \n",
       "Murray State                       1\n",
       "Washington                         1\n",
       "Kansas                             1\n",
       "Connecticut                        1\n",
       "Cypress Creek                      1\n",
       "Oklahoma                           1\n",
       "Real Madrid Baloncesto (Spain)     1\n",
       "Duke                               1\n",
       "FC Barcelona Basquet (Spain)       1\n",
       "Texas                              1\n",
       "Florida State                      1\n",
       "Illawarra (Australia)              1\n",
       "Memphis                            1\n",
       "Saint Vincent-Saint Mary           1\n",
       "Weber State                        1\n",
       "STB Le Havre (France)              0\n",
       "Prentiss                           0\n",
       "Pepperdine                         0\n",
       "Pittsburgh                         0\n",
       "Saint Joseph's                     0"
      ]
     },
     "execution_count": 54,
     "metadata": {},
     "output_type": "execute_result"
    }
   ],
   "source": [
    "pd.pivot_table(df, index=\"AFFILIATION\", values=\"ROTY\", aggfunc='sum').sort_values(\"ROTY\", ascending=False).head(20)"
   ]
  },
  {
   "cell_type": "code",
   "execution_count": 55,
   "id": "04d63d20",
   "metadata": {},
   "outputs": [
    {
     "data": {
      "text/html": [
       "<div>\n",
       "<style scoped>\n",
       "    .dataframe tbody tr th:only-of-type {\n",
       "        vertical-align: middle;\n",
       "    }\n",
       "\n",
       "    .dataframe tbody tr th {\n",
       "        vertical-align: top;\n",
       "    }\n",
       "\n",
       "    .dataframe thead th {\n",
       "        text-align: right;\n",
       "    }\n",
       "</style>\n",
       "<table border=\"1\" class=\"dataframe\">\n",
       "  <thead>\n",
       "    <tr style=\"text-align: right;\">\n",
       "      <th></th>\n",
       "      <th>ROTY</th>\n",
       "    </tr>\n",
       "    <tr>\n",
       "      <th>POSITION</th>\n",
       "      <th></th>\n",
       "    </tr>\n",
       "  </thead>\n",
       "  <tbody>\n",
       "    <tr>\n",
       "      <th>Guard</th>\n",
       "      <td>6</td>\n",
       "    </tr>\n",
       "    <tr>\n",
       "      <th>Forward</th>\n",
       "      <td>5</td>\n",
       "    </tr>\n",
       "    <tr>\n",
       "      <th>Center</th>\n",
       "      <td>1</td>\n",
       "    </tr>\n",
       "    <tr>\n",
       "      <th>Center-Forward</th>\n",
       "      <td>1</td>\n",
       "    </tr>\n",
       "    <tr>\n",
       "      <th>Forward-Center</th>\n",
       "      <td>1</td>\n",
       "    </tr>\n",
       "    <tr>\n",
       "      <th>Forward-Guard</th>\n",
       "      <td>1</td>\n",
       "    </tr>\n",
       "    <tr>\n",
       "      <th>Guard-Forward</th>\n",
       "      <td>0</td>\n",
       "    </tr>\n",
       "  </tbody>\n",
       "</table>\n",
       "</div>"
      ],
      "text/plain": [
       "                ROTY\n",
       "POSITION            \n",
       "Guard              6\n",
       "Forward            5\n",
       "Center             1\n",
       "Center-Forward     1\n",
       "Forward-Center     1\n",
       "Forward-Guard      1\n",
       "Guard-Forward      0"
      ]
     },
     "execution_count": 55,
     "metadata": {},
     "output_type": "execute_result"
    }
   ],
   "source": [
    "pd.pivot_table(df_train, index=\"POSITION\", values=\"ROTY\", aggfunc=\"sum\").sort_values(\"ROTY\", ascending=False)"
   ]
  },
  {
   "cell_type": "code",
   "execution_count": 56,
   "id": "e5898d78",
   "metadata": {},
   "outputs": [
    {
     "data": {
      "text/html": [
       "<div>\n",
       "<style scoped>\n",
       "    .dataframe tbody tr th:only-of-type {\n",
       "        vertical-align: middle;\n",
       "    }\n",
       "\n",
       "    .dataframe tbody tr th {\n",
       "        vertical-align: top;\n",
       "    }\n",
       "\n",
       "    .dataframe thead th {\n",
       "        text-align: right;\n",
       "    }\n",
       "</style>\n",
       "<table border=\"1\" class=\"dataframe\">\n",
       "  <thead>\n",
       "    <tr style=\"text-align: right;\">\n",
       "      <th></th>\n",
       "      <th>ROTY</th>\n",
       "      <th>ThreePA</th>\n",
       "      <th>FTM</th>\n",
       "      <th>OREB</th>\n",
       "      <th>BLK</th>\n",
       "      <th>GP</th>\n",
       "      <th>AST</th>\n",
       "      <th>STL</th>\n",
       "      <th>FGPercent</th>\n",
       "      <th>ThreePPercent</th>\n",
       "      <th>FTPercent</th>\n",
       "      <th>PF</th>\n",
       "      <th>HEIGHT</th>\n",
       "      <th>WEIGHT</th>\n",
       "      <th>CENTER</th>\n",
       "      <th>FORWARD</th>\n",
       "      <th>GUARD</th>\n",
       "      <th>OVERALLPICK</th>\n",
       "      <th>YEAR</th>\n",
       "    </tr>\n",
       "  </thead>\n",
       "  <tbody>\n",
       "    <tr>\n",
       "      <th>0</th>\n",
       "      <td>0</td>\n",
       "      <td>0.0</td>\n",
       "      <td>1.2</td>\n",
       "      <td>1.1</td>\n",
       "      <td>0.5</td>\n",
       "      <td>57.0</td>\n",
       "      <td>0.8</td>\n",
       "      <td>0.3</td>\n",
       "      <td>38.7</td>\n",
       "      <td>0.0</td>\n",
       "      <td>70.7</td>\n",
       "      <td>1.8</td>\n",
       "      <td>2.11</td>\n",
       "      <td>132.0</td>\n",
       "      <td>1</td>\n",
       "      <td>0</td>\n",
       "      <td>0</td>\n",
       "      <td>1</td>\n",
       "      <td>2001</td>\n",
       "    </tr>\n",
       "    <tr>\n",
       "      <th>1</th>\n",
       "      <td>1</td>\n",
       "      <td>0.1</td>\n",
       "      <td>4.1</td>\n",
       "      <td>2.9</td>\n",
       "      <td>2.1</td>\n",
       "      <td>82.0</td>\n",
       "      <td>2.7</td>\n",
       "      <td>0.5</td>\n",
       "      <td>51.8</td>\n",
       "      <td>20.0</td>\n",
       "      <td>70.9</td>\n",
       "      <td>2.4</td>\n",
       "      <td>2.13</td>\n",
       "      <td>113.0</td>\n",
       "      <td>1</td>\n",
       "      <td>1</td>\n",
       "      <td>0</td>\n",
       "      <td>3</td>\n",
       "      <td>2001</td>\n",
       "    </tr>\n",
       "    <tr>\n",
       "      <th>2</th>\n",
       "      <td>0</td>\n",
       "      <td>3.1</td>\n",
       "      <td>1.8</td>\n",
       "      <td>1.6</td>\n",
       "      <td>0.4</td>\n",
       "      <td>80.0</td>\n",
       "      <td>3.0</td>\n",
       "      <td>1.3</td>\n",
       "      <td>42.6</td>\n",
       "      <td>33.3</td>\n",
       "      <td>67.1</td>\n",
       "      <td>2.4</td>\n",
       "      <td>1.98</td>\n",
       "      <td>102.0</td>\n",
       "      <td>0</td>\n",
       "      <td>0</td>\n",
       "      <td>1</td>\n",
       "      <td>5</td>\n",
       "      <td>2001</td>\n",
       "    </tr>\n",
       "    <tr>\n",
       "      <th>3</th>\n",
       "      <td>0</td>\n",
       "      <td>0.6</td>\n",
       "      <td>0.8</td>\n",
       "      <td>0.1</td>\n",
       "      <td>0.1</td>\n",
       "      <td>16.0</td>\n",
       "      <td>0.8</td>\n",
       "      <td>0.6</td>\n",
       "      <td>35.0</td>\n",
       "      <td>22.2</td>\n",
       "      <td>85.7</td>\n",
       "      <td>0.4</td>\n",
       "      <td>2.06</td>\n",
       "      <td>104.0</td>\n",
       "      <td>0</td>\n",
       "      <td>1</td>\n",
       "      <td>0</td>\n",
       "      <td>9</td>\n",
       "      <td>2001</td>\n",
       "    </tr>\n",
       "    <tr>\n",
       "      <th>4</th>\n",
       "      <td>0</td>\n",
       "      <td>0.4</td>\n",
       "      <td>0.5</td>\n",
       "      <td>0.1</td>\n",
       "      <td>0.0</td>\n",
       "      <td>8.0</td>\n",
       "      <td>0.8</td>\n",
       "      <td>0.3</td>\n",
       "      <td>8.3</td>\n",
       "      <td>0.0</td>\n",
       "      <td>100.0</td>\n",
       "      <td>0.1</td>\n",
       "      <td>1.93</td>\n",
       "      <td>88.0</td>\n",
       "      <td>0</td>\n",
       "      <td>0</td>\n",
       "      <td>1</td>\n",
       "      <td>21</td>\n",
       "      <td>2001</td>\n",
       "    </tr>\n",
       "    <tr>\n",
       "      <th>...</th>\n",
       "      <td>...</td>\n",
       "      <td>...</td>\n",
       "      <td>...</td>\n",
       "      <td>...</td>\n",
       "      <td>...</td>\n",
       "      <td>...</td>\n",
       "      <td>...</td>\n",
       "      <td>...</td>\n",
       "      <td>...</td>\n",
       "      <td>...</td>\n",
       "      <td>...</td>\n",
       "      <td>...</td>\n",
       "      <td>...</td>\n",
       "      <td>...</td>\n",
       "      <td>...</td>\n",
       "      <td>...</td>\n",
       "      <td>...</td>\n",
       "      <td>...</td>\n",
       "      <td>...</td>\n",
       "    </tr>\n",
       "    <tr>\n",
       "      <th>362</th>\n",
       "      <td>0</td>\n",
       "      <td>0.0</td>\n",
       "      <td>0.7</td>\n",
       "      <td>0.9</td>\n",
       "      <td>0.5</td>\n",
       "      <td>15.0</td>\n",
       "      <td>0.4</td>\n",
       "      <td>0.1</td>\n",
       "      <td>44.7</td>\n",
       "      <td>0.0</td>\n",
       "      <td>64.7</td>\n",
       "      <td>1.2</td>\n",
       "      <td>2.13</td>\n",
       "      <td>112.0</td>\n",
       "      <td>1</td>\n",
       "      <td>0</td>\n",
       "      <td>0</td>\n",
       "      <td>39</td>\n",
       "      <td>2021</td>\n",
       "    </tr>\n",
       "    <tr>\n",
       "      <th>363</th>\n",
       "      <td>0</td>\n",
       "      <td>3.4</td>\n",
       "      <td>0.6</td>\n",
       "      <td>0.8</td>\n",
       "      <td>0.4</td>\n",
       "      <td>19.0</td>\n",
       "      <td>1.1</td>\n",
       "      <td>0.7</td>\n",
       "      <td>45.6</td>\n",
       "      <td>42.2</td>\n",
       "      <td>85.7</td>\n",
       "      <td>1.9</td>\n",
       "      <td>1.98</td>\n",
       "      <td>105.0</td>\n",
       "      <td>0</td>\n",
       "      <td>1</td>\n",
       "      <td>0</td>\n",
       "      <td>42</td>\n",
       "      <td>2021</td>\n",
       "    </tr>\n",
       "    <tr>\n",
       "      <th>364</th>\n",
       "      <td>0</td>\n",
       "      <td>1.3</td>\n",
       "      <td>0.9</td>\n",
       "      <td>0.8</td>\n",
       "      <td>0.5</td>\n",
       "      <td>48.0</td>\n",
       "      <td>0.7</td>\n",
       "      <td>0.5</td>\n",
       "      <td>42.6</td>\n",
       "      <td>31.1</td>\n",
       "      <td>67.7</td>\n",
       "      <td>1.9</td>\n",
       "      <td>2.01</td>\n",
       "      <td>93.0</td>\n",
       "      <td>0</td>\n",
       "      <td>1</td>\n",
       "      <td>0</td>\n",
       "      <td>43</td>\n",
       "      <td>2021</td>\n",
       "    </tr>\n",
       "    <tr>\n",
       "      <th>365</th>\n",
       "      <td>0</td>\n",
       "      <td>2.8</td>\n",
       "      <td>0.3</td>\n",
       "      <td>0.9</td>\n",
       "      <td>0.5</td>\n",
       "      <td>48.0</td>\n",
       "      <td>0.6</td>\n",
       "      <td>0.6</td>\n",
       "      <td>41.2</td>\n",
       "      <td>35.3</td>\n",
       "      <td>84.2</td>\n",
       "      <td>1.8</td>\n",
       "      <td>2.01</td>\n",
       "      <td>92.0</td>\n",
       "      <td>0</td>\n",
       "      <td>1</td>\n",
       "      <td>0</td>\n",
       "      <td>44</td>\n",
       "      <td>2021</td>\n",
       "    </tr>\n",
       "    <tr>\n",
       "      <th>366</th>\n",
       "      <td>0</td>\n",
       "      <td>2.2</td>\n",
       "      <td>1.2</td>\n",
       "      <td>0.3</td>\n",
       "      <td>0.3</td>\n",
       "      <td>51.0</td>\n",
       "      <td>1.0</td>\n",
       "      <td>0.5</td>\n",
       "      <td>38.5</td>\n",
       "      <td>30.6</td>\n",
       "      <td>81.9</td>\n",
       "      <td>0.8</td>\n",
       "      <td>1.98</td>\n",
       "      <td>85.0</td>\n",
       "      <td>0</td>\n",
       "      <td>0</td>\n",
       "      <td>1</td>\n",
       "      <td>51</td>\n",
       "      <td>2021</td>\n",
       "    </tr>\n",
       "  </tbody>\n",
       "</table>\n",
       "<p>367 rows × 19 columns</p>\n",
       "</div>"
      ],
      "text/plain": [
       "     ROTY  ThreePA  FTM  OREB  BLK    GP  AST  STL  FGPercent  ThreePPercent  \\\n",
       "0       0      0.0  1.2   1.1  0.5  57.0  0.8  0.3       38.7            0.0   \n",
       "1       1      0.1  4.1   2.9  2.1  82.0  2.7  0.5       51.8           20.0   \n",
       "2       0      3.1  1.8   1.6  0.4  80.0  3.0  1.3       42.6           33.3   \n",
       "3       0      0.6  0.8   0.1  0.1  16.0  0.8  0.6       35.0           22.2   \n",
       "4       0      0.4  0.5   0.1  0.0   8.0  0.8  0.3        8.3            0.0   \n",
       "..    ...      ...  ...   ...  ...   ...  ...  ...        ...            ...   \n",
       "362     0      0.0  0.7   0.9  0.5  15.0  0.4  0.1       44.7            0.0   \n",
       "363     0      3.4  0.6   0.8  0.4  19.0  1.1  0.7       45.6           42.2   \n",
       "364     0      1.3  0.9   0.8  0.5  48.0  0.7  0.5       42.6           31.1   \n",
       "365     0      2.8  0.3   0.9  0.5  48.0  0.6  0.6       41.2           35.3   \n",
       "366     0      2.2  1.2   0.3  0.3  51.0  1.0  0.5       38.5           30.6   \n",
       "\n",
       "     FTPercent   PF  HEIGHT  WEIGHT  CENTER  FORWARD  GUARD  OVERALLPICK  YEAR  \n",
       "0         70.7  1.8    2.11   132.0       1        0      0            1  2001  \n",
       "1         70.9  2.4    2.13   113.0       1        1      0            3  2001  \n",
       "2         67.1  2.4    1.98   102.0       0        0      1            5  2001  \n",
       "3         85.7  0.4    2.06   104.0       0        1      0            9  2001  \n",
       "4        100.0  0.1    1.93    88.0       0        0      1           21  2001  \n",
       "..         ...  ...     ...     ...     ...      ...    ...          ...   ...  \n",
       "362       64.7  1.2    2.13   112.0       1        0      0           39  2021  \n",
       "363       85.7  1.9    1.98   105.0       0        1      0           42  2021  \n",
       "364       67.7  1.9    2.01    93.0       0        1      0           43  2021  \n",
       "365       84.2  1.8    2.01    92.0       0        1      0           44  2021  \n",
       "366       81.9  0.8    1.98    85.0       0        0      1           51  2021  \n",
       "\n",
       "[367 rows x 19 columns]"
      ]
     },
     "execution_count": 56,
     "metadata": {},
     "output_type": "execute_result"
    }
   ],
   "source": [
    "df_train[[\"ROTY\", \"ThreePA\", \"FTM\", \"OREB\", \"BLK\", \"GP\", \"AST\", \"STL\", \"FGPercent\", \"ThreePPercent\", \\\n",
    "         \"FTPercent\", \"PF\", \"HEIGHT\", \"WEIGHT\", \"CENTER\", \"FORWARD\", \"GUARD\", \"OVERALLPICK\", \"YEAR\"]] #cols with low VIF"
   ]
  },
  {
   "cell_type": "code",
   "execution_count": null,
   "id": "6004b396",
   "metadata": {},
   "outputs": [],
   "source": []
  },
  {
   "cell_type": "code",
   "execution_count": null,
   "id": "21a92259",
   "metadata": {},
   "outputs": [],
   "source": []
  }
 ],
 "metadata": {
  "kernelspec": {
   "display_name": "Python 3 (ipykernel)",
   "language": "python",
   "name": "python3"
  },
  "language_info": {
   "codemirror_mode": {
    "name": "ipython",
    "version": 3
   },
   "file_extension": ".py",
   "mimetype": "text/x-python",
   "name": "python",
   "nbconvert_exporter": "python",
   "pygments_lexer": "ipython3",
   "version": "3.9.7"
  }
 },
 "nbformat": 4,
 "nbformat_minor": 5
}
