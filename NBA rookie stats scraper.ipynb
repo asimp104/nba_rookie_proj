{
 "cells": [
  {
   "cell_type": "code",
   "execution_count": 113,
   "id": "373743e3",
   "metadata": {},
   "outputs": [
    {
     "name": "stdout",
     "output_type": "stream",
     "text": [
      "\n"
     ]
    },
    {
     "name": "stderr",
     "output_type": "stream",
     "text": [
      "[WDM] - ====== WebDriver manager ======\n",
      "[WDM] - Current google-chrome version is 103.0.5060\n",
      "[WDM] - Get LATEST chromedriver version for 103.0.5060 google-chrome\n",
      "[WDM] - Driver [C:\\Users\\asimp\\.wdm\\drivers\\chromedriver\\win32\\103.0.5060.53\\chromedriver.exe] found in cache\n",
      "C:\\Users\\asimp\\AppData\\Local\\Temp/ipykernel_29240/199131800.py:9: DeprecationWarning: executable_path has been deprecated, please pass in a Service object\n",
      "  driver = webdriver.Chrome(ChromeDriverManager().install())\n"
     ]
    }
   ],
   "source": [
    "from selenium import webdriver\n",
    "from selenium.webdriver.common.by import By\n",
    "from selenium import webdriver\n",
    "from webdriver_manager.chrome import ChromeDriverManager\n",
    "import pandas as pd\n",
    "import time\n",
    "import re\n",
    "\n",
    "driver = webdriver.Chrome(ChromeDriverManager().install())"
   ]
  },
  {
   "cell_type": "code",
   "execution_count": 114,
   "id": "c842416e",
   "metadata": {
    "scrolled": true
   },
   "outputs": [],
   "source": [
    "\n",
    "year= '2022'\n",
    "driver.get(\"https://www.nba.com/stats/draft/history/?Season=\" + year)\n",
    "time.sleep(10)\n",
    "\n",
    "\n",
    "accept_cookies = driver.find_element(By.ID, \"onetrust-accept-btn-handler\")\n",
    "accept_cookies.click( )\n",
    "time.sleep(10)\n",
    "\n"
   ]
  },
  {
   "cell_type": "code",
   "execution_count": 119,
   "id": "b6e6202e",
   "metadata": {
    "scrolled": true
   },
   "outputs": [],
   "source": [
    "def getUniqueItems(iterable): #Website gives duplicate lists of players with same xpath\n",
    "    result = []\n",
    "    for item in iterable:\n",
    "        item = item.text\n",
    "        if item not in result:\n",
    "            result.append(item)\n",
    "    return result\n",
    "\n",
    "titles = driver.find_elements(By.TAG_NAME, 'th')\n",
    "titles = getUniqueItems(titles)\n",
    "\n",
    "\n",
    "draft = pd.DataFrame(columns=[t for t in titles])\n",
    "draft = draft.rename(columns=lambda x: re.sub('\\n',' ',x)) #solution for removing \\n in column names "
   ]
  },
  {
   "cell_type": "code",
   "execution_count": 120,
   "id": "25e8d768",
   "metadata": {},
   "outputs": [
    {
     "data": {
      "text/html": [
       "<div>\n",
       "<style scoped>\n",
       "    .dataframe tbody tr th:only-of-type {\n",
       "        vertical-align: middle;\n",
       "    }\n",
       "\n",
       "    .dataframe tbody tr th {\n",
       "        vertical-align: top;\n",
       "    }\n",
       "\n",
       "    .dataframe thead th {\n",
       "        text-align: right;\n",
       "    }\n",
       "</style>\n",
       "<table border=\"1\" class=\"dataframe\">\n",
       "  <thead>\n",
       "    <tr style=\"text-align: right;\">\n",
       "      <th></th>\n",
       "      <th>PLAYER</th>\n",
       "      <th>TEAM</th>\n",
       "      <th>AFFILIATION</th>\n",
       "      <th>OVERALL PICK</th>\n",
       "    </tr>\n",
       "  </thead>\n",
       "  <tbody>\n",
       "    <tr>\n",
       "      <th>0</th>\n",
       "      <td>Mark Workman</td>\n",
       "      <td>Milwaukee Hawks</td>\n",
       "      <td>West Virginia</td>\n",
       "      <td>1</td>\n",
       "    </tr>\n",
       "    <tr>\n",
       "      <th>1</th>\n",
       "      <td>Jim Baechtold</td>\n",
       "      <td>Baltimore Bullets</td>\n",
       "      <td>Eastern Kentucky</td>\n",
       "      <td>2</td>\n",
       "    </tr>\n",
       "    <tr>\n",
       "      <th>2</th>\n",
       "      <td>Dick Groat</td>\n",
       "      <td>Ft. Wayne Zollner Pistons</td>\n",
       "      <td>Duke</td>\n",
       "      <td>3</td>\n",
       "    </tr>\n",
       "    <tr>\n",
       "      <th>3</th>\n",
       "      <td>Joe Dean</td>\n",
       "      <td>Indianapolis Olympians</td>\n",
       "      <td>Louisiana State</td>\n",
       "      <td>4</td>\n",
       "    </tr>\n",
       "    <tr>\n",
       "      <th>4</th>\n",
       "      <td>Ralph Polson</td>\n",
       "      <td>New York Knicks</td>\n",
       "      <td>Whitworth</td>\n",
       "      <td>5</td>\n",
       "    </tr>\n",
       "  </tbody>\n",
       "</table>\n",
       "</div>"
      ],
      "text/plain": [
       "          PLAYER                       TEAM       AFFILIATION  OVERALL PICK\n",
       "0   Mark Workman            Milwaukee Hawks     West Virginia             1\n",
       "1  Jim Baechtold          Baltimore Bullets  Eastern Kentucky             2\n",
       "2     Dick Groat  Ft. Wayne Zollner Pistons              Duke             3\n",
       "3       Joe Dean     Indianapolis Olympians   Louisiana State             4\n",
       "4   Ralph Polson            New York Knicks         Whitworth             5"
      ]
     },
     "execution_count": 120,
     "metadata": {},
     "output_type": "execute_result"
    }
   ],
   "source": [
    "players = driver.find_elements(By.XPATH, \"//td[@class='player']\")\n",
    "teams = driver.find_elements(By.XPATH, \"//td[@class='team']\")\n",
    "affiliations = driver.find_elements(By.XPATH, \"//td[@class='first text']\")\n",
    "\n",
    "players = getUniqueItems(players)\n",
    "\n",
    "draft[draft.columns[0]] = [p for p in players]\n",
    "draft[draft.columns[1]] = [t.text for t in teams]\n",
    "draft[draft.columns[2]] = [a.text for a in affiliations]\n",
    "draft.drop(labels=['YEAR','ROUND NUMBER', 'ROUND PICK'], axis=1, inplace=True)\n",
    "\n",
    "draft[draft.columns[3]] = [i+1 for i in range(len(players))]\n",
    "draft.head()"
   ]
  },
  {
   "cell_type": "code",
   "execution_count": 121,
   "id": "88f962aa",
   "metadata": {},
   "outputs": [
    {
     "ename": "WebDriverException",
     "evalue": "Message: chrome not reachable\n  (Session info: chrome=103.0.5060.66)\nStacktrace:\nBacktrace:\n\tOrdinal0 [0x00DB6463+2188387]\n\tOrdinal0 [0x00D4E461+1762401]\n\tOrdinal0 [0x00C63C40+801856]\n\tOrdinal0 [0x00C58932+756018]\n\tOrdinal0 [0x00C59168+758120]\n\tOrdinal0 [0x00C5AA22+764450]\n\tOrdinal0 [0x00C54379+738169]\n\tOrdinal0 [0x00C650D0+807120]\n\tOrdinal0 [0x00CBC402+1164290]\n\tOrdinal0 [0x00CAC5F6+1099254]\n\tOrdinal0 [0x00C86BE0+945120]\n\tOrdinal0 [0x00C87AD6+948950]\n\tGetHandleVerifier [0x010571F2+2712546]\n\tGetHandleVerifier [0x0104886D+2652765]\n\tGetHandleVerifier [0x00E4002A+520730]\n\tGetHandleVerifier [0x00E3EE06+516086]\n\tOrdinal0 [0x00D5468B+1787531]\n\tOrdinal0 [0x00D58E88+1805960]\n\tOrdinal0 [0x00D58F75+1806197]\n\tOrdinal0 [0x00D61DF1+1842673]\n\tBaseThreadInitThunk [0x761F6739+25]\n\tRtlGetFullPathName_UEx [0x77588FEF+1215]\n\tRtlGetFullPathName_UEx [0x77588FBD+1165]\n",
     "output_type": "error",
     "traceback": [
      "\u001b[1;31m---------------------------------------------------------------------------\u001b[0m",
      "\u001b[1;31mWebDriverException\u001b[0m                        Traceback (most recent call last)",
      "\u001b[1;32m~\\AppData\\Local\\Temp/ipykernel_29240/3512942327.py\u001b[0m in \u001b[0;36m<module>\u001b[1;34m\u001b[0m\n\u001b[0;32m      1\u001b[0m \u001b[1;31m#must initialize player stats dataframe\u001b[0m\u001b[1;33m\u001b[0m\u001b[1;33m\u001b[0m\u001b[0m\n\u001b[1;32m----> 2\u001b[1;33m \u001b[0mplayerbutton\u001b[0m \u001b[1;33m=\u001b[0m \u001b[0mdriver\u001b[0m\u001b[1;33m.\u001b[0m\u001b[0mfind_element\u001b[0m\u001b[1;33m(\u001b[0m\u001b[0mBy\u001b[0m\u001b[1;33m.\u001b[0m\u001b[0mLINK_TEXT\u001b[0m\u001b[1;33m,\u001b[0m \u001b[0mplayers\u001b[0m\u001b[1;33m[\u001b[0m\u001b[1;36m0\u001b[0m\u001b[1;33m]\u001b[0m\u001b[1;33m)\u001b[0m\u001b[1;33m\u001b[0m\u001b[1;33m\u001b[0m\u001b[0m\n\u001b[0m\u001b[0;32m      3\u001b[0m \u001b[0mdriver\u001b[0m\u001b[1;33m.\u001b[0m\u001b[0mexecute_script\u001b[0m\u001b[1;33m(\u001b[0m\u001b[1;34m\"arguments[0].click();\"\u001b[0m\u001b[1;33m,\u001b[0m \u001b[0mplayerbutton\u001b[0m\u001b[1;33m)\u001b[0m\u001b[1;33m\u001b[0m\u001b[1;33m\u001b[0m\u001b[0m\n\u001b[0;32m      4\u001b[0m \u001b[1;33m\u001b[0m\u001b[0m\n\u001b[0;32m      5\u001b[0m \u001b[0mheader\u001b[0m \u001b[1;33m=\u001b[0m \u001b[0mdriver\u001b[0m\u001b[1;33m.\u001b[0m\u001b[0mfind_element\u001b[0m\u001b[1;33m(\u001b[0m\u001b[0mBy\u001b[0m\u001b[1;33m.\u001b[0m\u001b[0mCLASS_NAME\u001b[0m\u001b[1;33m,\u001b[0m \u001b[1;34m'Crom_headers__QJmqP'\u001b[0m\u001b[1;33m)\u001b[0m\u001b[1;33m\u001b[0m\u001b[1;33m\u001b[0m\u001b[0m\n",
      "\u001b[1;32m~\\anaconda3\\lib\\site-packages\\selenium\\webdriver\\remote\\webdriver.py\u001b[0m in \u001b[0;36mfind_element\u001b[1;34m(self, by, value)\u001b[0m\n\u001b[0;32m    855\u001b[0m             \u001b[0mvalue\u001b[0m \u001b[1;33m=\u001b[0m \u001b[1;34m'[name=\"%s\"]'\u001b[0m \u001b[1;33m%\u001b[0m \u001b[0mvalue\u001b[0m\u001b[1;33m\u001b[0m\u001b[1;33m\u001b[0m\u001b[0m\n\u001b[0;32m    856\u001b[0m \u001b[1;33m\u001b[0m\u001b[0m\n\u001b[1;32m--> 857\u001b[1;33m         return self.execute(Command.FIND_ELEMENT, {\n\u001b[0m\u001b[0;32m    858\u001b[0m             \u001b[1;34m'using'\u001b[0m\u001b[1;33m:\u001b[0m \u001b[0mby\u001b[0m\u001b[1;33m,\u001b[0m\u001b[1;33m\u001b[0m\u001b[1;33m\u001b[0m\u001b[0m\n\u001b[0;32m    859\u001b[0m             'value': value})['value']\n",
      "\u001b[1;32m~\\anaconda3\\lib\\site-packages\\selenium\\webdriver\\remote\\webdriver.py\u001b[0m in \u001b[0;36mexecute\u001b[1;34m(self, driver_command, params)\u001b[0m\n\u001b[0;32m    433\u001b[0m         \u001b[0mresponse\u001b[0m \u001b[1;33m=\u001b[0m \u001b[0mself\u001b[0m\u001b[1;33m.\u001b[0m\u001b[0mcommand_executor\u001b[0m\u001b[1;33m.\u001b[0m\u001b[0mexecute\u001b[0m\u001b[1;33m(\u001b[0m\u001b[0mdriver_command\u001b[0m\u001b[1;33m,\u001b[0m \u001b[0mparams\u001b[0m\u001b[1;33m)\u001b[0m\u001b[1;33m\u001b[0m\u001b[1;33m\u001b[0m\u001b[0m\n\u001b[0;32m    434\u001b[0m         \u001b[1;32mif\u001b[0m \u001b[0mresponse\u001b[0m\u001b[1;33m:\u001b[0m\u001b[1;33m\u001b[0m\u001b[1;33m\u001b[0m\u001b[0m\n\u001b[1;32m--> 435\u001b[1;33m             \u001b[0mself\u001b[0m\u001b[1;33m.\u001b[0m\u001b[0merror_handler\u001b[0m\u001b[1;33m.\u001b[0m\u001b[0mcheck_response\u001b[0m\u001b[1;33m(\u001b[0m\u001b[0mresponse\u001b[0m\u001b[1;33m)\u001b[0m\u001b[1;33m\u001b[0m\u001b[1;33m\u001b[0m\u001b[0m\n\u001b[0m\u001b[0;32m    436\u001b[0m             response['value'] = self._unwrap_value(\n\u001b[0;32m    437\u001b[0m                 response.get('value', None))\n",
      "\u001b[1;32m~\\anaconda3\\lib\\site-packages\\selenium\\webdriver\\remote\\errorhandler.py\u001b[0m in \u001b[0;36mcheck_response\u001b[1;34m(self, response)\u001b[0m\n\u001b[0;32m    245\u001b[0m                 \u001b[0malert_text\u001b[0m \u001b[1;33m=\u001b[0m \u001b[0mvalue\u001b[0m\u001b[1;33m[\u001b[0m\u001b[1;34m'alert'\u001b[0m\u001b[1;33m]\u001b[0m\u001b[1;33m.\u001b[0m\u001b[0mget\u001b[0m\u001b[1;33m(\u001b[0m\u001b[1;34m'text'\u001b[0m\u001b[1;33m)\u001b[0m\u001b[1;33m\u001b[0m\u001b[1;33m\u001b[0m\u001b[0m\n\u001b[0;32m    246\u001b[0m             \u001b[1;32mraise\u001b[0m \u001b[0mexception_class\u001b[0m\u001b[1;33m(\u001b[0m\u001b[0mmessage\u001b[0m\u001b[1;33m,\u001b[0m \u001b[0mscreen\u001b[0m\u001b[1;33m,\u001b[0m \u001b[0mstacktrace\u001b[0m\u001b[1;33m,\u001b[0m \u001b[0malert_text\u001b[0m\u001b[1;33m)\u001b[0m  \u001b[1;31m# type: ignore[call-arg]  # mypy is not smart enough here\u001b[0m\u001b[1;33m\u001b[0m\u001b[1;33m\u001b[0m\u001b[0m\n\u001b[1;32m--> 247\u001b[1;33m         \u001b[1;32mraise\u001b[0m \u001b[0mexception_class\u001b[0m\u001b[1;33m(\u001b[0m\u001b[0mmessage\u001b[0m\u001b[1;33m,\u001b[0m \u001b[0mscreen\u001b[0m\u001b[1;33m,\u001b[0m \u001b[0mstacktrace\u001b[0m\u001b[1;33m)\u001b[0m\u001b[1;33m\u001b[0m\u001b[1;33m\u001b[0m\u001b[0m\n\u001b[0m\u001b[0;32m    248\u001b[0m \u001b[1;33m\u001b[0m\u001b[0m\n\u001b[0;32m    249\u001b[0m     \u001b[1;32mdef\u001b[0m \u001b[0m_value_or_default\u001b[0m\u001b[1;33m(\u001b[0m\u001b[0mself\u001b[0m\u001b[1;33m,\u001b[0m \u001b[0mobj\u001b[0m\u001b[1;33m:\u001b[0m \u001b[0mMapping\u001b[0m\u001b[1;33m[\u001b[0m\u001b[0m_KT\u001b[0m\u001b[1;33m,\u001b[0m \u001b[0m_VT\u001b[0m\u001b[1;33m]\u001b[0m\u001b[1;33m,\u001b[0m \u001b[0mkey\u001b[0m\u001b[1;33m:\u001b[0m \u001b[0m_KT\u001b[0m\u001b[1;33m,\u001b[0m \u001b[0mdefault\u001b[0m\u001b[1;33m:\u001b[0m \u001b[0m_VT\u001b[0m\u001b[1;33m)\u001b[0m \u001b[1;33m->\u001b[0m \u001b[0m_VT\u001b[0m\u001b[1;33m:\u001b[0m\u001b[1;33m\u001b[0m\u001b[1;33m\u001b[0m\u001b[0m\n",
      "\u001b[1;31mWebDriverException\u001b[0m: Message: chrome not reachable\n  (Session info: chrome=103.0.5060.66)\nStacktrace:\nBacktrace:\n\tOrdinal0 [0x00DB6463+2188387]\n\tOrdinal0 [0x00D4E461+1762401]\n\tOrdinal0 [0x00C63C40+801856]\n\tOrdinal0 [0x00C58932+756018]\n\tOrdinal0 [0x00C59168+758120]\n\tOrdinal0 [0x00C5AA22+764450]\n\tOrdinal0 [0x00C54379+738169]\n\tOrdinal0 [0x00C650D0+807120]\n\tOrdinal0 [0x00CBC402+1164290]\n\tOrdinal0 [0x00CAC5F6+1099254]\n\tOrdinal0 [0x00C86BE0+945120]\n\tOrdinal0 [0x00C87AD6+948950]\n\tGetHandleVerifier [0x010571F2+2712546]\n\tGetHandleVerifier [0x0104886D+2652765]\n\tGetHandleVerifier [0x00E4002A+520730]\n\tGetHandleVerifier [0x00E3EE06+516086]\n\tOrdinal0 [0x00D5468B+1787531]\n\tOrdinal0 [0x00D58E88+1805960]\n\tOrdinal0 [0x00D58F75+1806197]\n\tOrdinal0 [0x00D61DF1+1842673]\n\tBaseThreadInitThunk [0x761F6739+25]\n\tRtlGetFullPathName_UEx [0x77588FEF+1215]\n\tRtlGetFullPathName_UEx [0x77588FBD+1165]\n"
     ]
    }
   ],
   "source": [
    "#must initialize player stats dataframe\n",
    "playerbutton = driver.find_element(By.LINK_TEXT, players[0])\n",
    "driver.execute_script(\"arguments[0].click();\", playerbutton)\n",
    "\n",
    "header = driver.find_element(By.CLASS_NAME, 'Crom_headers__QJmqP')\n",
    "header = header.text.split()\n",
    "header += ['HEIGHT', 'WEIGHT', 'POSITION']\n",
    "\n",
    "player_df = pd.DataFrame(columns=[i for i in players_df.columns])\n",
    "\n",
    "stats = driver.find_element(By.CLASS_NAME, 'Crom_body__2rqCI')\n",
    "stats = stats.text.split()\n",
    "stats = stats[:len(header)]\n",
    "\n",
    "info = driver.find_elements(By.CLASS_NAME, 'PlayerSummary_playerInfoValue__mSfou')\n",
    "info = [h.text for h in info]\n",
    "\n",
    "height = info[0].split('(')\n",
    "height = height[1].strip('m)')\n",
    "\n",
    "weight = info[1].split('(')\n",
    "weight = weight[1].strip('kg)')\n",
    "\n",
    "position = driver.find_element(By.XPATH, \"//p[@class='t11 md:t2']\")\n",
    "position = position.text.split('|')\n",
    "position = position[-1].strip()\n",
    "\n",
    "stats += [height, weight, position]\n",
    "print(stats)\n",
    "\n",
    "player_df.loc[len(player_df.index)] = stats\n",
    "driver.back()\n",
    "time.sleep(5)\n",
    "\n",
    "def getPlayerStats(player):\n",
    "    playerbutton = driver.find_element(By.LINK_TEXT, player)\n",
    "    driver.execute_script(\"arguments[0].click();\", playerbutton)\n",
    "    time.sleep(10)\n",
    "    try:\n",
    "        stats = driver.find_element(By.CLASS_NAME, 'Crom_body__2rqCI')\n",
    "        stats = stats.text.split()\n",
    "        stats = stats[:(len(header)-3)]\n",
    "        info = driver.find_elements(By.CLASS_NAME, 'PlayerSummary_playerInfoValue__mSfou')\n",
    "        info = [h.text for h in info]\n",
    "\n",
    "        height = info[0].split('(')\n",
    "        height = height[1].strip('m)')\n",
    "\n",
    "        weight = info[1].split('(')\n",
    "        weight = weight[1].strip('kg)')\n",
    "\n",
    "        position = driver.find_element(By.XPATH, \"//p[@class='t11 md:t2']\")\n",
    "        position = position.text.split('|')\n",
    "        position = position[-1].strip()\n",
    "\n",
    "        stats += [height, weight, position]\n",
    "    except:\n",
    "        stats = ['NaN']*(len(header)-3)\n",
    "        info = driver.find_elements(By.CLASS_NAME, 'PlayerSummary_playerInfoValue__mSfou')\n",
    "        info = [h.text for h in info]\n",
    "\n",
    "        height = info[0].split('(')\n",
    "        height = height[1].strip('m)')\n",
    "\n",
    "        weight = info[1].split('(')\n",
    "        weight = weight[1].strip('kg)')\n",
    "\n",
    "        position = driver.find_element(By.XPATH, \"//p[@class='t11 md:t2']\")\n",
    "        position = position.text.split('|')\n",
    "        position = position[-1].strip()\n",
    "\n",
    "        stats += [height, weight, position]\n",
    "    player_df.loc[len(player_df.index)] = stats\n",
    "\n",
    "    driver.back()\n",
    "    time.sleep(10)\n",
    "    \n",
    "    \n",
    "    \n",
    "for i in range(1,len(players)):\n",
    "    getPlayerStats(players[i])\n",
    "    \n",
    "draft = pd.concat((draft, player_df), axis=1)"
   ]
  },
  {
   "cell_type": "code",
   "execution_count": null,
   "id": "729a8681",
   "metadata": {},
   "outputs": [],
   "source": [
    "draft = pd.concat((draft, player_df), axis=1)\n",
    "print(draft)"
   ]
  },
  {
   "cell_type": "code",
   "execution_count": null,
   "id": "d5a13def",
   "metadata": {},
   "outputs": [],
   "source": []
  }
 ],
 "metadata": {
  "kernelspec": {
   "display_name": "Python 3 (ipykernel)",
   "language": "python",
   "name": "python3"
  },
  "language_info": {
   "codemirror_mode": {
    "name": "ipython",
    "version": 3
   },
   "file_extension": ".py",
   "mimetype": "text/x-python",
   "name": "python",
   "nbconvert_exporter": "python",
   "pygments_lexer": "ipython3",
   "version": "3.9.7"
  }
 },
 "nbformat": 4,
 "nbformat_minor": 5
}
