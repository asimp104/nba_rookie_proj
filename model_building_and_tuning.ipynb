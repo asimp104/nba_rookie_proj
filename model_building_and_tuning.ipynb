{
 "cells": [
  {
   "cell_type": "code",
   "execution_count": 732,
   "id": "bd121e8d",
   "metadata": {},
   "outputs": [],
   "source": [
    "import pandas as pd\n",
    "from matplotlib import pyplot as plt\n",
    "import numpy as np\n",
    "import seaborn as sns\n",
    "import sklearn\n",
    "from sklearn.model_selection import train_test_split\n",
    "from sklearn.feature_selection import SelectKBest, f_classif, chi2\n",
    "from sklearn.linear_model import LogisticRegression\n",
    "from xgboost import XGBClassifier\n",
    "from sklearn.metrics import accuracy_score\n",
    "from sklearn.ensemble import RandomForestClassifier\n",
    "from sklearn.model_selection import GridSearchCV, StratifiedKFold\n",
    "from sklearn.metrics import precision_recall_curve\n",
    "import pickle"
   ]
  },
  {
   "cell_type": "code",
   "execution_count": 733,
   "id": "dcbf3a2b",
   "metadata": {},
   "outputs": [
    {
     "name": "stderr",
     "output_type": "stream",
     "text": [
      "C:\\Users\\asimp\\anaconda3\\lib\\site-packages\\pandas\\core\\frame.py:5176: SettingWithCopyWarning: \n",
      "A value is trying to be set on a copy of a slice from a DataFrame\n",
      "\n",
      "See the caveats in the documentation: https://pandas.pydata.org/pandas-docs/stable/user_guide/indexing.html#returning-a-view-versus-a-copy\n",
      "  return super().fillna(\n"
     ]
    }
   ],
   "source": [
    "df = pd.read_csv(\"draft_df_cleaned.csv\", index_col=0)\n",
    "\n",
    "df['ThreePPercent'] = pd.to_numeric(df['ThreePPercent'], errors='coerce')\n",
    "df[\"TSPercent\"] = ((df.PTS*0.5)/(df.FGA+(0.475*df.FTA)))\n",
    "\n",
    "df['FTRate'] = df.FTA/df.FGA\n",
    "df = df.replace(r'^\\s*$', np.NaN, regex=True)\n",
    "df['FTRate'] = df['FTRate'].apply(lambda x: 0 if x == 'inf' or x == '-inf' or x == 'NaN' else (mx if x > mx else x))\n",
    "\n",
    "nomc_cols_features = ['PLAYER', 'ROOKIE', 'ROTY', 'FTM', 'AST', 'STL', 'OREB', 'GP', 'BLK', 'PF', 'ThreePA', 'FTPercent', 'ThreePPercent', 'GUARD', \\\n",
    "             'FORWARD', 'WEIGHT', 'HEIGHT', 'CENTER', 'YEAR', 'OVERALL PICK', 'FTRate', 'TSPercent']\n",
    "#cols with advanced stats\n",
    "\n",
    "dfwfeatures = df[nomc_cols_features]\n",
    "\n",
    "nomc_cols = [\"ROTY\", \"PLAYER\", \"ROOKIE\", \"FTA\", \"AST\", \"DREB\", \"STL\", \"OREB\", \"GP\", \"BLK\", \"PF\", \"ThreePM\", \"FTPercent\", \\\n",
    "             \"ThreePPercent\", \"FGPercent\", \"GUARD\", \"FORWARD\", \"WEIGHT\", \"HEIGHT\", \"CENTER\", \"YEAR\", \"OVERALL PICK\"]\n",
    "#cols without advanced stats\n",
    "\n",
    "dfwof = df[nomc_cols]\n",
    "\n",
    "dfwfeatures.fillna(0, inplace=True)\n",
    "\n",
    "dfwfeatures.to_csv(\"cleaned_data2.csv\")"
   ]
  },
  {
   "cell_type": "code",
   "execution_count": 734,
   "id": "85bab5a0",
   "metadata": {},
   "outputs": [
    {
     "data": {
      "text/html": [
       "<div>\n",
       "<style scoped>\n",
       "    .dataframe tbody tr th:only-of-type {\n",
       "        vertical-align: middle;\n",
       "    }\n",
       "\n",
       "    .dataframe tbody tr th {\n",
       "        vertical-align: top;\n",
       "    }\n",
       "\n",
       "    .dataframe thead th {\n",
       "        text-align: right;\n",
       "    }\n",
       "</style>\n",
       "<table border=\"1\" class=\"dataframe\">\n",
       "  <thead>\n",
       "    <tr style=\"text-align: right;\">\n",
       "      <th></th>\n",
       "      <th>ROTY</th>\n",
       "      <th>PLAYER</th>\n",
       "      <th>ROOKIE</th>\n",
       "      <th>FTA</th>\n",
       "      <th>AST</th>\n",
       "      <th>DREB</th>\n",
       "      <th>STL</th>\n",
       "      <th>OREB</th>\n",
       "      <th>GP</th>\n",
       "      <th>BLK</th>\n",
       "      <th>...</th>\n",
       "      <th>FTPercent</th>\n",
       "      <th>ThreePPercent</th>\n",
       "      <th>FGPercent</th>\n",
       "      <th>GUARD</th>\n",
       "      <th>FORWARD</th>\n",
       "      <th>WEIGHT</th>\n",
       "      <th>HEIGHT</th>\n",
       "      <th>CENTER</th>\n",
       "      <th>YEAR</th>\n",
       "      <th>OVERALL PICK</th>\n",
       "    </tr>\n",
       "  </thead>\n",
       "  <tbody>\n",
       "    <tr>\n",
       "      <th>0</th>\n",
       "      <td>0</td>\n",
       "      <td>Kwame Brown</td>\n",
       "      <td>0</td>\n",
       "      <td>1.7</td>\n",
       "      <td>0.8</td>\n",
       "      <td>2.4</td>\n",
       "      <td>0.3</td>\n",
       "      <td>1.1</td>\n",
       "      <td>57.0</td>\n",
       "      <td>0.5</td>\n",
       "      <td>...</td>\n",
       "      <td>70.7</td>\n",
       "      <td>0.0</td>\n",
       "      <td>38.7</td>\n",
       "      <td>0</td>\n",
       "      <td>0</td>\n",
       "      <td>132.0</td>\n",
       "      <td>2.11</td>\n",
       "      <td>1</td>\n",
       "      <td>2001</td>\n",
       "      <td>1</td>\n",
       "    </tr>\n",
       "    <tr>\n",
       "      <th>1</th>\n",
       "      <td>0</td>\n",
       "      <td>Tyson Chandler</td>\n",
       "      <td>0</td>\n",
       "      <td>3.1</td>\n",
       "      <td>0.8</td>\n",
       "      <td>3.2</td>\n",
       "      <td>0.4</td>\n",
       "      <td>1.6</td>\n",
       "      <td>71.0</td>\n",
       "      <td>1.3</td>\n",
       "      <td>...</td>\n",
       "      <td>60.4</td>\n",
       "      <td>0.0</td>\n",
       "      <td>49.7</td>\n",
       "      <td>0</td>\n",
       "      <td>0</td>\n",
       "      <td>107.0</td>\n",
       "      <td>2.13</td>\n",
       "      <td>1</td>\n",
       "      <td>2001</td>\n",
       "      <td>2</td>\n",
       "    </tr>\n",
       "    <tr>\n",
       "      <th>2</th>\n",
       "      <td>1</td>\n",
       "      <td>Pau Gasol</td>\n",
       "      <td>0</td>\n",
       "      <td>5.8</td>\n",
       "      <td>2.7</td>\n",
       "      <td>6.0</td>\n",
       "      <td>0.5</td>\n",
       "      <td>2.9</td>\n",
       "      <td>82.0</td>\n",
       "      <td>2.1</td>\n",
       "      <td>...</td>\n",
       "      <td>70.9</td>\n",
       "      <td>20.0</td>\n",
       "      <td>51.8</td>\n",
       "      <td>0</td>\n",
       "      <td>1</td>\n",
       "      <td>113.0</td>\n",
       "      <td>2.13</td>\n",
       "      <td>1</td>\n",
       "      <td>2001</td>\n",
       "      <td>3</td>\n",
       "    </tr>\n",
       "    <tr>\n",
       "      <th>3</th>\n",
       "      <td>0</td>\n",
       "      <td>Jason Richardson</td>\n",
       "      <td>0</td>\n",
       "      <td>2.6</td>\n",
       "      <td>3.0</td>\n",
       "      <td>2.7</td>\n",
       "      <td>1.3</td>\n",
       "      <td>1.6</td>\n",
       "      <td>80.0</td>\n",
       "      <td>0.4</td>\n",
       "      <td>...</td>\n",
       "      <td>67.1</td>\n",
       "      <td>33.3</td>\n",
       "      <td>42.6</td>\n",
       "      <td>1</td>\n",
       "      <td>0</td>\n",
       "      <td>102.0</td>\n",
       "      <td>1.98</td>\n",
       "      <td>0</td>\n",
       "      <td>2001</td>\n",
       "      <td>5</td>\n",
       "    </tr>\n",
       "    <tr>\n",
       "      <th>4</th>\n",
       "      <td>0</td>\n",
       "      <td>Shane Battier</td>\n",
       "      <td>0</td>\n",
       "      <td>3.6</td>\n",
       "      <td>2.8</td>\n",
       "      <td>3.1</td>\n",
       "      <td>1.6</td>\n",
       "      <td>2.3</td>\n",
       "      <td>78.0</td>\n",
       "      <td>1.0</td>\n",
       "      <td>...</td>\n",
       "      <td>70.0</td>\n",
       "      <td>37.3</td>\n",
       "      <td>42.9</td>\n",
       "      <td>0</td>\n",
       "      <td>1</td>\n",
       "      <td>100.0</td>\n",
       "      <td>2.03</td>\n",
       "      <td>0</td>\n",
       "      <td>2001</td>\n",
       "      <td>6</td>\n",
       "    </tr>\n",
       "    <tr>\n",
       "      <th>...</th>\n",
       "      <td>...</td>\n",
       "      <td>...</td>\n",
       "      <td>...</td>\n",
       "      <td>...</td>\n",
       "      <td>...</td>\n",
       "      <td>...</td>\n",
       "      <td>...</td>\n",
       "      <td>...</td>\n",
       "      <td>...</td>\n",
       "      <td>...</td>\n",
       "      <td>...</td>\n",
       "      <td>...</td>\n",
       "      <td>...</td>\n",
       "      <td>...</td>\n",
       "      <td>...</td>\n",
       "      <td>...</td>\n",
       "      <td>...</td>\n",
       "      <td>...</td>\n",
       "      <td>...</td>\n",
       "      <td>...</td>\n",
       "      <td>...</td>\n",
       "    </tr>\n",
       "    <tr>\n",
       "      <th>888</th>\n",
       "      <td>0</td>\n",
       "      <td>Kendall Brown</td>\n",
       "      <td>1</td>\n",
       "      <td>2.2</td>\n",
       "      <td>1.9</td>\n",
       "      <td>3.1</td>\n",
       "      <td>1.0</td>\n",
       "      <td>1.7</td>\n",
       "      <td>34.0</td>\n",
       "      <td>0.4</td>\n",
       "      <td>...</td>\n",
       "      <td>68.9</td>\n",
       "      <td>34.1</td>\n",
       "      <td>58.4</td>\n",
       "      <td>1</td>\n",
       "      <td>0</td>\n",
       "      <td>93.0</td>\n",
       "      <td>2.03</td>\n",
       "      <td>0</td>\n",
       "      <td>2022</td>\n",
       "      <td>48</td>\n",
       "    </tr>\n",
       "    <tr>\n",
       "      <th>889</th>\n",
       "      <td>0</td>\n",
       "      <td>Isaiah Mobley</td>\n",
       "      <td>1</td>\n",
       "      <td>2.3</td>\n",
       "      <td>1.0</td>\n",
       "      <td>3.7</td>\n",
       "      <td>0.6</td>\n",
       "      <td>1.5</td>\n",
       "      <td>31.0</td>\n",
       "      <td>0.6</td>\n",
       "      <td>...</td>\n",
       "      <td>52.1</td>\n",
       "      <td>28.6</td>\n",
       "      <td>47.4</td>\n",
       "      <td>0</td>\n",
       "      <td>1</td>\n",
       "      <td>108.0</td>\n",
       "      <td>2.03</td>\n",
       "      <td>0</td>\n",
       "      <td>2022</td>\n",
       "      <td>49</td>\n",
       "    </tr>\n",
       "    <tr>\n",
       "      <th>890</th>\n",
       "      <td>0</td>\n",
       "      <td>Tyrese Martin</td>\n",
       "      <td>1</td>\n",
       "      <td>1.6</td>\n",
       "      <td>1.0</td>\n",
       "      <td>3.3</td>\n",
       "      <td>0.8</td>\n",
       "      <td>1.9</td>\n",
       "      <td>33.0</td>\n",
       "      <td>0.3</td>\n",
       "      <td>...</td>\n",
       "      <td>64.8</td>\n",
       "      <td>31.1</td>\n",
       "      <td>41.8</td>\n",
       "      <td>1</td>\n",
       "      <td>0</td>\n",
       "      <td>98.0</td>\n",
       "      <td>1.98</td>\n",
       "      <td>0</td>\n",
       "      <td>2022</td>\n",
       "      <td>51</td>\n",
       "    </tr>\n",
       "    <tr>\n",
       "      <th>891</th>\n",
       "      <td>0</td>\n",
       "      <td>JD Davison</td>\n",
       "      <td>1</td>\n",
       "      <td>2.5</td>\n",
       "      <td>4.3</td>\n",
       "      <td>3.7</td>\n",
       "      <td>1.0</td>\n",
       "      <td>1.1</td>\n",
       "      <td>33.0</td>\n",
       "      <td>0.4</td>\n",
       "      <td>...</td>\n",
       "      <td>72.8</td>\n",
       "      <td>30.1</td>\n",
       "      <td>46.3</td>\n",
       "      <td>1</td>\n",
       "      <td>0</td>\n",
       "      <td>88.0</td>\n",
       "      <td>1.91</td>\n",
       "      <td>0</td>\n",
       "      <td>2022</td>\n",
       "      <td>53</td>\n",
       "    </tr>\n",
       "    <tr>\n",
       "      <th>892</th>\n",
       "      <td>0</td>\n",
       "      <td>Jabari Walker</td>\n",
       "      <td>1</td>\n",
       "      <td>1.7</td>\n",
       "      <td>0.5</td>\n",
       "      <td>3.0</td>\n",
       "      <td>0.5</td>\n",
       "      <td>1.3</td>\n",
       "      <td>26.0</td>\n",
       "      <td>0.5</td>\n",
       "      <td>...</td>\n",
       "      <td>77.8</td>\n",
       "      <td>52.3</td>\n",
       "      <td>52.6</td>\n",
       "      <td>0</td>\n",
       "      <td>1</td>\n",
       "      <td>91.0</td>\n",
       "      <td>2.03</td>\n",
       "      <td>0</td>\n",
       "      <td>2022</td>\n",
       "      <td>57</td>\n",
       "    </tr>\n",
       "  </tbody>\n",
       "</table>\n",
       "<p>893 rows × 22 columns</p>\n",
       "</div>"
      ],
      "text/plain": [
       "     ROTY            PLAYER  ROOKIE  FTA  AST  DREB  STL  OREB    GP  BLK  \\\n",
       "0       0       Kwame Brown       0  1.7  0.8   2.4  0.3   1.1  57.0  0.5   \n",
       "1       0    Tyson Chandler       0  3.1  0.8   3.2  0.4   1.6  71.0  1.3   \n",
       "2       1         Pau Gasol       0  5.8  2.7   6.0  0.5   2.9  82.0  2.1   \n",
       "3       0  Jason Richardson       0  2.6  3.0   2.7  1.3   1.6  80.0  0.4   \n",
       "4       0     Shane Battier       0  3.6  2.8   3.1  1.6   2.3  78.0  1.0   \n",
       "..    ...               ...     ...  ...  ...   ...  ...   ...   ...  ...   \n",
       "888     0     Kendall Brown       1  2.2  1.9   3.1  1.0   1.7  34.0  0.4   \n",
       "889     0     Isaiah Mobley       1  2.3  1.0   3.7  0.6   1.5  31.0  0.6   \n",
       "890     0     Tyrese Martin       1  1.6  1.0   3.3  0.8   1.9  33.0  0.3   \n",
       "891     0        JD Davison       1  2.5  4.3   3.7  1.0   1.1  33.0  0.4   \n",
       "892     0     Jabari Walker       1  1.7  0.5   3.0  0.5   1.3  26.0  0.5   \n",
       "\n",
       "     ...  FTPercent  ThreePPercent  FGPercent  GUARD  FORWARD  WEIGHT  HEIGHT  \\\n",
       "0    ...       70.7            0.0       38.7      0        0   132.0    2.11   \n",
       "1    ...       60.4            0.0       49.7      0        0   107.0    2.13   \n",
       "2    ...       70.9           20.0       51.8      0        1   113.0    2.13   \n",
       "3    ...       67.1           33.3       42.6      1        0   102.0    1.98   \n",
       "4    ...       70.0           37.3       42.9      0        1   100.0    2.03   \n",
       "..   ...        ...            ...        ...    ...      ...     ...     ...   \n",
       "888  ...       68.9           34.1       58.4      1        0    93.0    2.03   \n",
       "889  ...       52.1           28.6       47.4      0        1   108.0    2.03   \n",
       "890  ...       64.8           31.1       41.8      1        0    98.0    1.98   \n",
       "891  ...       72.8           30.1       46.3      1        0    88.0    1.91   \n",
       "892  ...       77.8           52.3       52.6      0        1    91.0    2.03   \n",
       "\n",
       "     CENTER  YEAR  OVERALL PICK  \n",
       "0         1  2001             1  \n",
       "1         1  2001             2  \n",
       "2         1  2001             3  \n",
       "3         0  2001             5  \n",
       "4         0  2001             6  \n",
       "..      ...   ...           ...  \n",
       "888       0  2022            48  \n",
       "889       0  2022            49  \n",
       "890       0  2022            51  \n",
       "891       0  2022            53  \n",
       "892       0  2022            57  \n",
       "\n",
       "[893 rows x 22 columns]"
      ]
     },
     "execution_count": 734,
     "metadata": {},
     "output_type": "execute_result"
    }
   ],
   "source": [
    "dfwof #data without advanced stats"
   ]
  },
  {
   "cell_type": "code",
   "execution_count": 735,
   "id": "cdc87796",
   "metadata": {},
   "outputs": [
    {
     "data": {
      "text/html": [
       "<div>\n",
       "<style scoped>\n",
       "    .dataframe tbody tr th:only-of-type {\n",
       "        vertical-align: middle;\n",
       "    }\n",
       "\n",
       "    .dataframe tbody tr th {\n",
       "        vertical-align: top;\n",
       "    }\n",
       "\n",
       "    .dataframe thead th {\n",
       "        text-align: right;\n",
       "    }\n",
       "</style>\n",
       "<table border=\"1\" class=\"dataframe\">\n",
       "  <thead>\n",
       "    <tr style=\"text-align: right;\">\n",
       "      <th></th>\n",
       "      <th>PLAYER</th>\n",
       "      <th>ROOKIE</th>\n",
       "      <th>ROTY</th>\n",
       "      <th>FTM</th>\n",
       "      <th>AST</th>\n",
       "      <th>STL</th>\n",
       "      <th>OREB</th>\n",
       "      <th>GP</th>\n",
       "      <th>BLK</th>\n",
       "      <th>PF</th>\n",
       "      <th>...</th>\n",
       "      <th>ThreePPercent</th>\n",
       "      <th>GUARD</th>\n",
       "      <th>FORWARD</th>\n",
       "      <th>WEIGHT</th>\n",
       "      <th>HEIGHT</th>\n",
       "      <th>CENTER</th>\n",
       "      <th>YEAR</th>\n",
       "      <th>OVERALL PICK</th>\n",
       "      <th>FTRate</th>\n",
       "      <th>TSPercent</th>\n",
       "    </tr>\n",
       "  </thead>\n",
       "  <tbody>\n",
       "    <tr>\n",
       "      <th>0</th>\n",
       "      <td>Kwame Brown</td>\n",
       "      <td>0</td>\n",
       "      <td>0</td>\n",
       "      <td>1.2</td>\n",
       "      <td>0.8</td>\n",
       "      <td>0.3</td>\n",
       "      <td>1.1</td>\n",
       "      <td>57.0</td>\n",
       "      <td>0.5</td>\n",
       "      <td>1.8</td>\n",
       "      <td>...</td>\n",
       "      <td>0.0</td>\n",
       "      <td>0</td>\n",
       "      <td>0</td>\n",
       "      <td>132.0</td>\n",
       "      <td>2.11</td>\n",
       "      <td>1</td>\n",
       "      <td>2001</td>\n",
       "      <td>1</td>\n",
       "      <td>0.395349</td>\n",
       "      <td>0.440529</td>\n",
       "    </tr>\n",
       "    <tr>\n",
       "      <th>1</th>\n",
       "      <td>Tyson Chandler</td>\n",
       "      <td>0</td>\n",
       "      <td>0</td>\n",
       "      <td>1.9</td>\n",
       "      <td>0.8</td>\n",
       "      <td>0.4</td>\n",
       "      <td>1.6</td>\n",
       "      <td>71.0</td>\n",
       "      <td>1.3</td>\n",
       "      <td>2.5</td>\n",
       "      <td>...</td>\n",
       "      <td>0.0</td>\n",
       "      <td>0</td>\n",
       "      <td>0</td>\n",
       "      <td>107.0</td>\n",
       "      <td>2.13</td>\n",
       "      <td>1</td>\n",
       "      <td>2001</td>\n",
       "      <td>2</td>\n",
       "      <td>0.720930</td>\n",
       "      <td>0.528367</td>\n",
       "    </tr>\n",
       "    <tr>\n",
       "      <th>2</th>\n",
       "      <td>Pau Gasol</td>\n",
       "      <td>0</td>\n",
       "      <td>1</td>\n",
       "      <td>4.1</td>\n",
       "      <td>2.7</td>\n",
       "      <td>0.5</td>\n",
       "      <td>2.9</td>\n",
       "      <td>82.0</td>\n",
       "      <td>2.1</td>\n",
       "      <td>2.4</td>\n",
       "      <td>...</td>\n",
       "      <td>20.0</td>\n",
       "      <td>0</td>\n",
       "      <td>1</td>\n",
       "      <td>113.0</td>\n",
       "      <td>2.13</td>\n",
       "      <td>1</td>\n",
       "      <td>2001</td>\n",
       "      <td>3</td>\n",
       "      <td>0.446154</td>\n",
       "      <td>0.558553</td>\n",
       "    </tr>\n",
       "    <tr>\n",
       "      <th>3</th>\n",
       "      <td>Jason Richardson</td>\n",
       "      <td>0</td>\n",
       "      <td>0</td>\n",
       "      <td>1.8</td>\n",
       "      <td>3.0</td>\n",
       "      <td>1.3</td>\n",
       "      <td>1.6</td>\n",
       "      <td>80.0</td>\n",
       "      <td>0.4</td>\n",
       "      <td>2.4</td>\n",
       "      <td>...</td>\n",
       "      <td>33.3</td>\n",
       "      <td>1</td>\n",
       "      <td>0</td>\n",
       "      <td>102.0</td>\n",
       "      <td>1.98</td>\n",
       "      <td>0</td>\n",
       "      <td>2001</td>\n",
       "      <td>5</td>\n",
       "      <td>0.191176</td>\n",
       "      <td>0.485339</td>\n",
       "    </tr>\n",
       "    <tr>\n",
       "      <th>4</th>\n",
       "      <td>Shane Battier</td>\n",
       "      <td>0</td>\n",
       "      <td>0</td>\n",
       "      <td>2.5</td>\n",
       "      <td>2.8</td>\n",
       "      <td>1.6</td>\n",
       "      <td>2.3</td>\n",
       "      <td>78.0</td>\n",
       "      <td>1.0</td>\n",
       "      <td>2.8</td>\n",
       "      <td>...</td>\n",
       "      <td>37.3</td>\n",
       "      <td>0</td>\n",
       "      <td>1</td>\n",
       "      <td>100.0</td>\n",
       "      <td>2.03</td>\n",
       "      <td>0</td>\n",
       "      <td>2001</td>\n",
       "      <td>6</td>\n",
       "      <td>0.292683</td>\n",
       "      <td>0.513919</td>\n",
       "    </tr>\n",
       "    <tr>\n",
       "      <th>...</th>\n",
       "      <td>...</td>\n",
       "      <td>...</td>\n",
       "      <td>...</td>\n",
       "      <td>...</td>\n",
       "      <td>...</td>\n",
       "      <td>...</td>\n",
       "      <td>...</td>\n",
       "      <td>...</td>\n",
       "      <td>...</td>\n",
       "      <td>...</td>\n",
       "      <td>...</td>\n",
       "      <td>...</td>\n",
       "      <td>...</td>\n",
       "      <td>...</td>\n",
       "      <td>...</td>\n",
       "      <td>...</td>\n",
       "      <td>...</td>\n",
       "      <td>...</td>\n",
       "      <td>...</td>\n",
       "      <td>...</td>\n",
       "      <td>...</td>\n",
       "    </tr>\n",
       "    <tr>\n",
       "      <th>888</th>\n",
       "      <td>Kendall Brown</td>\n",
       "      <td>1</td>\n",
       "      <td>0</td>\n",
       "      <td>1.5</td>\n",
       "      <td>1.9</td>\n",
       "      <td>1.0</td>\n",
       "      <td>1.7</td>\n",
       "      <td>34.0</td>\n",
       "      <td>0.4</td>\n",
       "      <td>2.3</td>\n",
       "      <td>...</td>\n",
       "      <td>34.1</td>\n",
       "      <td>1</td>\n",
       "      <td>0</td>\n",
       "      <td>93.0</td>\n",
       "      <td>2.03</td>\n",
       "      <td>0</td>\n",
       "      <td>2022</td>\n",
       "      <td>48</td>\n",
       "      <td>0.333333</td>\n",
       "      <td>0.634402</td>\n",
       "    </tr>\n",
       "    <tr>\n",
       "      <th>889</th>\n",
       "      <td>Isaiah Mobley</td>\n",
       "      <td>1</td>\n",
       "      <td>0</td>\n",
       "      <td>1.2</td>\n",
       "      <td>1.0</td>\n",
       "      <td>0.6</td>\n",
       "      <td>1.5</td>\n",
       "      <td>31.0</td>\n",
       "      <td>0.6</td>\n",
       "      <td>2.2</td>\n",
       "      <td>...</td>\n",
       "      <td>28.6</td>\n",
       "      <td>0</td>\n",
       "      <td>1</td>\n",
       "      <td>108.0</td>\n",
       "      <td>2.03</td>\n",
       "      <td>0</td>\n",
       "      <td>2022</td>\n",
       "      <td>49</td>\n",
       "      <td>0.460000</td>\n",
       "      <td>0.508822</td>\n",
       "    </tr>\n",
       "    <tr>\n",
       "      <th>890</th>\n",
       "      <td>Tyrese Martin</td>\n",
       "      <td>1</td>\n",
       "      <td>0</td>\n",
       "      <td>1.1</td>\n",
       "      <td>1.0</td>\n",
       "      <td>0.8</td>\n",
       "      <td>1.9</td>\n",
       "      <td>33.0</td>\n",
       "      <td>0.3</td>\n",
       "      <td>2.1</td>\n",
       "      <td>...</td>\n",
       "      <td>31.1</td>\n",
       "      <td>1</td>\n",
       "      <td>0</td>\n",
       "      <td>98.0</td>\n",
       "      <td>1.98</td>\n",
       "      <td>0</td>\n",
       "      <td>2022</td>\n",
       "      <td>51</td>\n",
       "      <td>0.222222</td>\n",
       "      <td>0.508794</td>\n",
       "    </tr>\n",
       "    <tr>\n",
       "      <th>891</th>\n",
       "      <td>JD Davison</td>\n",
       "      <td>1</td>\n",
       "      <td>0</td>\n",
       "      <td>1.8</td>\n",
       "      <td>4.3</td>\n",
       "      <td>1.0</td>\n",
       "      <td>1.1</td>\n",
       "      <td>33.0</td>\n",
       "      <td>0.4</td>\n",
       "      <td>1.2</td>\n",
       "      <td>...</td>\n",
       "      <td>30.1</td>\n",
       "      <td>1</td>\n",
       "      <td>0</td>\n",
       "      <td>88.0</td>\n",
       "      <td>1.91</td>\n",
       "      <td>0</td>\n",
       "      <td>2022</td>\n",
       "      <td>53</td>\n",
       "      <td>0.384615</td>\n",
       "      <td>0.552846</td>\n",
       "    </tr>\n",
       "    <tr>\n",
       "      <th>892</th>\n",
       "      <td>Jabari Walker</td>\n",
       "      <td>1</td>\n",
       "      <td>0</td>\n",
       "      <td>1.3</td>\n",
       "      <td>0.5</td>\n",
       "      <td>0.5</td>\n",
       "      <td>1.3</td>\n",
       "      <td>26.0</td>\n",
       "      <td>0.5</td>\n",
       "      <td>2.1</td>\n",
       "      <td>...</td>\n",
       "      <td>52.3</td>\n",
       "      <td>0</td>\n",
       "      <td>1</td>\n",
       "      <td>91.0</td>\n",
       "      <td>2.03</td>\n",
       "      <td>0</td>\n",
       "      <td>2022</td>\n",
       "      <td>57</td>\n",
       "      <td>0.333333</td>\n",
       "      <td>0.643250</td>\n",
       "    </tr>\n",
       "  </tbody>\n",
       "</table>\n",
       "<p>893 rows × 22 columns</p>\n",
       "</div>"
      ],
      "text/plain": [
       "               PLAYER  ROOKIE  ROTY  FTM  AST  STL  OREB    GP  BLK   PF  ...  \\\n",
       "0         Kwame Brown       0     0  1.2  0.8  0.3   1.1  57.0  0.5  1.8  ...   \n",
       "1      Tyson Chandler       0     0  1.9  0.8  0.4   1.6  71.0  1.3  2.5  ...   \n",
       "2           Pau Gasol       0     1  4.1  2.7  0.5   2.9  82.0  2.1  2.4  ...   \n",
       "3    Jason Richardson       0     0  1.8  3.0  1.3   1.6  80.0  0.4  2.4  ...   \n",
       "4       Shane Battier       0     0  2.5  2.8  1.6   2.3  78.0  1.0  2.8  ...   \n",
       "..                ...     ...   ...  ...  ...  ...   ...   ...  ...  ...  ...   \n",
       "888     Kendall Brown       1     0  1.5  1.9  1.0   1.7  34.0  0.4  2.3  ...   \n",
       "889     Isaiah Mobley       1     0  1.2  1.0  0.6   1.5  31.0  0.6  2.2  ...   \n",
       "890     Tyrese Martin       1     0  1.1  1.0  0.8   1.9  33.0  0.3  2.1  ...   \n",
       "891        JD Davison       1     0  1.8  4.3  1.0   1.1  33.0  0.4  1.2  ...   \n",
       "892     Jabari Walker       1     0  1.3  0.5  0.5   1.3  26.0  0.5  2.1  ...   \n",
       "\n",
       "     ThreePPercent  GUARD  FORWARD  WEIGHT  HEIGHT  CENTER  YEAR  \\\n",
       "0              0.0      0        0   132.0    2.11       1  2001   \n",
       "1              0.0      0        0   107.0    2.13       1  2001   \n",
       "2             20.0      0        1   113.0    2.13       1  2001   \n",
       "3             33.3      1        0   102.0    1.98       0  2001   \n",
       "4             37.3      0        1   100.0    2.03       0  2001   \n",
       "..             ...    ...      ...     ...     ...     ...   ...   \n",
       "888           34.1      1        0    93.0    2.03       0  2022   \n",
       "889           28.6      0        1   108.0    2.03       0  2022   \n",
       "890           31.1      1        0    98.0    1.98       0  2022   \n",
       "891           30.1      1        0    88.0    1.91       0  2022   \n",
       "892           52.3      0        1    91.0    2.03       0  2022   \n",
       "\n",
       "     OVERALL PICK    FTRate  TSPercent  \n",
       "0               1  0.395349   0.440529  \n",
       "1               2  0.720930   0.528367  \n",
       "2               3  0.446154   0.558553  \n",
       "3               5  0.191176   0.485339  \n",
       "4               6  0.292683   0.513919  \n",
       "..            ...       ...        ...  \n",
       "888            48  0.333333   0.634402  \n",
       "889            49  0.460000   0.508822  \n",
       "890            51  0.222222   0.508794  \n",
       "891            53  0.384615   0.552846  \n",
       "892            57  0.333333   0.643250  \n",
       "\n",
       "[893 rows x 22 columns]"
      ]
     },
     "execution_count": 735,
     "metadata": {},
     "output_type": "execute_result"
    }
   ],
   "source": [
    "dfwfeatures #data with advanced stats"
   ]
  },
  {
   "cell_type": "code",
   "execution_count": 736,
   "id": "a9d6cbec",
   "metadata": {},
   "outputs": [],
   "source": [
    "df_past1 = dfwof[dfwof['ROOKIE'] == 0]\n",
    "df_past1_quant = df_past1.select_dtypes(include=np.number).drop(\"ROOKIE\", axis=1)\n",
    "\n",
    "#creates 2 df for past drafts based on the df with and without advanced stats\n",
    "\n",
    "df_past2 = dfwfeatures[dfwfeatures['ROOKIE'] == 0]\n",
    "df_past2_quant = df_past2.select_dtypes(include=np.number).drop(\"ROOKIE\", axis=1)"
   ]
  },
  {
   "cell_type": "code",
   "execution_count": 738,
   "id": "484659be",
   "metadata": {},
   "outputs": [],
   "source": [
    "X1 = df_past1_quant.drop(\"ROTY\", axis=1)\n",
    "y1 = df_past1_quant[\"ROTY\"]\n",
    "\n",
    "#creates diff X and Y for both df for train and val sets\n",
    "\n",
    "X2 = df_past2_quant.drop(\"ROTY\", axis=1)\n",
    "y2 = df_past2_quant[\"ROTY\"]"
   ]
  },
  {
   "cell_type": "code",
   "execution_count": 739,
   "id": "6a9c37d1",
   "metadata": {},
   "outputs": [
    {
     "name": "stdout",
     "output_type": "stream",
     "text": [
      "Train (570, 19) (570,)\n",
      "Test (282, 19) (282,)\n",
      "Train (570, 19) (570,)\n",
      "Test (282, 19) (282,)\n"
     ]
    }
   ],
   "source": [
    "X_train1, X_test1, y_train1, y_test1 = train_test_split(X1, y1, test_size=0.33, random_state=1)\n",
    "print('Train', X_train1.shape, y_train1.shape)\n",
    "print('Test', X_test1.shape, y_test1.shape)\n",
    "\n",
    "#splits into train and test subsets\n",
    "\n",
    "X_train2, X_test2, y_train2, y_test2 = train_test_split(X2, y2, test_size=0.33, random_state=1)\n",
    "print('Train', X_train2.shape, y_train2.shape)\n",
    "print('Test', X_test2.shape, y_test2.shape)"
   ]
  },
  {
   "cell_type": "code",
   "execution_count": 740,
   "id": "95cd31f3",
   "metadata": {},
   "outputs": [],
   "source": [
    "fs1 = SelectKBest(score_func=chi2, k='all')\n",
    "fs1.fit(X_train1, y_train1)\n",
    "X_train1_fs = fs1.transform(X_train1)\n",
    "X_test1_fs = fs1.transform(X_test1)\n",
    "\n",
    "#seeing what features are best for both datasets\n",
    "\n",
    "fs2 = SelectKBest(score_func=chi2, k='all')\n",
    "fs2.fit(X_train2, y_train2)\n",
    "X_train2_fs = fs2.transform(X_train2)\n",
    "X_test2_fs = fs2.transform(X_test2)"
   ]
  },
  {
   "cell_type": "code",
   "execution_count": 741,
   "id": "257c3f03",
   "metadata": {
    "scrolled": true
   },
   "outputs": [
    {
     "name": "stdout",
     "output_type": "stream",
     "text": [
      "Feature 0: 66.839889\n",
      "Feature 1: 79.975041\n",
      "Feature 2: 31.544334\n",
      "Feature 3: 6.157448\n",
      "Feature 4: 8.869295\n",
      "Feature 5: 108.126998\n",
      "Feature 6: 4.920119\n",
      "Feature 7: 2.595440\n",
      "Feature 8: 6.421940\n",
      "Feature 9: 10.578779\n",
      "Feature 10: 1.577823\n",
      "Feature 11: 0.016023\n",
      "Feature 12: 0.132966\n",
      "Feature 13: 0.010501\n",
      "Feature 14: 0.005531\n",
      "Feature 15: 0.000241\n",
      "Feature 16: 0.288141\n",
      "Feature 17: 0.002061\n",
      "Feature 18: 146.389624\n",
      "Feature 0: 54.807464\n",
      "Feature 1: 79.975041\n",
      "Feature 2: 6.157448\n",
      "Feature 3: 8.869295\n",
      "Feature 4: 108.126998\n",
      "Feature 5: 4.920119\n",
      "Feature 6: 2.595440\n",
      "Feature 7: 16.514675\n",
      "Feature 8: 10.578779\n",
      "Feature 9: 1.577823\n",
      "Feature 10: 0.132966\n",
      "Feature 11: 0.010501\n",
      "Feature 12: 0.005531\n",
      "Feature 13: 0.000241\n",
      "Feature 14: 0.288141\n",
      "Feature 15: 0.002061\n",
      "Feature 16: 146.389624\n",
      "Feature 17: 0.204322\n",
      "Feature 18: 0.005034\n"
     ]
    }
   ],
   "source": [
    "for i in range(len(fs1.scores_)):\n",
    "    print('Feature %d: %f' % (i, fs1.scores_[i]))\n",
    "\n",
    "fs1_dict = {\"Features\":df_past1_quant.drop(\"ROTY\", axis=1).columns, \"Feature Score\" : fs1.scores_}\n",
    "fs1_df = pd.DataFrame(data=fs1_dict).sort_values(by='Feature Score', ascending=False)\n",
    "\n",
    "for i in range(len(fs2.scores_)):\n",
    "    print('Feature %d: %f' % (i, fs2.scores_[i]))\n",
    "\n",
    "fs2_dict = {\"Features\":df_past2_quant.drop(\"ROTY\", axis=1).columns, \"Feature Score\" : fs2.scores_}\n",
    "fs2_df = pd.DataFrame(data=fs2_dict).sort_values(by='Feature Score', ascending=False)"
   ]
  },
  {
   "cell_type": "code",
   "execution_count": 742,
   "id": "a40fa24f",
   "metadata": {},
   "outputs": [
    {
     "data": {
      "image/png": "[encoded data removed]",
      "text/plain": [
       "<Figure size 1152x432 with 1 Axes>"
      ]
     },
     "metadata": {},
     "output_type": "display_data"
    }
   ],
   "source": [
    "plt.figure(figsize=(16, 6))\n",
    "bar = sns.barplot(x=\"Features\", y=\"Feature Score\", data=fs1_df)\n",
    "plt.xticks(rotation = 90)\n",
    "plt.show()"
   ]
  },
  {
   "cell_type": "code",
   "execution_count": 743,
   "id": "bc8d6765",
   "metadata": {},
   "outputs": [
    {
     "data": {
      "image/png": "[encoded data removed]",
      "text/plain": [
       "<Figure size 1152x432 with 1 Axes>"
      ]
     },
     "metadata": {},
     "output_type": "display_data"
    }
   ],
   "source": [
    "plt.figure(figsize=(16, 6))\n",
    "bar = sns.barplot(x=\"Features\", y=\"Feature Score\", data=fs2_df)\n",
    "plt.xticks(rotation = 90)\n",
    "plt.show()"
   ]
  },
  {
   "cell_type": "code",
   "execution_count": 744,
   "id": "c87ad07e",
   "metadata": {},
   "outputs": [],
   "source": [
    "def select_features(X_train, y_train, X_test):\n",
    "\tfs = SelectKBest(score_func=chi2, k=10)\n",
    "\tfs.fit(X_train, y_train)\n",
    "\tX_train_fs = fs.transform(X_train)\n",
    "\tX_test_fs = fs.transform(X_test)\n",
    "\treturn X_train_fs, X_test_fs"
   ]
  },
  {
   "cell_type": "code",
   "execution_count": 745,
   "id": "46ac0fea",
   "metadata": {},
   "outputs": [
    {
     "data": {
      "text/plain": [
       "LogisticRegression(max_iter=1000)"
      ]
     },
     "execution_count": 745,
     "metadata": {},
     "output_type": "execute_result"
    }
   ],
   "source": [
    "X_train1_fs, X_test1_fs = select_features(X_train1, y_train1, X_test1)\n",
    "model1 = LogisticRegression(solver='lbfgs', max_iter=1000)\n",
    "model1.fit(X_train1_fs, y_train1)"
   ]
  },
  {
   "cell_type": "code",
   "execution_count": 746,
   "id": "92a90a66",
   "metadata": {},
   "outputs": [],
   "source": [
    "y_hat1 = model1.predict(X_test1_fs)\n",
    "chi_score1 = accuracy_score(y_test1, y_hat1)"
   ]
  },
  {
   "cell_type": "code",
   "execution_count": 747,
   "id": "0b844f2c",
   "metadata": {},
   "outputs": [
    {
     "data": {
      "text/plain": [
       "XGBClassifier(base_score=0.5, booster='gbtree', colsample_bylevel=1,\n",
       "              colsample_bynode=1, colsample_bytree=1, enable_categorical=False,\n",
       "              eval_metric='mlogloss', gamma=0, gpu_id=-1, importance_type=None,\n",
       "              interaction_constraints='', learning_rate=0.300000012,\n",
       "              max_delta_step=0, max_depth=6, min_child_weight=1, missing=nan,\n",
       "              monotone_constraints='()', n_estimators=100, n_jobs=16,\n",
       "              num_parallel_tree=1, predictor='auto', random_state=0,\n",
       "              reg_alpha=0, reg_lambda=1, scale_pos_weight=1, subsample=1,\n",
       "              tree_method='exact', use_label_encoder=False,\n",
       "              validate_parameters=1, verbosity=None)"
      ]
     },
     "execution_count": 747,
     "metadata": {},
     "output_type": "execute_result"
    }
   ],
   "source": [
    "model2 = XGBClassifier(use_label_encoder=False, eval_metric='mlogloss', random_state = 1)\n",
    "model2.fit(X_train1, y_train1)"
   ]
  },
  {
   "cell_type": "code",
   "execution_count": 748,
   "id": "384ad8d8",
   "metadata": {},
   "outputs": [],
   "source": [
    "y_hat2 = model2.predict(X_test1)\n",
    "xgb_score1 = accuracy_score(y_test1, y_hat2)"
   ]
  },
  {
   "cell_type": "code",
   "execution_count": 749,
   "id": "014299eb",
   "metadata": {},
   "outputs": [
    {
     "data": {
      "text/plain": [
       "RandomForestClassifier(n_estimators=1000)"
      ]
     },
     "execution_count": 749,
     "metadata": {},
     "output_type": "execute_result"
    }
   ],
   "source": [
    "model3 = RandomForestClassifier(n_estimators=1000, random_state = 1)\n",
    "model3.fit(X_train1, y_train1)"
   ]
  },
  {
   "cell_type": "code",
   "execution_count": 750,
   "id": "807c09e3",
   "metadata": {},
   "outputs": [],
   "source": [
    "y_hat3 = model3.predict(X_test1)\n",
    "rfr_score1 = accuracy_score(y_test1, y_hat3)"
   ]
  },
  {
   "cell_type": "code",
   "execution_count": 751,
   "id": "9708fd00",
   "metadata": {},
   "outputs": [
    {
     "data": {
      "text/plain": [
       "LogisticRegression(max_iter=1000)"
      ]
     },
     "execution_count": 751,
     "metadata": {},
     "output_type": "execute_result"
    }
   ],
   "source": [
    "X_train2_fs, X_test2_fs = select_features(X_train2, y_train2, X_test2)\n",
    "model4 = LogisticRegression(solver='lbfgs', max_iter=1000)\n",
    "model4.fit(X_train2_fs, y_train2)"
   ]
  },
  {
   "cell_type": "code",
   "execution_count": 752,
   "id": "5827537b",
   "metadata": {},
   "outputs": [],
   "source": [
    "y_hat4 = model4.predict(X_test2_fs)\n",
    "chi_score2 = accuracy_score(y_test2, y_hat4)"
   ]
  },
  {
   "cell_type": "code",
   "execution_count": 753,
   "id": "f8a5ade0",
   "metadata": {},
   "outputs": [
    {
     "data": {
      "text/plain": [
       "XGBClassifier(base_score=0.5, booster='gbtree', colsample_bylevel=1,\n",
       "              colsample_bynode=1, colsample_bytree=1, enable_categorical=False,\n",
       "              eval_metric='mlogloss', gamma=0, gpu_id=-1, importance_type=None,\n",
       "              interaction_constraints='', learning_rate=0.300000012,\n",
       "              max_delta_step=0, max_depth=6, min_child_weight=1, missing=nan,\n",
       "              monotone_constraints='()', n_estimators=100, n_jobs=16,\n",
       "              num_parallel_tree=1, predictor='auto', random_state=0,\n",
       "              reg_alpha=0, reg_lambda=1, scale_pos_weight=1, subsample=1,\n",
       "              tree_method='exact', use_label_encoder=False,\n",
       "              validate_parameters=1, verbosity=None)"
      ]
     },
     "execution_count": 753,
     "metadata": {},
     "output_type": "execute_result"
    }
   ],
   "source": [
    "model5 = XGBClassifier(use_label_encoder=False, eval_metric='mlogloss', random_state = 1)\n",
    "model5.fit(X_train2, y_train2)"
   ]
  },
  {
   "cell_type": "code",
   "execution_count": 754,
   "id": "160f4189",
   "metadata": {},
   "outputs": [],
   "source": [
    "y_hat5 = model5.predict(X_test2)\n",
    "xgb_score2 = accuracy_score(y_test2, y_hat5)"
   ]
  },
  {
   "cell_type": "code",
   "execution_count": 755,
   "id": "a7a35381",
   "metadata": {},
   "outputs": [
    {
     "data": {
      "text/plain": [
       "RandomForestClassifier(n_estimators=1000)"
      ]
     },
     "execution_count": 755,
     "metadata": {},
     "output_type": "execute_result"
    }
   ],
   "source": [
    "model6 = RandomForestClassifier(n_estimators=1000, random_state = 1)\n",
    "model6.fit(X_train2, y_train2)"
   ]
  },
  {
   "cell_type": "code",
   "execution_count": 756,
   "id": "2593ec7c",
   "metadata": {},
   "outputs": [],
   "source": [
    "y_hat6 = model6.predict(X_test2)\n",
    "rfr_score2 = accuracy_score(y_test2, y_hat6)"
   ]
  },
  {
   "cell_type": "code",
   "execution_count": 757,
   "id": "3c8f2acd",
   "metadata": {},
   "outputs": [
    {
     "name": "stdout",
     "output_type": "stream",
     "text": [
      "Chi2 score1:  0.9787234042553191\n",
      "XGB score1:  0.9716312056737588\n",
      "rfr_score1:  0.9716312056737588\n",
      "Chi2 score2:  0.9858156028368794\n",
      "XGB score2:  0.9716312056737588\n",
      "rfr_score2:  0.975177304964539\n"
     ]
    }
   ],
   "source": [
    "print(\"Chi2 score1: \", chi_score1) #checking scores for 6 models, 3 diff strategies with two training sets each\n",
    "print(\"XGB score1: \", xgb_score1)\n",
    "print(\"rfr_score1: \", rfr_score1)\n",
    "print(\"Chi2 score2: \", chi_score2) #The chi2 model with features is the best model\n",
    "print(\"XGB score2: \", xgb_score2)\n",
    "print(\"rfr_score2: \", rfr_score2)"
   ]
  },
  {
   "cell_type": "code",
   "execution_count": 758,
   "id": "1e6f81bb",
   "metadata": {},
   "outputs": [],
   "source": [
    "y_hats  = pd.DataFrame(data=y_hat4, index=X_test2.index.copy(), columns=[\"PRED ROTY\"])"
   ]
  },
  {
   "cell_type": "code",
   "execution_count": 759,
   "id": "fef267e0",
   "metadata": {},
   "outputs": [],
   "source": [
    "y_apd = pd.merge(y_test2, y_hats, right_index=True, left_index=True)"
   ]
  },
  {
   "cell_type": "code",
   "execution_count": 760,
   "id": "5399121d",
   "metadata": {},
   "outputs": [
    {
     "name": "stdout",
     "output_type": "stream",
     "text": [
      "correct:  4 ['Blake Griffin', 'Ja Morant', 'Chris Paul', 'LeBron James']\n",
      "wrong:  0 []\n",
      "missed:  4 ['Karl-Anthony Towns', 'Brandon Roy', 'Derrick Rose', \"Amar'e Stoudemire\"]\n"
     ]
    }
   ],
   "source": [
    "correct = 0\n",
    "wrong = 0\n",
    "missed = 0\n",
    "clst = []\n",
    "wlst = []\n",
    "mlst = []\n",
    "for index, row in y_apd.iterrows(): #checking to see what I got correct vs what was missed or wrong\n",
    "    if row['ROTY'] == 1 and row['PRED ROTY'] == 1:\n",
    "        correct += 1\n",
    "        clst += [df_past.loc[index, \"PLAYER\"]]\n",
    "    elif row['ROTY'] == 0 and row['PRED ROTY'] == 1:\n",
    "        wrong += 1\n",
    "        wlst += [df_past.loc[index, \"PLAYER\"]]\n",
    "    elif row['ROTY'] == 1 and row['PRED ROTY'] == 0:\n",
    "        missed += 1\n",
    "        mlst += [df_past.loc[index, \"PLAYER\"]]\n",
    "\n",
    "print(\"correct: \", correct, clst)\n",
    "print(\"wrong: \", wrong, wlst)\n",
    "print(\"missed: \", missed, mlst)"
   ]
  },
  {
   "cell_type": "code",
   "execution_count": 761,
   "id": "353d8e82",
   "metadata": {},
   "outputs": [],
   "source": [
    "weights = np.linspace(0.0,0.99,200) #Range for class weights\n",
    "param_grid = {'class_weight': [{0:x, 1:1.0-x} for x in weights]} \n",
    "#Dictionary for grid search"
   ]
  },
  {
   "cell_type": "code",
   "execution_count": 762,
   "id": "ece61deb",
   "metadata": {},
   "outputs": [
    {
     "name": "stdout",
     "output_type": "stream",
     "text": [
      "Fitting 5 folds for each of 200 candidates, totalling 1000 fits\n"
     ]
    }
   ],
   "source": [
    "gridsearch = GridSearchCV(estimator= model4, #checking optimal class weights due to uneven distribution of data\n",
    "                          param_grid= param_grid,\n",
    "                          cv=StratifiedKFold(), \n",
    "                          n_jobs=-1, \n",
    "                          scoring=\"f1\", \n",
    "                          verbose=2).fit(X_train, y_train)"
   ]
  },
  {
   "cell_type": "code",
   "execution_count": 763,
   "id": "6d850bd6",
   "metadata": {},
   "outputs": [
    {
     "name": "stderr",
     "output_type": "stream",
     "text": [
      "C:\\Users\\asimp\\anaconda3\\lib\\site-packages\\seaborn\\_decorators.py:36: FutureWarning: Pass the following variables as keyword args: x, y. From version 0.12, the only valid positional argument will be `data`, and passing other arguments without an explicit keyword will result in an error or misinterpretation.\n",
      "  warnings.warn(\n"
     ]
    },
    {
     "data": {
      "text/plain": [
       "Text(0.5, 1.0, 'Scoring for different class weights')"
      ]
     },
     "execution_count": 763,
     "metadata": {},
     "output_type": "execute_result"
    },
    {
     "data": {
      "image/png": "[encoded data removed]",
      "text/plain": [
       "<Figure size 864x576 with 1 Axes>"
      ]
     },
     "metadata": {},
     "output_type": "display_data"
    }
   ],
   "source": [
    "#Ploting the score for different values of weight\n",
    "sns.set_style('whitegrid')\n",
    "plt.figure(figsize=(12,8))\n",
    "weigh_data = pd.DataFrame({ 'score': gridsearch.cv_results_['mean_test_score'], 'weight': (1- weights)})\n",
    "sns.lineplot(weigh_data['weight'], weigh_data['score'])\n",
    "plt.xlabel('Weight for class 1')\n",
    "plt.ylabel('F1 score')\n",
    "plt.xticks([round(i/10,1) for i in range(0,11,1)])\n",
    "plt.title('Scoring for different class weights', fontsize=24)"
   ]
  },
  {
   "cell_type": "code",
   "execution_count": 764,
   "id": "dc1598fa",
   "metadata": {},
   "outputs": [
    {
     "data": {
      "text/plain": [
       "LogisticRegression(class_weight={0: 0.10447236180904523, 1: 0.8955276381909547},\n",
       "                   max_iter=1000)"
      ]
     },
     "execution_count": 764,
     "metadata": {},
     "output_type": "execute_result"
    }
   ],
   "source": [
    "gridsearch.best_estimator_"
   ]
  },
  {
   "cell_type": "code",
   "execution_count": 766,
   "id": "98664c6e",
   "metadata": {},
   "outputs": [
    {
     "data": {
      "text/plain": [
       "LogisticRegression(class_weight={0: 0.10447236180904523, 1: 0.8955276381909547},\n",
       "                   max_iter=1000)"
      ]
     },
     "execution_count": 766,
     "metadata": {},
     "output_type": "execute_result"
    }
   ],
   "source": [
    "model4v1 = LogisticRegression(solver='lbfgs', max_iter=1000, class_weight={0: 0.10447236180904523, 1: 0.8955276381909547})\n",
    "model4v1.fit(X_train2_fs, y_train2)"
   ]
  },
  {
   "cell_type": "code",
   "execution_count": 769,
   "id": "9719d69f",
   "metadata": {},
   "outputs": [],
   "source": [
    "y_hat4v1 = model4v1.predict(X_test2_fs)"
   ]
  },
  {
   "cell_type": "code",
   "execution_count": 770,
   "id": "333bc13e",
   "metadata": {},
   "outputs": [
    {
     "data": {
      "text/plain": [
       "0.9787234042553191"
      ]
     },
     "execution_count": 770,
     "metadata": {},
     "output_type": "execute_result"
    }
   ],
   "source": [
    "chi_score2v1 = accuracy_score(y_test2, y_hat4v1)\n",
    "chi_score2v1 #class weights negatively effects score"
   ]
  },
  {
   "cell_type": "code",
   "execution_count": 771,
   "id": "c369faf7",
   "metadata": {},
   "outputs": [
    {
     "name": "stdout",
     "output_type": "stream",
     "text": [
      "Best Threshold=0.195734, F-Score=0.750\n"
     ]
    },
    {
     "data": {
      "image/png": "[encoded data removed]",
      "text/plain": [
       "<Figure size 432x288 with 1 Axes>"
      ]
     },
     "metadata": {},
     "output_type": "display_data"
    }
   ],
   "source": [
    "yv1_prob = model4.predict_proba(X_test2_fs) #predicts probabilities for y_test\n",
    "yv1_prob = yv1_prob[:, 1] #selects only ROTY's\n",
    "\n",
    "precision, recall, thresholds = precision_recall_curve(y_test2, yv1_prob) #probability threshold for selecting a \n",
    "                                                                          #prediction as 1\n",
    "\n",
    "fscore = (2 * precision * recall) / (precision + recall)\n",
    "\n",
    "ix = argmax(fscore) # locate the index of the largest f score\n",
    "print('Best Threshold=%f, F-Score=%.3f' % (thresholds[ix], fscore[ix]))\n",
    "\n",
    "no_skill = len(y_test2[y_test2==1]) / len(y_test2)\n",
    "plt.plot([0,1], [no_skill,no_skill], linestyle='--', label='No Skill')\n",
    "plt.plot(recall, precision, marker='.', label='Logistic')\n",
    "plt.scatter(recall[ix], precision[ix], marker='o', color='black', label='Best')\n",
    "plt.xlabel('Recall')\n",
    "plt.ylabel('Precision')\n",
    "plt.legend()\n",
    "\n",
    "plt.show()"
   ]
  },
  {
   "cell_type": "code",
   "execution_count": 775,
   "id": "fb87a880",
   "metadata": {},
   "outputs": [
    {
     "data": {
      "text/plain": [
       "LogisticRegression(max_iter=1000)"
      ]
     },
     "execution_count": 775,
     "metadata": {},
     "output_type": "execute_result"
    }
   ],
   "source": [
    "X_train2_fs, X_test2_fs = select_features(X_train2, y_train2, X_test2)\n",
    "model4v2 = LogisticRegression(solver='lbfgs', max_iter=1000)\n",
    "model4v2.fit(X_train2_fs, y_train2)"
   ]
  },
  {
   "cell_type": "code",
   "execution_count": 776,
   "id": "e84fc1cd",
   "metadata": {},
   "outputs": [],
   "source": [
    "THRESHOLD = 0.195734\n",
    "y_hatv2 = np.where(model4v2.predict_proba(X_test2_fs)[:,1] > THRESHOLD, 1, 0)"
   ]
  },
  {
   "cell_type": "code",
   "execution_count": 777,
   "id": "c85a5ceb",
   "metadata": {},
   "outputs": [
    {
     "data": {
      "text/plain": [
       "0.9822695035460993"
      ]
     },
     "execution_count": 777,
     "metadata": {},
     "output_type": "execute_result"
    }
   ],
   "source": [
    "chi_scorev2 = accuracy_score(y_test, y_hatv2)\n",
    "chi_scorev2 #adding threshold negatively effected score"
   ]
  },
  {
   "cell_type": "code",
   "execution_count": 346,
   "id": "53ceb9ea",
   "metadata": {},
   "outputs": [],
   "source": [
    "transform = SelectKBest(score_func=chi2, k=10)\n",
    "transform.fit(X_train2, y_train2)\n",
    "X_train2_fs = transform.transform(X_train2)"
   ]
  },
  {
   "cell_type": "code",
   "execution_count": 352,
   "id": "7ff83cfc",
   "metadata": {},
   "outputs": [],
   "source": [
    "pickl = {'transform': transform}\n",
    "pickle.dump(pickl, open('transform_file' + '.p', 'wb')) #creates restful flask"
   ]
  },
  {
   "cell_type": "code",
   "execution_count": 353,
   "id": "b1ede0d9",
   "metadata": {},
   "outputs": [
    {
     "data": {
      "text/plain": [
       "LogisticRegression(max_iter=1000, random_state=1)"
      ]
     },
     "execution_count": 353,
     "metadata": {},
     "output_type": "execute_result"
    }
   ],
   "source": [
    "best_model = model4\n",
    "best_model.fit(X_train2_fs, y_train2)"
   ]
  },
  {
   "cell_type": "code",
   "execution_count": 354,
   "id": "61327389",
   "metadata": {},
   "outputs": [],
   "source": [
    "pickl = {'model': best_model}\n",
    "pickle.dump(pickl, open('model_file' + '.p', 'wb')) #must move both files to model folder in FlaskAPI for API to work"
   ]
  },
  {
   "cell_type": "code",
   "execution_count": null,
   "id": "0cbfd1bf",
   "metadata": {},
   "outputs": [],
   "source": []
  },
  {
   "cell_type": "code",
   "execution_count": null,
   "id": "cc721b90",
   "metadata": {},
   "outputs": [],
   "source": []
  }
 ],
 "metadata": {
  "kernelspec": {
   "display_name": "Python 3 (ipykernel)",
   "language": "python",
   "name": "python3"
  },
  "language_info": {
   "codemirror_mode": {
    "name": "ipython",
    "version": 3
   },
   "file_extension": ".py",
   "mimetype": "text/x-python",
   "name": "python",
   "nbconvert_exporter": "python",
   "pygments_lexer": "ipython3",
   "version": "3.9.7"
  }
 },
 "nbformat": 4,
 "nbformat_minor": 5
}
